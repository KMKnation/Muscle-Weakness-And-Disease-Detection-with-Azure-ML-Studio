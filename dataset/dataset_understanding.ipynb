{
 "cells": [
  {
   "cell_type": "markdown",
   "metadata": {},
   "source": [
    "## Progressive Muscle Weakness (SPG4) and Disease Data"
   ]
  },
  {
   "cell_type": "code",
   "execution_count": 1,
   "metadata": {},
   "outputs": [],
   "source": [
    "import pandas as pd"
   ]
  },
  {
   "cell_type": "code",
   "execution_count": 11,
   "metadata": {},
   "outputs": [],
   "source": [
    "df = pd.read_csv('data.csv')"
   ]
  },
  {
   "cell_type": "code",
   "execution_count": 12,
   "metadata": {},
   "outputs": [
    {
     "data": {
      "text/html": [
       "<div>\n",
       "<style scoped>\n",
       "    .dataframe tbody tr th:only-of-type {\n",
       "        vertical-align: middle;\n",
       "    }\n",
       "\n",
       "    .dataframe tbody tr th {\n",
       "        vertical-align: top;\n",
       "    }\n",
       "\n",
       "    .dataframe thead th {\n",
       "        text-align: right;\n",
       "    }\n",
       "</style>\n",
       "<table border=\"1\" class=\"dataframe\">\n",
       "  <thead>\n",
       "    <tr style=\"text-align: right;\">\n",
       "      <th></th>\n",
       "      <th>Output</th>\n",
       "      <th>Identification no</th>\n",
       "      <th>Phenotype1</th>\n",
       "      <th>Phenotype2</th>\n",
       "      <th>Phenotype3</th>\n",
       "      <th>Phenotype4</th>\n",
       "      <th>Phenotype5</th>\n",
       "      <th>Phenotype6</th>\n",
       "      <th>Phenotype7</th>\n",
       "      <th>Phenotype8</th>\n",
       "      <th>...</th>\n",
       "      <th>Phenotype18</th>\n",
       "      <th>Phenotype19</th>\n",
       "      <th>Phenotype20</th>\n",
       "      <th>Phenotype21</th>\n",
       "      <th>Phenotype22</th>\n",
       "      <th>Phenotype23</th>\n",
       "      <th>Phenotype24</th>\n",
       "      <th>Phenotype25</th>\n",
       "      <th>Phenotype26</th>\n",
       "      <th>Phenotype27</th>\n",
       "    </tr>\n",
       "  </thead>\n",
       "  <tbody>\n",
       "    <tr>\n",
       "      <th>0</th>\n",
       "      <td>Control</td>\n",
       "      <td>10004</td>\n",
       "      <td>1540.120</td>\n",
       "      <td>340.452</td>\n",
       "      <td>1526</td>\n",
       "      <td>0.082500</td>\n",
       "      <td>0.062503</td>\n",
       "      <td>0.163843</td>\n",
       "      <td>0.092815</td>\n",
       "      <td>0.143364</td>\n",
       "      <td>...</td>\n",
       "      <td>15.3981</td>\n",
       "      <td>0.404702</td>\n",
       "      <td>0.938418</td>\n",
       "      <td>0.990156</td>\n",
       "      <td>1.07428</td>\n",
       "      <td>1.069980</td>\n",
       "      <td>1.001000</td>\n",
       "      <td>0.059006</td>\n",
       "      <td>0.013421</td>\n",
       "      <td>0.020324</td>\n",
       "    </tr>\n",
       "    <tr>\n",
       "      <th>1</th>\n",
       "      <td>Control</td>\n",
       "      <td>10004</td>\n",
       "      <td>1212.580</td>\n",
       "      <td>460.923</td>\n",
       "      <td>1067</td>\n",
       "      <td>0.279262</td>\n",
       "      <td>0.075173</td>\n",
       "      <td>0.137804</td>\n",
       "      <td>0.046705</td>\n",
       "      <td>0.397446</td>\n",
       "      <td>...</td>\n",
       "      <td>17.9765</td>\n",
       "      <td>0.448500</td>\n",
       "      <td>0.912965</td>\n",
       "      <td>1.151950</td>\n",
       "      <td>1.21383</td>\n",
       "      <td>0.935394</td>\n",
       "      <td>0.838522</td>\n",
       "      <td>0.075866</td>\n",
       "      <td>0.017636</td>\n",
       "      <td>0.024555</td>\n",
       "    </tr>\n",
       "    <tr>\n",
       "      <th>2</th>\n",
       "      <td>Control</td>\n",
       "      <td>10004</td>\n",
       "      <td>1372.290</td>\n",
       "      <td>377.957</td>\n",
       "      <td>1336</td>\n",
       "      <td>0.323579</td>\n",
       "      <td>0.031251</td>\n",
       "      <td>0.042559</td>\n",
       "      <td>0.075545</td>\n",
       "      <td>0.454749</td>\n",
       "      <td>...</td>\n",
       "      <td>19.8190</td>\n",
       "      <td>0.450494</td>\n",
       "      <td>0.904827</td>\n",
       "      <td>1.032370</td>\n",
       "      <td>1.20992</td>\n",
       "      <td>1.083610</td>\n",
       "      <td>0.989505</td>\n",
       "      <td>0.055997</td>\n",
       "      <td>0.014503</td>\n",
       "      <td>0.020494</td>\n",
       "    </tr>\n",
       "    <tr>\n",
       "      <th>3</th>\n",
       "      <td>Control</td>\n",
       "      <td>10004</td>\n",
       "      <td>1109.700</td>\n",
       "      <td>285.513</td>\n",
       "      <td>1066</td>\n",
       "      <td>0.379029</td>\n",
       "      <td>0.148827</td>\n",
       "      <td>0.219625</td>\n",
       "      <td>0.080124</td>\n",
       "      <td>0.563238</td>\n",
       "      <td>...</td>\n",
       "      <td>23.5758</td>\n",
       "      <td>0.526448</td>\n",
       "      <td>0.908984</td>\n",
       "      <td>0.981361</td>\n",
       "      <td>1.19113</td>\n",
       "      <td>1.124100</td>\n",
       "      <td>1.350820</td>\n",
       "      <td>0.043562</td>\n",
       "      <td>0.011661</td>\n",
       "      <td>0.017064</td>\n",
       "    </tr>\n",
       "    <tr>\n",
       "      <th>4</th>\n",
       "      <td>Control</td>\n",
       "      <td>10004</td>\n",
       "      <td>984.993</td>\n",
       "      <td>157.985</td>\n",
       "      <td>942</td>\n",
       "      <td>0.623692</td>\n",
       "      <td>0.049264</td>\n",
       "      <td>0.346898</td>\n",
       "      <td>0.062651</td>\n",
       "      <td>0.788922</td>\n",
       "      <td>...</td>\n",
       "      <td>31.0253</td>\n",
       "      <td>0.535624</td>\n",
       "      <td>0.942193</td>\n",
       "      <td>1.036050</td>\n",
       "      <td>1.23490</td>\n",
       "      <td>1.000970</td>\n",
       "      <td>0.954766</td>\n",
       "      <td>0.042217</td>\n",
       "      <td>0.012857</td>\n",
       "      <td>0.012653</td>\n",
       "    </tr>\n",
       "  </tbody>\n",
       "</table>\n",
       "<p>5 rows × 29 columns</p>\n",
       "</div>"
      ],
      "text/plain": [
       "    Output  Identification no  Phenotype1  Phenotype2  Phenotype3  Phenotype4  \\\n",
       "0  Control              10004    1540.120     340.452        1526    0.082500   \n",
       "1  Control              10004    1212.580     460.923        1067    0.279262   \n",
       "2  Control              10004    1372.290     377.957        1336    0.323579   \n",
       "3  Control              10004    1109.700     285.513        1066    0.379029   \n",
       "4  Control              10004     984.993     157.985         942    0.623692   \n",
       "\n",
       "   Phenotype5  Phenotype6  Phenotype7  Phenotype8  ...  Phenotype18  \\\n",
       "0    0.062503    0.163843    0.092815    0.143364  ...      15.3981   \n",
       "1    0.075173    0.137804    0.046705    0.397446  ...      17.9765   \n",
       "2    0.031251    0.042559    0.075545    0.454749  ...      19.8190   \n",
       "3    0.148827    0.219625    0.080124    0.563238  ...      23.5758   \n",
       "4    0.049264    0.346898    0.062651    0.788922  ...      31.0253   \n",
       "\n",
       "   Phenotype19  Phenotype20  Phenotype21  Phenotype22  Phenotype23  \\\n",
       "0     0.404702     0.938418     0.990156      1.07428     1.069980   \n",
       "1     0.448500     0.912965     1.151950      1.21383     0.935394   \n",
       "2     0.450494     0.904827     1.032370      1.20992     1.083610   \n",
       "3     0.526448     0.908984     0.981361      1.19113     1.124100   \n",
       "4     0.535624     0.942193     1.036050      1.23490     1.000970   \n",
       "\n",
       "   Phenotype24  Phenotype25  Phenotype26  Phenotype27  \n",
       "0     1.001000     0.059006     0.013421     0.020324  \n",
       "1     0.838522     0.075866     0.017636     0.024555  \n",
       "2     0.989505     0.055997     0.014503     0.020494  \n",
       "3     1.350820     0.043562     0.011661     0.017064  \n",
       "4     0.954766     0.042217     0.012857     0.012653  \n",
       "\n",
       "[5 rows x 29 columns]"
      ]
     },
     "execution_count": 12,
     "metadata": {},
     "output_type": "execute_result"
    }
   ],
   "source": [
    "df.head()"
   ]
  },
  {
   "cell_type": "code",
   "execution_count": 13,
   "metadata": {},
   "outputs": [
    {
     "data": {
      "text/plain": [
       "Control    42769\n",
       "Disease    32856\n",
       "SPG4        1982\n",
       "Name: Output, dtype: int64"
      ]
     },
     "execution_count": 13,
     "metadata": {},
     "output_type": "execute_result"
    }
   ],
   "source": [
    "df['Output'].value_counts()"
   ]
  },
  {
   "cell_type": "code",
   "execution_count": 14,
   "metadata": {},
   "outputs": [
    {
     "name": "stdout",
     "output_type": "stream",
     "text": [
      "<class 'pandas.core.frame.DataFrame'>\n",
      "RangeIndex: 77607 entries, 0 to 77606\n",
      "Data columns (total 29 columns):\n",
      "Output               77607 non-null object\n",
      "Identification no    77607 non-null int64\n",
      "Phenotype1           77607 non-null float64\n",
      "Phenotype2           77607 non-null float64\n",
      "Phenotype3           77607 non-null int64\n",
      "Phenotype4           77607 non-null float64\n",
      "Phenotype5           77607 non-null float64\n",
      "Phenotype6           77607 non-null float64\n",
      "Phenotype7           77607 non-null float64\n",
      "Phenotype8           77607 non-null float64\n",
      "Phenotype9           77607 non-null float64\n",
      "Phenotype10          77607 non-null float64\n",
      "Phenotype11          77607 non-null float64\n",
      "Phenotype12          77607 non-null float64\n",
      "Phenotype13          77607 non-null float64\n",
      "Phenotype14          77607 non-null float64\n",
      "Phenotype15          77607 non-null float64\n",
      "Phenotype16          77607 non-null float64\n",
      "Phenotype17          77607 non-null float64\n",
      "Phenotype18          77607 non-null float64\n",
      "Phenotype19          77607 non-null float64\n",
      "Phenotype20          77455 non-null float64\n",
      "Phenotype21          77454 non-null float64\n",
      "Phenotype22          77446 non-null float64\n",
      "Phenotype23          77607 non-null float64\n",
      "Phenotype24          77607 non-null float64\n",
      "Phenotype25          77607 non-null float64\n",
      "Phenotype26          77607 non-null float64\n",
      "Phenotype27          77607 non-null float64\n",
      "dtypes: float64(26), int64(2), object(1)\n",
      "memory usage: 17.2+ MB\n"
     ]
    }
   ],
   "source": [
    "df.info()"
   ]
  },
  {
   "cell_type": "code",
   "execution_count": 18,
   "metadata": {},
   "outputs": [],
   "source": [
    "raw_y = df['Output']\n",
    "del df['Output']\n",
    "del df['Identification no']\n",
    "raw_x = df\n",
    "\n",
    "labels_dict = {\"Control\": 0, \"Disease\": 1, \"SPG4\": 2}\n",
    "\n",
    "x = pd.get_dummies(raw_x)\n",
    "y = raw_y.replace(labels_dict)"
   ]
  },
  {
   "cell_type": "code",
   "execution_count": 25,
   "metadata": {},
   "outputs": [
    {
     "data": {
      "text/plain": [
       "Index(['Phenotype1', 'Phenotype2', 'Phenotype3', 'Phenotype4', 'Phenotype5',\n",
       "       'Phenotype6', 'Phenotype7', 'Phenotype8', 'Phenotype9', 'Phenotype10',\n",
       "       'Phenotype11', 'Phenotype12', 'Phenotype13', 'Phenotype14',\n",
       "       'Phenotype15', 'Phenotype16', 'Phenotype17', 'Phenotype18',\n",
       "       'Phenotype19', 'Phenotype20', 'Phenotype21', 'Phenotype22',\n",
       "       'Phenotype23', 'Phenotype24', 'Phenotype25', 'Phenotype26',\n",
       "       'Phenotype27'],\n",
       "      dtype='object')"
      ]
     },
     "execution_count": 25,
     "metadata": {},
     "output_type": "execute_result"
    }
   ],
   "source": [
    "test_data = {}\n",
    "for column in df.columns:\n",
    "    test_data[column] = 0"
   ]
  },
  {
   "cell_type": "code",
   "execution_count": 26,
   "metadata": {},
   "outputs": [
    {
     "name": "stdout",
     "output_type": "stream",
     "text": [
      "{'Phenotype3': 1526.0, 'Phenotype12': 0.48177299999999995, 'Phenotype9': 0.09160499999999999, 'Phenotype14': 0.632513, 'Phenotype20': 0.938418, 'Phenotype25': 0.0590057, 'Phenotype7': 0.0928148, 'Phenotype27': 0.0203235, 'Phenotype6': 0.16384300000000002, 'Phenotype13': 0.36327, 'Phenotype16': 14.8264, 'Phenotype5': 0.06250259999999999, 'Phenotype21': 0.9901559999999999, 'Phenotype2': 340.452, 'Phenotype17': 0.813646, 'Phenotype23': 1.06998, 'Phenotype18': 15.3981, 'Phenotype1': 1540.12, 'Phenotype26': 0.0134209, 'Phenotype19': 0.404702, 'Phenotype15': 2.04665, 'Phenotype4': 0.0825003, 'Phenotype10': 0.23433099999999998, 'Phenotype8': 0.14336400000000002, 'Phenotype22': 1.07428, 'Phenotype11': 0.147474, 'Phenotype24': 1.001}\n"
     ]
    }
   ],
   "source": [
    "for index, row in df.iterrows():\n",
    "    print(dict(row))\n",
    "    break"
   ]
  },
  {
   "cell_type": "code",
   "execution_count": null,
   "metadata": {},
   "outputs": [],
   "source": []
  }
 ],
 "metadata": {
  "kernelspec": {
   "display_name": "Python 3",
   "language": "python",
   "name": "python3"
  },
  "language_info": {
   "codemirror_mode": {
    "name": "ipython",
    "version": 3
   },
   "file_extension": ".py",
   "mimetype": "text/x-python",
   "name": "python",
   "nbconvert_exporter": "python",
   "pygments_lexer": "ipython3",
   "version": "3.5.2"
  }
 },
 "nbformat": 4,
 "nbformat_minor": 2
}
