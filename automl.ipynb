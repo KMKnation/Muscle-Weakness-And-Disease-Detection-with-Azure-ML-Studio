{
 "cells": [
  {
   "cell_type": "markdown",
   "metadata": {},
   "source": [
    "# Automated ML\n",
    "\n",
    "TODO: Import Dependencies. In the cell below, import all the dependencies that you will need to complete the project."
   ]
  },
  {
   "cell_type": "code",
   "execution_count": 28,
   "metadata": {
    "gather": {
     "logged": 1612885158212
    },
    "jupyter": {
     "outputs_hidden": false,
     "source_hidden": false
    },
    "nteract": {
     "transient": {
      "deleting": false
     }
    }
   },
   "outputs": [],
   "source": [
    "import os\n",
    "import numpy as np\n",
    "import joblib\n",
    "from azureml.core import Workspace, Experiment\n",
    "from sklearn.model_selection import train_test_split\n",
    "from sklearn.preprocessing import OneHotEncoder\n",
    "from azureml.core.run import Run\n",
    "from azureml.data.dataset_factory import TabularDatasetFactory\n",
    "from azureml.train.automl import AutoMLConfig\n",
    "from azureml.core.compute import ComputeTarget, AmlCompute\n",
    "from azureml.core.model import InferenceConfig\n",
    "from azureml.widgets import RunDetails\n",
    "from azureml.core.model import Model"
   ]
  },
  {
   "cell_type": "markdown",
   "metadata": {},
   "source": [
    "## Dataset\n",
    "\n",
    "### Overview\n",
    "\n",
    "In this project, we are going to classify the progressive muscle weakness and disease with the use of AutoML.\n",
    "\n",
    "The dataset is custom data curated from one of the health institution.\n",
    "\n",
    "The dataset contains 3 categories:\n",
    "1. Control\n",
    "    \n",
    "    Indicates whether muscle weakness is in control or not.\n",
    "    \n",
    "    \n",
    "2. SPG4\n",
    "    \n",
    "    **S pastic paraplegia 4 (SPG4)** is the most common type of hereditary spastic paraplegia (HSP) inherited in an autosomal dominant manner. Disease onset ranges from infancy to older adulthood. SPG4 is characterized by slowly progressive muscle weakness and spasticity (stiff or rigid muscles) in the lower half of the body. In rare cases, individuals may have a more complex form with seizures, ataxia, and dementia. SPG4 is caused by mutations in the SPAST gene. Severity of symptoms usually worsens over time, however some individuals remain mildly affected throughout their lives. Medications, such as antispastic drugs and physical therapy may aid in stretching spastic muscles and preventing contractures (fixed tightening of muscles) \n",
    "    \n",
    "    Source : https://rarediseases.info.nih.gov/diseases/4925/spastic-paraplegia-4\n",
    "    \n",
    "    \n",
    "3. Disease\n",
    "   \n",
    "   Indicates that the muscle weakness is there due to some desease.\n"
   ]
  },
  {
   "cell_type": "code",
   "execution_count": 4,
   "metadata": {
    "gather": {
     "logged": 1612880686167
    }
   },
   "outputs": [],
   "source": [
    "path = \"https://0547078f50ce.ngrok.io/data.csv\"\n",
    "\n",
    "ds = TabularDatasetFactory.from_delimited_files(path,\n",
    "                                                validate=True,\n",
    "                                                include_path=False,\n",
    "                                                infer_column_types=True,\n",
    "                                                separator=',',\n",
    "                                                header=True,\n",
    "                                                support_multi_line=False,\n",
    "                                                empty_as_string=False)\n"
   ]
  },
  {
   "cell_type": "code",
   "execution_count": 9,
   "metadata": {
    "gather": {
     "logged": 1612881130006
    },
    "jupyter": {
     "outputs_hidden": false,
     "source_hidden": false
    },
    "nteract": {
     "transient": {
      "deleting": false
     }
    }
   },
   "outputs": [
    {
     "name": "stdout",
     "output_type": "stream",
     "text": [
      "Workspace name: quick-starts-ws-138262\n",
      "Azure region: southcentralus\n",
      "Subscription id: 3e42d11f-d64d-4173-af9b-12ecaa1030b3\n",
      "Resource group: aml-quickstarts-138262\n"
     ]
    }
   ],
   "source": [
    "ws = Workspace.from_config()\n",
    "\n",
    "# choose a name for experiment\n",
    "experiment_name = 'mwd-automl'\n",
    "\n",
    "experiment=Experiment(ws, experiment_name)\n",
    "\n",
    "print('Workspace name: ' + ws.name, \n",
    "      'Azure region: ' + ws.location, \n",
    "      'Subscription id: ' + ws.subscription_id, \n",
    "      'Resource group: ' + ws.resource_group, sep = '\\n')"
   ]
  },
  {
   "cell_type": "code",
   "execution_count": 10,
   "metadata": {
    "gather": {
     "logged": 1612881135597
    }
   },
   "outputs": [
    {
     "name": "stdout",
     "output_type": "stream",
     "text": [
      "Found existing cluster, use it.\n"
     ]
    }
   ],
   "source": [
    "\n",
    "try:\n",
    "    cpu_cluster = ComputeTarget(workspace=ws, name=\"mwd-compute\")\n",
    "    print('Found existing cluster, use it.')\n",
    "except:\n",
    "    compute_config = AmlCompute.provisioning_configuration(vm_size='STANDARD_D2_V2', max_nodes=4)\n",
    "    cpu_cluster = ComputeTarget.create(ws,\"mwd-compute\", compute_config)"
   ]
  },
  {
   "cell_type": "markdown",
   "metadata": {},
   "source": [
    "## AutoML Configuration\n",
    "\n",
    "\n",
    "1. experiment_timeout_minutes : To stop the experiment by giving duration in minutes.\n",
    "2. primary_metric : This is the the target on which our Auto ML config tries to improve.\n",
    "3. enable_early_stopping: We have used this config to stop the experiment, if the primary_metric not improving.\n",
    "4. enable_voting_ensemble: We don't want to use VotingClassifier as it a combined result of multiple classifier.\n",
    "5. enable_stack_ensemble: We also disabled this option as it is stacked resilt of multiple classifier."
   ]
  },
  {
   "cell_type": "code",
   "execution_count": 11,
   "metadata": {
    "gather": {
     "logged": 1612881148597
    },
    "jupyter": {
     "outputs_hidden": false,
     "source_hidden": false
    },
    "nteract": {
     "transient": {
      "deleting": false
     }
    }
   },
   "outputs": [],
   "source": [
    "# TODO: Put your automl settings here\n",
    "automl_settings = {\n",
    "    \"experiment_timeout_minutes\": 30,\n",
    "    \"primary_metric\": 'accuracy',\n",
    "    \"n_cross_validations\": 5,\n",
    "    \"max_concurrent_iterations\": 4,\n",
    "    \"enable_early_stopping\": True,\n",
    "    \"enable_voting_ensemble\": False,\n",
    "    \"enable_stack_ensemble\": False\n",
    "}\n",
    "\n",
    "# TODO: Put your automl config here\n",
    "automl_config = AutoMLConfig(task=\"classification\",\n",
    "                            compute_target=cpu_cluster,\n",
    "                            training_data=ds,\n",
    "                            label_column_name=\"Output\",\n",
    "                            **automl_settings)\n"
   ]
  },
  {
   "cell_type": "code",
   "execution_count": 12,
   "metadata": {
    "gather": {
     "logged": 1612881196105
    },
    "jupyter": {
     "outputs_hidden": false,
     "source_hidden": false
    },
    "nteract": {
     "transient": {
      "deleting": false
     }
    }
   },
   "outputs": [
    {
     "name": "stdout",
     "output_type": "stream",
     "text": [
      "Running on remote.\n"
     ]
    }
   ],
   "source": [
    "auto_ml_run = experiment.submit(automl_config)"
   ]
  },
  {
   "cell_type": "markdown",
   "metadata": {},
   "source": [
    "## Run Details\n",
    "\n",
    "OPTIONAL: Write about the different models trained and their performance. Why do you think some models did better than others?"
   ]
  },
  {
   "cell_type": "code",
   "execution_count": 18,
   "metadata": {
    "gather": {
     "logged": 1612884736733
    },
    "jupyter": {
     "outputs_hidden": false,
     "source_hidden": false
    },
    "nteract": {
     "transient": {
      "deleting": false
     }
    }
   },
   "outputs": [
    {
     "name": "stdout",
     "output_type": "stream",
     "text": [
      "\n",
      "\n",
      "****************************************************************************************************\n",
      "DATA GUARDRAILS: \n",
      "\n",
      "TYPE:         Class balancing detection\n",
      "STATUS:       ALERTED\n",
      "DESCRIPTION:  To decrease model bias, please cancel the current run and fix balancing problem.\n",
      "              Learn more about imbalanced data: https://aka.ms/AutomatedMLImbalancedData\n",
      "DETAILS:      Imbalanced data can lead to a falsely perceived positive effect of a model's accuracy because the input data has bias towards one class.\n",
      "+---------------------------------+---------------------------------+--------------------------------------+\n",
      "|Size of the smallest class       |Name/Label of the smallest class |Number of samples in the training data|\n",
      "+=================================+=================================+======================================+\n",
      "|1982                             |SPG4                             |77607                                 |\n",
      "+---------------------------------+---------------------------------+--------------------------------------+\n",
      "\n",
      "****************************************************************************************************\n",
      "\n",
      "TYPE:         Missing feature values imputation\n",
      "STATUS:       DONE\n",
      "DESCRIPTION:  If the missing values are expected, let the run complete. Otherwise cancel the current run and use a script to customize the handling of missing feature values that may be more appropriate based on the data type and business requirement.\n",
      "              Learn more about missing value imputation: https://aka.ms/AutomatedMLFeaturization\n",
      "DETAILS:      \n",
      "+---------------------------------+---------------------------------+---------------------------------+\n",
      "|Column name                      |Missing value count              |Imputation type                  |\n",
      "+=================================+=================================+=================================+\n",
      "|Phenotype20                      |152                              |mean                             |\n",
      "|Phenotype21                      |153                              |mean                             |\n",
      "|Phenotype22                      |161                              |mean                             |\n",
      "+---------------------------------+---------------------------------+---------------------------------+\n"
     ]
    },
    {
     "data": {
      "text/plain": [
       "_AutoMLWidget(widget_settings={'childWidgetDisplay': 'popup', 'send_telemetry': False, 'log_level': 'INFO', 's…"
      ]
     },
     "metadata": {},
     "output_type": "display_data"
    },
    {
     "data": {},
     "metadata": {},
     "output_type": "display_data"
    },
    {
     "name": "stdout",
     "output_type": "stream",
     "text": [
      "\n",
      "****************************************************************************************************\n",
      "\n",
      "TYPE:         High cardinality feature detection\n",
      "STATUS:       PASSED\n",
      "DESCRIPTION:  Your inputs were analyzed, and no high cardinality features were detected.\n",
      "              Learn more about high cardinality feature handling: https://aka.ms/AutomatedMLFeaturization\n",
      "\n",
      "****************************************************************************************************\n",
      "\n",
      "****************************************************************************************************\n",
      "ITERATION: The iteration being evaluated.\n",
      "PIPELINE: A summary description of the pipeline being evaluated.\n",
      "DURATION: Time taken for the current iteration.\n",
      "METRIC: The result of computing score on the fitted pipeline.\n",
      "BEST: The best observed score thus far.\n",
      "****************************************************************************************************\n",
      "\n",
      " ITERATION   PIPELINE                                       DURATION      METRIC      BEST\n",
      "         0   MaxAbsScaler LightGBM                          0:02:46       0.9784    0.9784\n",
      "         1   MaxAbsScaler XGBoostClassifier                 0:04:12       0.9786    0.9786\n",
      "         2   MaxAbsScaler RandomForest                      0:02:35       0.9197    0.9786\n",
      "         3   MaxAbsScaler RandomForest                      0:01:00       0.7203    0.9786\n",
      "         4   MaxAbsScaler RandomForest                      0:02:38       0.8115    0.9786\n",
      "         5   MaxAbsScaler RandomForest                      0:01:10       0.7405    0.9786\n",
      "         6   SparseNormalizer XGBoostClassifier             0:04:42       0.9784    0.9786\n",
      "         7   SparseNormalizer XGBoostClassifier             0:03:28       0.9760    0.9786\n",
      "        10   SparseNormalizer XGBoostClassifier             0:04:05       0.9786    0.9786\n",
      "        11   MaxAbsScaler LightGBM                          0:01:14       0.8248    0.9786\n",
      "         8   SparseNormalizer XGBoostClassifier             0:05:44       0.9786    0.9786\n",
      "         9   SparseNormalizer XGBoostClassifier             0:01:34       0.9632    0.9786\n",
      "        12   StandardScalerWrapper RandomForest             0:03:29       0.9391    0.9786\n",
      "        13   MaxAbsScaler LogisticRegression                0:01:44       0.9775    0.9786\n",
      "        14   StandardScalerWrapper LogisticRegression       0:01:55       0.9782    0.9786\n",
      "        15   SparseNormalizer LightGBM                      0:01:34       0.8902    0.9786\n",
      "        16   StandardScalerWrapper LightGBM                 0:01:12       0.9247    0.9786\n",
      "        17   MaxAbsScaler ExtremeRandomTrees                0:05:52       0.7739    0.9786\n",
      "        18   MaxAbsScaler LightGBM                          0:01:13       0.9740    0.9786\n",
      "        19   SparseNormalizer XGBoostClassifier             0:03:11       0.9763    0.9786\n",
      "        20   StandardScalerWrapper XGBoostClassifier        0:01:47       0.9776    0.9786\n",
      "        21   SparseNormalizer XGBoostClassifier             0:02:20       0.9717    0.9786\n",
      "        22   SparseNormalizer XGBoostClassifier             0:02:43       0.9735    0.9786\n",
      "        23   MaxAbsScaler LightGBM                          0:01:10       0.7446    0.9786\n",
      "        24   SparseNormalizer XGBoostClassifier             0:01:46       0.9601    0.9786\n",
      "        25   TruncatedSVDWrapper XGBoostClassifier          0:01:06       0.7070    0.9786\n",
      "        26   MaxAbsScaler RandomForest                      0:01:12       0.6406    0.9786\n",
      "        27   MaxAbsScaler ExtremeRandomTrees                0:01:00       0.9515    0.9786\n",
      "        28   StandardScalerWrapper XGBoostClassifier        0:01:54       0.9788    0.9788\n",
      "        29   SparseNormalizer XGBoostClassifier             0:05:03       0.9785    0.9788\n",
      "        30   TruncatedSVDWrapper XGBoostClassifier          0:01:05       0.5511    0.9788\n",
      "        31   StandardScalerWrapper XGBoostClassifier        0:01:44       0.9766    0.9788\n",
      "        32   SparseNormalizer XGBoostClassifier             0:07:13       0.9782    0.9788\n",
      "        33   StandardScalerWrapper LogisticRegression       0:02:28       0.9783    0.9788\n",
      "        34   StandardScalerWrapper XGBoostClassifier        0:01:40       0.9781    0.9788\n",
      "        35   SparseNormalizer XGBoostClassifier             0:07:03          nan    0.9788\n",
      "ERROR: {\n",
      "    \"additional_properties\": {},\n",
      "    \"error\": {\n",
      "        \"additional_properties\": {\n",
      "            \"debugInfo\": null\n",
      "        },\n",
      "        \"code\": \"UserError\",\n",
      "        \"severity\": null,\n",
      "        \"message\": \"Experiment timeout reached, please consider increasing your experiment timeout.\",\n",
      "        \"message_format\": \"Experiment timeout reached, please consider increasing your experiment timeout.\",\n",
      "        \"message_parameters\": {},\n",
      "        \"reference_code\": null,\n",
      "        \"details_uri\": null,\n",
      "        \"target\": null,\n",
      "        \"details\": [],\n",
      "        \"inner_error\": {\n",
      "            \"additional_properties\": {},\n",
      "            \"code\": \"ResourceExhausted\",\n",
      "            \"inner_error\": {\n",
      "                \"additional_properties\": {},\n",
      "                \"code\": \"Timeout\",\n",
      "                \"inner_error\": {\n",
      "                    \"additional_properties\": {},\n",
      "                    \"code\": \"ExperimentTimeoutForIterations\",\n",
      "                    \"inner_error\": null\n",
      "                }\n",
      "            }\n",
      "        }\n",
      "    },\n",
      "    \"correlation\": null,\n",
      "    \"environment\": null,\n",
      "    \"location\": null,\n",
      "    \"time\": {},\n",
      "    \"component_name\": null\n",
      "}\n",
      "        36   StandardScalerWrapper XGBoostClassifier        0:06:48          nan    0.9788\n",
      "ERROR: {\n",
      "    \"additional_properties\": {},\n",
      "    \"error\": {\n",
      "        \"additional_properties\": {\n",
      "            \"debugInfo\": null\n",
      "        },\n",
      "        \"code\": \"UserError\",\n",
      "        \"severity\": null,\n",
      "        \"message\": \"Experiment timeout reached, please consider increasing your experiment timeout.\",\n",
      "        \"message_format\": \"Experiment timeout reached, please consider increasing your experiment timeout.\",\n",
      "        \"message_parameters\": {},\n",
      "        \"reference_code\": null,\n",
      "        \"details_uri\": null,\n",
      "        \"target\": null,\n",
      "        \"details\": [],\n",
      "        \"inner_error\": {\n",
      "            \"additional_properties\": {},\n",
      "            \"code\": \"ResourceExhausted\",\n",
      "            \"inner_error\": {\n",
      "                \"additional_properties\": {},\n",
      "                \"code\": \"Timeout\",\n",
      "                \"inner_error\": {\n",
      "                    \"additional_properties\": {},\n",
      "                    \"code\": \"ExperimentTimeoutForIterations\",\n",
      "                    \"inner_error\": null\n",
      "                }\n",
      "            }\n",
      "        }\n",
      "    },\n",
      "    \"correlation\": null,\n",
      "    \"environment\": null,\n",
      "    \"location\": null,\n",
      "    \"time\": {},\n",
      "    \"component_name\": null\n",
      "}\n",
      "        37   StandardScalerWrapper XGBoostClassifier        0:06:21          nan    0.9788\n",
      "ERROR: {\n",
      "    \"additional_properties\": {},\n",
      "    \"error\": {\n",
      "        \"additional_properties\": {\n",
      "            \"debugInfo\": null\n",
      "        },\n",
      "        \"code\": \"UserError\",\n",
      "        \"severity\": null,\n",
      "        \"message\": \"Experiment timeout reached, please consider increasing your experiment timeout.\",\n",
      "        \"message_format\": \"Experiment timeout reached, please consider increasing your experiment timeout.\",\n",
      "        \"message_parameters\": {},\n",
      "        \"reference_code\": null,\n",
      "        \"details_uri\": null,\n",
      "        \"target\": null,\n",
      "        \"details\": [],\n",
      "        \"inner_error\": {\n",
      "            \"additional_properties\": {},\n",
      "            \"code\": \"ResourceExhausted\",\n",
      "            \"inner_error\": {\n",
      "                \"additional_properties\": {},\n",
      "                \"code\": \"Timeout\",\n",
      "                \"inner_error\": {\n",
      "                    \"additional_properties\": {},\n",
      "                    \"code\": \"ExperimentTimeoutForIterations\",\n",
      "                    \"inner_error\": null\n",
      "                }\n",
      "            }\n",
      "        }\n",
      "    },\n",
      "    \"correlation\": null,\n",
      "    \"environment\": null,\n",
      "    \"location\": null,\n",
      "    \"time\": {},\n",
      "    \"component_name\": null\n",
      "}\n",
      "        38   StandardScalerWrapper LogisticRegression       0:02:12       0.9782    0.9788\n"
     ]
    },
    {
     "data": {
      "text/plain": [
       "{'runId': 'AutoML_28268a08-9643-4d77-84d6-ff7f89e0ec72',\n",
       " 'target': 'mwd-compute',\n",
       " 'status': 'Completed',\n",
       " 'startTimeUtc': '2021-02-09T14:33:30.633083Z',\n",
       " 'endTimeUtc': '2021-02-09T15:21:56.680881Z',\n",
       " 'properties': {'num_iterations': '1000',\n",
       "  'training_type': 'TrainFull',\n",
       "  'acquisition_function': 'EI',\n",
       "  'primary_metric': 'accuracy',\n",
       "  'train_split': '0',\n",
       "  'acquisition_parameter': '0',\n",
       "  'num_cross_validation': '5',\n",
       "  'target': 'mwd-compute',\n",
       "  'AMLSettingsJsonString': '{\"path\":null,\"name\":\"mwd-automl\",\"subscription_id\":\"3e42d11f-d64d-4173-af9b-12ecaa1030b3\",\"resource_group\":\"aml-quickstarts-138262\",\"workspace_name\":\"quick-starts-ws-138262\",\"region\":\"southcentralus\",\"compute_target\":\"mwd-compute\",\"spark_service\":null,\"azure_service\":\"remote\",\"many_models\":false,\"pipeline_fetch_max_batch_size\":1,\"iterations\":1000,\"primary_metric\":\"accuracy\",\"task_type\":\"classification\",\"data_script\":null,\"validation_size\":0.0,\"n_cross_validations\":5,\"y_min\":null,\"y_max\":null,\"num_classes\":null,\"featurization\":\"auto\",\"_ignore_package_version_incompatibilities\":false,\"is_timeseries\":false,\"max_cores_per_iteration\":1,\"max_concurrent_iterations\":4,\"iteration_timeout_minutes\":null,\"mem_in_mb\":null,\"enforce_time_on_windows\":false,\"experiment_timeout_minutes\":30,\"experiment_exit_score\":null,\"whitelist_models\":null,\"blacklist_algos\":[\"TensorFlowLinearClassifier\",\"TensorFlowDNN\"],\"supported_models\":[\"LightGBM\",\"SVM\",\"SGD\",\"TensorFlowLinearClassifier\",\"AveragedPerceptronClassifier\",\"BernoulliNaiveBayes\",\"ExtremeRandomTrees\",\"RandomForest\",\"TensorFlowDNN\",\"LogisticRegression\",\"KNN\",\"MultinomialNaiveBayes\",\"GradientBoosting\",\"DecisionTree\",\"LinearSVM\",\"XGBoostClassifier\"],\"auto_blacklist\":true,\"blacklist_samples_reached\":false,\"exclude_nan_labels\":true,\"verbosity\":20,\"_debug_log\":\"azureml_automl.log\",\"show_warnings\":false,\"model_explainability\":true,\"service_url\":null,\"sdk_url\":null,\"sdk_packages\":null,\"enable_onnx_compatible_models\":false,\"enable_split_onnx_featurizer_estimator_models\":false,\"vm_type\":\"STANDARD_DS12_V2\",\"telemetry_verbosity\":20,\"send_telemetry\":true,\"enable_dnn\":false,\"scenario\":\"SDK-1.13.0\",\"environment_label\":null,\"force_text_dnn\":false,\"enable_feature_sweeping\":true,\"enable_early_stopping\":true,\"early_stopping_n_iters\":10,\"metrics\":null,\"enable_ensembling\":false,\"enable_stack_ensembling\":false,\"ensemble_iterations\":15,\"enable_tf\":false,\"enable_subsampling\":null,\"subsample_seed\":null,\"enable_nimbusml\":false,\"enable_streaming\":false,\"force_streaming\":false,\"track_child_runs\":true,\"allowed_private_models\":[],\"label_column_name\":\"Output\",\"weight_column_name\":null,\"cv_split_column_names\":null,\"enable_local_managed\":false,\"_local_managed_run_id\":null,\"cost_mode\":1,\"lag_length\":0,\"metric_operation\":\"maximize\",\"preprocess\":true}',\n",
       "  'DataPrepJsonString': '{\\\\\"training_data\\\\\": \\\\\"{\\\\\\\\\\\\\"blocks\\\\\\\\\\\\\": [{\\\\\\\\\\\\\"id\\\\\\\\\\\\\": \\\\\\\\\\\\\"894dc17c-1411-4b0d-b582-7dc370a958c5\\\\\\\\\\\\\", \\\\\\\\\\\\\"type\\\\\\\\\\\\\": \\\\\\\\\\\\\"Microsoft.DPrep.GetFilesBlock\\\\\\\\\\\\\", \\\\\\\\\\\\\"arguments\\\\\\\\\\\\\": {\\\\\\\\\\\\\"isArchive\\\\\\\\\\\\\": false, \\\\\\\\\\\\\"path\\\\\\\\\\\\\": {\\\\\\\\\\\\\"target\\\\\\\\\\\\\": 4, \\\\\\\\\\\\\"resourceDetails\\\\\\\\\\\\\": [{\\\\\\\\\\\\\"path\\\\\\\\\\\\\": \\\\\\\\\\\\\"https://0547078f50ce.ngrok.io/data.csv\\\\\\\\\\\\\"}]}}, \\\\\\\\\\\\\"localData\\\\\\\\\\\\\": {}, \\\\\\\\\\\\\"isEnabled\\\\\\\\\\\\\": true, \\\\\\\\\\\\\"name\\\\\\\\\\\\\": null, \\\\\\\\\\\\\"annotation\\\\\\\\\\\\\": null}, {\\\\\\\\\\\\\"id\\\\\\\\\\\\\": \\\\\\\\\\\\\"ccb542a9-1e3c-460d-9498-d5f2dd838f04\\\\\\\\\\\\\", \\\\\\\\\\\\\"type\\\\\\\\\\\\\": \\\\\\\\\\\\\"Microsoft.DPrep.ParseDelimitedBlock\\\\\\\\\\\\\", \\\\\\\\\\\\\"arguments\\\\\\\\\\\\\": {\\\\\\\\\\\\\"columnHeadersMode\\\\\\\\\\\\\": 3, \\\\\\\\\\\\\"fileEncoding\\\\\\\\\\\\\": 0, \\\\\\\\\\\\\"handleQuotedLineBreaks\\\\\\\\\\\\\": false, \\\\\\\\\\\\\"preview\\\\\\\\\\\\\": false, \\\\\\\\\\\\\"separator\\\\\\\\\\\\\": \\\\\\\\\\\\\",\\\\\\\\\\\\\", \\\\\\\\\\\\\"skipRows\\\\\\\\\\\\\": 0, \\\\\\\\\\\\\"skipRowsMode\\\\\\\\\\\\\": 0}, \\\\\\\\\\\\\"localData\\\\\\\\\\\\\": {}, \\\\\\\\\\\\\"isEnabled\\\\\\\\\\\\\": true, \\\\\\\\\\\\\"name\\\\\\\\\\\\\": null, \\\\\\\\\\\\\"annotation\\\\\\\\\\\\\": null}, {\\\\\\\\\\\\\"id\\\\\\\\\\\\\": \\\\\\\\\\\\\"50af7073-e321-40ac-9679-6db8be9eca8b\\\\\\\\\\\\\", \\\\\\\\\\\\\"type\\\\\\\\\\\\\": \\\\\\\\\\\\\"Microsoft.DPrep.DropColumnsBlock\\\\\\\\\\\\\", \\\\\\\\\\\\\"arguments\\\\\\\\\\\\\": {\\\\\\\\\\\\\"columns\\\\\\\\\\\\\": {\\\\\\\\\\\\\"type\\\\\\\\\\\\\": 0, \\\\\\\\\\\\\"details\\\\\\\\\\\\\": {\\\\\\\\\\\\\"selectedColumns\\\\\\\\\\\\\": [\\\\\\\\\\\\\"Path\\\\\\\\\\\\\"]}}}, \\\\\\\\\\\\\"localData\\\\\\\\\\\\\": {}, \\\\\\\\\\\\\"isEnabled\\\\\\\\\\\\\": true, \\\\\\\\\\\\\"name\\\\\\\\\\\\\": null, \\\\\\\\\\\\\"annotation\\\\\\\\\\\\\": null}, {\\\\\\\\\\\\\"id\\\\\\\\\\\\\": \\\\\\\\\\\\\"ac323cfa-9e37-46be-9277-ab2feb638b48\\\\\\\\\\\\\", \\\\\\\\\\\\\"type\\\\\\\\\\\\\": \\\\\\\\\\\\\"Microsoft.DPrep.SetColumnTypesBlock\\\\\\\\\\\\\", \\\\\\\\\\\\\"arguments\\\\\\\\\\\\\": {\\\\\\\\\\\\\"columnConversion\\\\\\\\\\\\\": [{\\\\\\\\\\\\\"column\\\\\\\\\\\\\": {\\\\\\\\\\\\\"type\\\\\\\\\\\\\": 2, \\\\\\\\\\\\\"details\\\\\\\\\\\\\": {\\\\\\\\\\\\\"selectedColumn\\\\\\\\\\\\\": \\\\\\\\\\\\\"Output\\\\\\\\\\\\\"}}, \\\\\\\\\\\\\"typeProperty\\\\\\\\\\\\\": 0}, {\\\\\\\\\\\\\"column\\\\\\\\\\\\\": {\\\\\\\\\\\\\"type\\\\\\\\\\\\\": 2, \\\\\\\\\\\\\"details\\\\\\\\\\\\\": {\\\\\\\\\\\\\"selectedColumn\\\\\\\\\\\\\": \\\\\\\\\\\\\"Identification no\\\\\\\\\\\\\"}}, \\\\\\\\\\\\\"typeProperty\\\\\\\\\\\\\": 2}, {\\\\\\\\\\\\\"column\\\\\\\\\\\\\": {\\\\\\\\\\\\\"type\\\\\\\\\\\\\": 2, \\\\\\\\\\\\\"details\\\\\\\\\\\\\": {\\\\\\\\\\\\\"selectedColumn\\\\\\\\\\\\\": \\\\\\\\\\\\\"Phenotype1\\\\\\\\\\\\\"}}, \\\\\\\\\\\\\"typeProperty\\\\\\\\\\\\\": 3}, {\\\\\\\\\\\\\"column\\\\\\\\\\\\\": {\\\\\\\\\\\\\"type\\\\\\\\\\\\\": 2, \\\\\\\\\\\\\"details\\\\\\\\\\\\\": {\\\\\\\\\\\\\"selectedColumn\\\\\\\\\\\\\": \\\\\\\\\\\\\"Phenotype2\\\\\\\\\\\\\"}}, \\\\\\\\\\\\\"typeProperty\\\\\\\\\\\\\": 3}, {\\\\\\\\\\\\\"column\\\\\\\\\\\\\": {\\\\\\\\\\\\\"type\\\\\\\\\\\\\": 2, \\\\\\\\\\\\\"details\\\\\\\\\\\\\": {\\\\\\\\\\\\\"selectedColumn\\\\\\\\\\\\\": \\\\\\\\\\\\\"Phenotype3\\\\\\\\\\\\\"}}, \\\\\\\\\\\\\"typeProperty\\\\\\\\\\\\\": 2}, {\\\\\\\\\\\\\"column\\\\\\\\\\\\\": {\\\\\\\\\\\\\"type\\\\\\\\\\\\\": 2, \\\\\\\\\\\\\"details\\\\\\\\\\\\\": {\\\\\\\\\\\\\"selectedColumn\\\\\\\\\\\\\": \\\\\\\\\\\\\"Phenotype4\\\\\\\\\\\\\"}}, \\\\\\\\\\\\\"typeProperty\\\\\\\\\\\\\": 3}, {\\\\\\\\\\\\\"column\\\\\\\\\\\\\": {\\\\\\\\\\\\\"type\\\\\\\\\\\\\": 2, \\\\\\\\\\\\\"details\\\\\\\\\\\\\": {\\\\\\\\\\\\\"selectedColumn\\\\\\\\\\\\\": \\\\\\\\\\\\\"Phenotype5\\\\\\\\\\\\\"}}, \\\\\\\\\\\\\"typeProperty\\\\\\\\\\\\\": 3}, {\\\\\\\\\\\\\"column\\\\\\\\\\\\\": {\\\\\\\\\\\\\"type\\\\\\\\\\\\\": 2, \\\\\\\\\\\\\"details\\\\\\\\\\\\\": {\\\\\\\\\\\\\"selectedColumn\\\\\\\\\\\\\": \\\\\\\\\\\\\"Phenotype6\\\\\\\\\\\\\"}}, \\\\\\\\\\\\\"typeProperty\\\\\\\\\\\\\": 3}, {\\\\\\\\\\\\\"column\\\\\\\\\\\\\": {\\\\\\\\\\\\\"type\\\\\\\\\\\\\": 2, \\\\\\\\\\\\\"details\\\\\\\\\\\\\": {\\\\\\\\\\\\\"selectedColumn\\\\\\\\\\\\\": \\\\\\\\\\\\\"Phenotype7\\\\\\\\\\\\\"}}, \\\\\\\\\\\\\"typeProperty\\\\\\\\\\\\\": 3}, {\\\\\\\\\\\\\"column\\\\\\\\\\\\\": {\\\\\\\\\\\\\"type\\\\\\\\\\\\\": 2, \\\\\\\\\\\\\"details\\\\\\\\\\\\\": {\\\\\\\\\\\\\"selectedColumn\\\\\\\\\\\\\": \\\\\\\\\\\\\"Phenotype8\\\\\\\\\\\\\"}}, \\\\\\\\\\\\\"typeProperty\\\\\\\\\\\\\": 3}, {\\\\\\\\\\\\\"column\\\\\\\\\\\\\": {\\\\\\\\\\\\\"type\\\\\\\\\\\\\": 2, \\\\\\\\\\\\\"details\\\\\\\\\\\\\": {\\\\\\\\\\\\\"selectedColumn\\\\\\\\\\\\\": \\\\\\\\\\\\\"Phenotype9\\\\\\\\\\\\\"}}, \\\\\\\\\\\\\"typeProperty\\\\\\\\\\\\\": 3}, {\\\\\\\\\\\\\"column\\\\\\\\\\\\\": {\\\\\\\\\\\\\"type\\\\\\\\\\\\\": 2, \\\\\\\\\\\\\"details\\\\\\\\\\\\\": {\\\\\\\\\\\\\"selectedColumn\\\\\\\\\\\\\": \\\\\\\\\\\\\"Phenotype10\\\\\\\\\\\\\"}}, \\\\\\\\\\\\\"typeProperty\\\\\\\\\\\\\": 3}, {\\\\\\\\\\\\\"column\\\\\\\\\\\\\": {\\\\\\\\\\\\\"type\\\\\\\\\\\\\": 2, \\\\\\\\\\\\\"details\\\\\\\\\\\\\": {\\\\\\\\\\\\\"selectedColumn\\\\\\\\\\\\\": \\\\\\\\\\\\\"Phenotype11\\\\\\\\\\\\\"}}, \\\\\\\\\\\\\"typeProperty\\\\\\\\\\\\\": 3}, {\\\\\\\\\\\\\"column\\\\\\\\\\\\\": {\\\\\\\\\\\\\"type\\\\\\\\\\\\\": 2, \\\\\\\\\\\\\"details\\\\\\\\\\\\\": {\\\\\\\\\\\\\"selectedColumn\\\\\\\\\\\\\": \\\\\\\\\\\\\"Phenotype12\\\\\\\\\\\\\"}}, \\\\\\\\\\\\\"typeProperty\\\\\\\\\\\\\": 3}, {\\\\\\\\\\\\\"column\\\\\\\\\\\\\": {\\\\\\\\\\\\\"type\\\\\\\\\\\\\": 2, \\\\\\\\\\\\\"details\\\\\\\\\\\\\": {\\\\\\\\\\\\\"selectedColumn\\\\\\\\\\\\\": \\\\\\\\\\\\\"Phenotype13\\\\\\\\\\\\\"}}, \\\\\\\\\\\\\"typeProperty\\\\\\\\\\\\\": 3}, {\\\\\\\\\\\\\"column\\\\\\\\\\\\\": {\\\\\\\\\\\\\"type\\\\\\\\\\\\\": 2, \\\\\\\\\\\\\"details\\\\\\\\\\\\\": {\\\\\\\\\\\\\"selectedColumn\\\\\\\\\\\\\": \\\\\\\\\\\\\"Phenotype14\\\\\\\\\\\\\"}}, \\\\\\\\\\\\\"typeProperty\\\\\\\\\\\\\": 3}, {\\\\\\\\\\\\\"column\\\\\\\\\\\\\": {\\\\\\\\\\\\\"type\\\\\\\\\\\\\": 2, \\\\\\\\\\\\\"details\\\\\\\\\\\\\": {\\\\\\\\\\\\\"selectedColumn\\\\\\\\\\\\\": \\\\\\\\\\\\\"Phenotype15\\\\\\\\\\\\\"}}, \\\\\\\\\\\\\"typeProperty\\\\\\\\\\\\\": 3}, {\\\\\\\\\\\\\"column\\\\\\\\\\\\\": {\\\\\\\\\\\\\"type\\\\\\\\\\\\\": 2, \\\\\\\\\\\\\"details\\\\\\\\\\\\\": {\\\\\\\\\\\\\"selectedColumn\\\\\\\\\\\\\": \\\\\\\\\\\\\"Phenotype16\\\\\\\\\\\\\"}}, \\\\\\\\\\\\\"typeProperty\\\\\\\\\\\\\": 3}, {\\\\\\\\\\\\\"column\\\\\\\\\\\\\": {\\\\\\\\\\\\\"type\\\\\\\\\\\\\": 2, \\\\\\\\\\\\\"details\\\\\\\\\\\\\": {\\\\\\\\\\\\\"selectedColumn\\\\\\\\\\\\\": \\\\\\\\\\\\\"Phenotype17\\\\\\\\\\\\\"}}, \\\\\\\\\\\\\"typeProperty\\\\\\\\\\\\\": 3}, {\\\\\\\\\\\\\"column\\\\\\\\\\\\\": {\\\\\\\\\\\\\"type\\\\\\\\\\\\\": 2, \\\\\\\\\\\\\"details\\\\\\\\\\\\\": {\\\\\\\\\\\\\"selectedColumn\\\\\\\\\\\\\": \\\\\\\\\\\\\"Phenotype18\\\\\\\\\\\\\"}}, \\\\\\\\\\\\\"typeProperty\\\\\\\\\\\\\": 3}, {\\\\\\\\\\\\\"column\\\\\\\\\\\\\": {\\\\\\\\\\\\\"type\\\\\\\\\\\\\": 2, \\\\\\\\\\\\\"details\\\\\\\\\\\\\": {\\\\\\\\\\\\\"selectedColumn\\\\\\\\\\\\\": \\\\\\\\\\\\\"Phenotype19\\\\\\\\\\\\\"}}, \\\\\\\\\\\\\"typeProperty\\\\\\\\\\\\\": 3}, {\\\\\\\\\\\\\"column\\\\\\\\\\\\\": {\\\\\\\\\\\\\"type\\\\\\\\\\\\\": 2, \\\\\\\\\\\\\"details\\\\\\\\\\\\\": {\\\\\\\\\\\\\"selectedColumn\\\\\\\\\\\\\": \\\\\\\\\\\\\"Phenotype20\\\\\\\\\\\\\"}}, \\\\\\\\\\\\\"typeProperty\\\\\\\\\\\\\": 3}, {\\\\\\\\\\\\\"column\\\\\\\\\\\\\": {\\\\\\\\\\\\\"type\\\\\\\\\\\\\": 2, \\\\\\\\\\\\\"details\\\\\\\\\\\\\": {\\\\\\\\\\\\\"selectedColumn\\\\\\\\\\\\\": \\\\\\\\\\\\\"Phenotype21\\\\\\\\\\\\\"}}, \\\\\\\\\\\\\"typeProperty\\\\\\\\\\\\\": 3}, {\\\\\\\\\\\\\"column\\\\\\\\\\\\\": {\\\\\\\\\\\\\"type\\\\\\\\\\\\\": 2, \\\\\\\\\\\\\"details\\\\\\\\\\\\\": {\\\\\\\\\\\\\"selectedColumn\\\\\\\\\\\\\": \\\\\\\\\\\\\"Phenotype22\\\\\\\\\\\\\"}}, \\\\\\\\\\\\\"typeProperty\\\\\\\\\\\\\": 3}, {\\\\\\\\\\\\\"column\\\\\\\\\\\\\": {\\\\\\\\\\\\\"type\\\\\\\\\\\\\": 2, \\\\\\\\\\\\\"details\\\\\\\\\\\\\": {\\\\\\\\\\\\\"selectedColumn\\\\\\\\\\\\\": \\\\\\\\\\\\\"Phenotype23\\\\\\\\\\\\\"}}, \\\\\\\\\\\\\"typeProperty\\\\\\\\\\\\\": 3}, {\\\\\\\\\\\\\"column\\\\\\\\\\\\\": {\\\\\\\\\\\\\"type\\\\\\\\\\\\\": 2, \\\\\\\\\\\\\"details\\\\\\\\\\\\\": {\\\\\\\\\\\\\"selectedColumn\\\\\\\\\\\\\": \\\\\\\\\\\\\"Phenotype24\\\\\\\\\\\\\"}}, \\\\\\\\\\\\\"typeProperty\\\\\\\\\\\\\": 3}, {\\\\\\\\\\\\\"column\\\\\\\\\\\\\": {\\\\\\\\\\\\\"type\\\\\\\\\\\\\": 2, \\\\\\\\\\\\\"details\\\\\\\\\\\\\": {\\\\\\\\\\\\\"selectedColumn\\\\\\\\\\\\\": \\\\\\\\\\\\\"Phenotype25\\\\\\\\\\\\\"}}, \\\\\\\\\\\\\"typeProperty\\\\\\\\\\\\\": 3}, {\\\\\\\\\\\\\"column\\\\\\\\\\\\\": {\\\\\\\\\\\\\"type\\\\\\\\\\\\\": 2, \\\\\\\\\\\\\"details\\\\\\\\\\\\\": {\\\\\\\\\\\\\"selectedColumn\\\\\\\\\\\\\": \\\\\\\\\\\\\"Phenotype26\\\\\\\\\\\\\"}}, \\\\\\\\\\\\\"typeProperty\\\\\\\\\\\\\": 3}, {\\\\\\\\\\\\\"column\\\\\\\\\\\\\": {\\\\\\\\\\\\\"type\\\\\\\\\\\\\": 2, \\\\\\\\\\\\\"details\\\\\\\\\\\\\": {\\\\\\\\\\\\\"selectedColumn\\\\\\\\\\\\\": \\\\\\\\\\\\\"Phenotype27\\\\\\\\\\\\\"}}, \\\\\\\\\\\\\"typeProperty\\\\\\\\\\\\\": 3}]}, \\\\\\\\\\\\\"localData\\\\\\\\\\\\\": {}, \\\\\\\\\\\\\"isEnabled\\\\\\\\\\\\\": true, \\\\\\\\\\\\\"name\\\\\\\\\\\\\": null, \\\\\\\\\\\\\"annotation\\\\\\\\\\\\\": null}], \\\\\\\\\\\\\"inspectors\\\\\\\\\\\\\": [], \\\\\\\\\\\\\"meta\\\\\\\\\\\\\": {\\\\\\\\\\\\\"savedDatasetId\\\\\\\\\\\\\": \\\\\\\\\\\\\"5b572d4d-61a5-40e4-b220-0fc3a5070065\\\\\\\\\\\\\", \\\\\\\\\\\\\"datasetType\\\\\\\\\\\\\": \\\\\\\\\\\\\"tabular\\\\\\\\\\\\\", \\\\\\\\\\\\\"subscriptionId\\\\\\\\\\\\\": \\\\\\\\\\\\\"3e42d11f-d64d-4173-af9b-12ecaa1030b3\\\\\\\\\\\\\", \\\\\\\\\\\\\"workspaceId\\\\\\\\\\\\\": \\\\\\\\\\\\\"faaddac1-a395-4b66-8494-b1feff0a296e\\\\\\\\\\\\\", \\\\\\\\\\\\\"workspaceLocation\\\\\\\\\\\\\": \\\\\\\\\\\\\"southcentralus\\\\\\\\\\\\\"}}\\\\\", \\\\\"activities\\\\\": 0}',\n",
       "  'EnableSubsampling': None,\n",
       "  'runTemplate': 'AutoML',\n",
       "  'azureml.runsource': 'automl',\n",
       "  'display_task_type': 'classification',\n",
       "  'dependencies_versions': '{\"azureml-widgets\": \"1.20.0\", \"azureml-train\": \"1.20.0\", \"azureml-train-restclients-hyperdrive\": \"1.20.0\", \"azureml-train-core\": \"1.20.0\", \"azureml-train-automl\": \"1.20.0\", \"azureml-train-automl-runtime\": \"1.20.0\", \"azureml-train-automl-client\": \"1.20.0\", \"azureml-tensorboard\": \"1.20.0\", \"azureml-telemetry\": \"1.20.0\", \"azureml-sdk\": \"1.20.0\", \"azureml-samples\": \"0+unknown\", \"azureml-pipeline\": \"1.20.0\", \"azureml-pipeline-steps\": \"1.20.0\", \"azureml-pipeline-core\": \"1.20.0\", \"azureml-opendatasets\": \"1.20.0\", \"azureml-model-management-sdk\": \"1.0.1b6.post1\", \"azureml-mlflow\": \"1.20.0.post1\", \"azureml-interpret\": \"1.20.0\", \"azureml-explain-model\": \"1.20.0\", \"azureml-defaults\": \"1.20.0\", \"azureml-dataset-runtime\": \"1.20.0\", \"azureml-dataprep\": \"2.7.3\", \"azureml-dataprep-rslex\": \"1.5.0\", \"azureml-dataprep-native\": \"27.0.0\", \"azureml-datadrift\": \"1.20.0\", \"azureml-core\": \"1.20.0\", \"azureml-contrib-services\": \"1.20.0\", \"azureml-contrib-server\": \"1.20.0\", \"azureml-contrib-reinforcementlearning\": \"1.20.0\", \"azureml-contrib-pipeline-steps\": \"1.20.0\", \"azureml-contrib-notebook\": \"1.20.0\", \"azureml-contrib-interpret\": \"1.20.0\", \"azureml-contrib-gbdt\": \"1.20.0\", \"azureml-contrib-fairness\": \"1.20.0\", \"azureml-contrib-dataset\": \"1.20.0\", \"azureml-cli-common\": \"1.20.0\", \"azureml-automl-runtime\": \"1.20.0\", \"azureml-automl-core\": \"1.20.0\", \"azureml-accel-models\": \"1.20.0\"}',\n",
       "  '_aml_system_scenario_identification': 'Remote.Parent',\n",
       "  'ClientType': 'SDK',\n",
       "  'environment_cpu_name': 'AzureML-AutoML',\n",
       "  'environment_cpu_label': 'prod',\n",
       "  'environment_gpu_name': 'AzureML-AutoML-GPU',\n",
       "  'environment_gpu_label': 'prod',\n",
       "  'root_attribution': 'automl',\n",
       "  'attribution': 'AutoML',\n",
       "  'Orchestrator': 'AutoML',\n",
       "  'CancelUri': 'https://southcentralus.experiments.azureml.net/jasmine/v1.0/subscriptions/3e42d11f-d64d-4173-af9b-12ecaa1030b3/resourceGroups/aml-quickstarts-138262/providers/Microsoft.MachineLearningServices/workspaces/quick-starts-ws-138262/experimentids/885555fc-a661-4783-9deb-3e0a2dbc0ebf/cancel/AutoML_28268a08-9643-4d77-84d6-ff7f89e0ec72',\n",
       "  'ClientSdkVersion': '1.21.0',\n",
       "  'snapshotId': '00000000-0000-0000-0000-000000000000',\n",
       "  'SetupRunId': 'AutoML_28268a08-9643-4d77-84d6-ff7f89e0ec72_setup',\n",
       "  'SetupRunContainerId': 'dcid.AutoML_28268a08-9643-4d77-84d6-ff7f89e0ec72_setup',\n",
       "  'FeaturizationRunJsonPath': 'featurizer_container.json',\n",
       "  'FeaturizationRunId': 'AutoML_28268a08-9643-4d77-84d6-ff7f89e0ec72_featurize',\n",
       "  'ProblemInfoJsonString': '{\"dataset_num_categorical\": 0, \"is_sparse\": true, \"subsampling\": false, \"dataset_classes\": 3, \"dataset_features\": 51, \"dataset_samples\": 77607, \"single_frequency_class_detected\": false}',\n",
       "  'ModelExplainRunId': 'AutoML_28268a08-9643-4d77-84d6-ff7f89e0ec72_ModelExplain'},\n",
       " 'inputDatasets': [{'dataset': {'id': '5b572d4d-61a5-40e4-b220-0fc3a5070065'}, 'consumptionDetails': {'type': 'RunInput', 'inputName': 'training_data', 'mechanism': 'Direct'}}],\n",
       " 'outputDatasets': [],\n",
       " 'logFiles': {},\n",
       " 'submittedBy': 'ODL_User 138262'}"
      ]
     },
     "execution_count": 18,
     "metadata": {},
     "output_type": "execute_result"
    }
   ],
   "source": [
    "RunDetails(auto_ml_run).show()\n",
    "auto_ml_run.wait_for_completion(show_output=True)"
   ]
  },
  {
   "cell_type": "markdown",
   "metadata": {},
   "source": [
    "## Best Model\n",
    "\n",
    "TODO: In the cell below, get the best model from the automl experiments and display all the properties of the model.\n",
    "\n"
   ]
  },
  {
   "cell_type": "code",
   "execution_count": 19,
   "metadata": {
    "gather": {
     "logged": 1612884820993
    },
    "jupyter": {
     "outputs_hidden": false,
     "source_hidden": false
    },
    "nteract": {
     "transient": {
      "deleting": false
     }
    }
   },
   "outputs": [
    {
     "name": "stderr",
     "output_type": "stream",
     "text": [
      "WARNING:root:The version of the SDK does not match the version the model was trained on.\n",
      "WARNING:root:The consistency in the result may not be guaranteed.\n",
      "WARNING:root:Package:azureml-automl-core, training version:1.21.0, current version:1.20.0\n",
      "Package:azureml-automl-runtime, training version:1.21.0, current version:1.20.0\n",
      "Package:azureml-core, training version:1.21.0.post1, current version:1.20.0\n",
      "Package:azureml-dataprep, training version:2.8.2, current version:2.7.3\n",
      "Package:azureml-dataprep-native, training version:28.0.0, current version:27.0.0\n",
      "Package:azureml-dataprep-rslex, training version:1.6.0, current version:1.5.0\n",
      "Package:azureml-dataset-runtime, training version:1.21.0, current version:1.20.0\n",
      "Package:azureml-defaults, training version:1.21.0, current version:1.20.0\n",
      "Package:azureml-interpret, training version:1.21.0, current version:1.20.0\n",
      "Package:azureml-pipeline-core, training version:1.21.0, current version:1.20.0\n",
      "Package:azureml-telemetry, training version:1.21.0, current version:1.20.0\n",
      "Package:azureml-train-automl-client, training version:1.21.0, current version:1.20.0\n",
      "Package:azureml-train-automl-runtime, training version:1.21.0, current version:1.20.0\n",
      "WARNING:root:Please ensure the version of your local conda dependencies match the version on which your model was trained in order to properly retrieve your model.\n"
     ]
    },
    {
     "name": "stdout",
     "output_type": "stream",
     "text": [
      "norm_macro_recall 0.69610639627683\n",
      "accuracy 0.9788162943877733\n",
      "precision_score_weighted 0.975797015097897\n",
      "recall_score_micro 0.9788162943877733\n",
      "precision_score_micro 0.9788162943877733\n",
      "f1_score_micro 0.9788162943877733\n",
      "recall_score_macro 0.7974042641845533\n",
      "AUC_weighted 0.9992258632855819\n",
      "f1_score_weighted 0.9765576653431175\n",
      "recall_score_weighted 0.9788162943877733\n",
      "AUC_macro 0.9958976149031014\n",
      "average_precision_score_micro 0.998922409162803\n",
      "precision_score_macro 0.86631292898749\n",
      "average_precision_score_macro 0.8716601930172736\n",
      "weighted_accuracy 0.9939731970116057\n",
      "log_loss 0.046501558149861504\n",
      "AUC_micro 0.9994530173547848\n",
      "f1_score_macro 0.8229774817998374\n",
      "matthews_correlation 0.9588881058847024\n",
      "balanced_accuracy 0.7974042641845533\n",
      "average_precision_score_weighted 0.9895669636024567\n",
      "accuracy_table aml://artifactId/ExperimentRun/dcid.AutoML_28268a08-9643-4d77-84d6-ff7f89e0ec72_28/accuracy_table\n",
      "confusion_matrix aml://artifactId/ExperimentRun/dcid.AutoML_28268a08-9643-4d77-84d6-ff7f89e0ec72_28/confusion_matrix\n"
     ]
    }
   ],
   "source": [
    "# Retrieve and save your best automl model.\n",
    "\n",
    "best_run, best_model = auto_ml_run.get_output()\n",
    "\n",
    "best_run_metrics = best_run.get_metrics()\n",
    "for metric_name in best_run_metrics:\n",
    "    metric = best_run_metrics[metric_name]\n",
    "    print(metric_name, metric)\n"
   ]
  },
  {
   "cell_type": "code",
   "execution_count": 20,
   "metadata": {
    "gather": {
     "logged": 1612884836415
    }
   },
   "outputs": [
    {
     "data": {
      "text/plain": [
       "[('datatransformer',\n",
       "  DataTransformer(enable_dnn=None, enable_feature_sweeping=None,\n",
       "                  feature_sweeping_config=None, feature_sweeping_timeout=None,\n",
       "                  featurization_config=None, force_text_dnn=None,\n",
       "                  is_cross_validation=None, is_onnx_compatible=None, logger=None,\n",
       "                  observer=None, task=None, working_dir=None)),\n",
       " ('StandardScalerWrapper',\n",
       "  <azureml.automl.runtime.shared.model_wrappers.StandardScalerWrapper at 0x7f253a2dae10>),\n",
       " ('XGBoostClassifier',\n",
       "  XGBoostClassifier(base_score=0.5, booster='gbtree', colsample_bylevel=1,\n",
       "                    colsample_bynode=1, colsample_bytree=0.9, eta=0.001, gamma=0,\n",
       "                    grow_policy='lossguide', learning_rate=0.1, max_bin=255,\n",
       "                    max_delta_step=0, max_depth=10, max_leaves=7,\n",
       "                    min_child_weight=1, missing=nan, n_estimators=100, n_jobs=1,\n",
       "                    nthread=None, objective='multi:softprob', random_state=0,\n",
       "                    reg_alpha=0, reg_lambda=0.20833333333333334,\n",
       "                    scale_pos_weight=1, seed=None, silent=None, subsample=0.6,\n",
       "                    tree_method='hist', verbose=-10, verbosity=0))]"
      ]
     },
     "execution_count": 20,
     "metadata": {},
     "output_type": "execute_result"
    }
   ],
   "source": [
    "best_model.steps"
   ]
  },
  {
   "cell_type": "code",
   "execution_count": 21,
   "metadata": {
    "gather": {
     "logged": 1612884857073
    },
    "jupyter": {
     "outputs_hidden": false,
     "source_hidden": false
    },
    "nteract": {
     "transient": {
      "deleting": false
     }
    }
   },
   "outputs": [],
   "source": [
    "best_run.download_file(\"/outputs/model.pkl\", \"automl_job_classification-best-model.pkl\")"
   ]
  },
  {
   "cell_type": "markdown",
   "metadata": {},
   "source": [
    "## Model Deployment\n",
    "\n",
    "Remember you have to deploy only one of the two models you trained.. Perform the steps in the rest of this notebook only if you wish to deploy this model.\n",
    "\n",
    "TODO: In the cell below, register the model, create an inference config and deploy the model as a web service."
   ]
  },
  {
   "cell_type": "code",
   "execution_count": 22,
   "metadata": {
    "gather": {
     "logged": 1612884870812
    },
    "jupyter": {
     "outputs_hidden": false,
     "source_hidden": false
    },
    "nteract": {
     "transient": {
      "deleting": false
     }
    }
   },
   "outputs": [],
   "source": [
    "model = best_run.register_model(experiment_name+\"-model\", model_path=\"outputs/model.pkl\")\n"
   ]
  },
  {
   "cell_type": "code",
   "execution_count": 24,
   "metadata": {
    "gather": {
     "logged": 1612884885867
    }
   },
   "outputs": [],
   "source": [
    "best_run.download_file('outputs/model.pkl', './model.pkl')"
   ]
  },
  {
   "cell_type": "code",
   "execution_count": 26,
   "metadata": {
    "gather": {
     "logged": 1612884913477
    }
   },
   "outputs": [],
   "source": [
    "best_run.download_file('outputs/scoring_file_v_1_0_0.py', './score.py')"
   ]
  },
  {
   "cell_type": "code",
   "execution_count": 29,
   "metadata": {
    "gather": {
     "logged": 1612885413474
    }
   },
   "outputs": [
    {
     "name": "stdout",
     "output_type": "stream",
     "text": [
      "Tips: You can try get_logs(): https://aka.ms/debugimage#dockerlog or local deployment: https://aka.ms/debugimage#debug-locally to debug if deployment takes longer than 10 minutes.\n",
      "Running..............................................\n",
      "Succeeded\n",
      "ACI service creation operation finished, operation \"Succeeded\"\n",
      "Healthy\n"
     ]
    }
   ],
   "source": [
    "inference_config = InferenceConfig(entry_script='./score.py')\n",
    "\n",
    "service = Model.deploy(ws, experiment_name+\"-service\", [model], inference_config, overwrite=True)\n",
    "service.wait_for_deployment(show_output = True)\n",
    "print(service.state)"
   ]
  },
  {
   "cell_type": "markdown",
   "metadata": {
    "collapsed": true,
    "gather": {
     "logged": 1598431657736
    },
    "jupyter": {
     "outputs_hidden": false,
     "source_hidden": false
    },
    "nteract": {
     "transient": {
      "deleting": false
     }
    }
   },
   "source": [
    "TODO: In the cell below, send a request to the web service you deployed to test it."
   ]
  },
  {
   "cell_type": "code",
   "execution_count": 33,
   "metadata": {},
   "outputs": [
    {
     "name": "stdout",
     "output_type": "stream",
     "text": [
      "b'\"{\\\\\"result\\\\\": [\\\\\"Disease\\\\\"]}\"'\r\n"
     ]
    }
   ],
   "source": [
    "!python endpoint.py"
   ]
  },
  {
   "cell_type": "markdown",
   "metadata": {
    "collapsed": true,
    "gather": {
     "logged": 1598432765711
    },
    "jupyter": {
     "outputs_hidden": false,
     "source_hidden": false
    },
    "nteract": {
     "transient": {
      "deleting": false
     }
    }
   },
   "source": [
    "TODO: In the cell below, print the logs of the web service and delete the service"
   ]
  },
  {
   "cell_type": "code",
   "execution_count": 34,
   "metadata": {
    "gather": {
     "logged": 1612886064139
    },
    "jupyter": {
     "outputs_hidden": false,
     "source_hidden": false
    },
    "nteract": {
     "transient": {
      "deleting": false
     }
    }
   },
   "outputs": [
    {
     "data": {
      "text/plain": [
       "'2021-02-09T15:41:55,742627800+00:00 - iot-server/run \\n2021-02-09T15:41:55,839630500+00:00 - rsyslog/run \\n2021-02-09T15:41:55,852329000+00:00 - nginx/run \\n/usr/sbin/nginx: /azureml-envs/azureml_20a8278aa8b20dd48cc50f56a6d2586c/lib/libcrypto.so.1.0.0: no version information available (required by /usr/sbin/nginx)\\n/usr/sbin/nginx: /azureml-envs/azureml_20a8278aa8b20dd48cc50f56a6d2586c/lib/libcrypto.so.1.0.0: no version information available (required by /usr/sbin/nginx)\\n/usr/sbin/nginx: /azureml-envs/azureml_20a8278aa8b20dd48cc50f56a6d2586c/lib/libssl.so.1.0.0: no version information available (required by /usr/sbin/nginx)\\n/usr/sbin/nginx: /azureml-envs/azureml_20a8278aa8b20dd48cc50f56a6d2586c/lib/libssl.so.1.0.0: no version information available (required by /usr/sbin/nginx)\\n/usr/sbin/nginx: /azureml-envs/azureml_20a8278aa8b20dd48cc50f56a6d2586c/lib/libssl.so.1.0.0: no version information available (required by /usr/sbin/nginx)\\n2021-02-09T15:41:55,959736200+00:00 - gunicorn/run \\nrsyslogd: /azureml-envs/azureml_20a8278aa8b20dd48cc50f56a6d2586c/lib/libuuid.so.1: no version information available (required by rsyslogd)\\nEdgeHubConnectionString and IOTEDGE_IOTHUBHOSTNAME are not set. Exiting...\\n2021-02-09T15:42:03,039465400+00:00 - iot-server/finish 1 0\\n2021-02-09T15:42:03,041143500+00:00 - Exit code 1 is normal. Not restarting iot-server.\\nStarting gunicorn 19.9.0\\nListening at: http://127.0.0.1:31311 (63)\\nUsing worker: sync\\nworker timeout is set to 300\\nBooting worker with pid: 97\\nSPARK_HOME not set. Skipping PySpark Initialization.\\nGenerating new fontManager, this may take some time...\\nInitializing logger\\n2021-02-09 15:42:32,558 | root | INFO | Starting up app insights client\\n2021-02-09 15:42:32,560 | root | INFO | Starting up request id generator\\n2021-02-09 15:42:32,560 | root | INFO | Starting up app insight hooks\\n2021-02-09 15:42:32,561 | root | INFO | Invoking user\\'s init function\\n2021-02-09 15:43:27,757 | root | INFO | Users\\'s init has completed successfully\\n2021-02-09 15:43:27,941 | root | INFO | Skipping middleware: dbg_model_info as it\\'s not enabled.\\n2021-02-09 15:43:27,942 | root | INFO | Skipping middleware: dbg_resource_usage as it\\'s not enabled.\\n2021-02-09 15:43:27,969 | root | INFO | Scoring timeout is found from os.environ: 60000 ms\\n2021-02-09 15:43:29,361 | root | INFO | 200\\n127.0.0.1 - - [09/Feb/2021:15:43:29 +0000] \"GET /swagger.json HTTP/1.0\" 200 4062 \"-\" \"Go-http-client/1.1\"\\n2021-02-09 15:43:32,371 | root | INFO | 200\\n127.0.0.1 - - [09/Feb/2021:15:43:32 +0000] \"GET /swagger.json HTTP/1.0\" 200 4062 \"-\" \"Go-http-client/1.1\"\\n2021-02-09 15:44:05,693 | root | INFO | 200\\n127.0.0.1 - - [09/Feb/2021:15:44:05 +0000] \"GET /swagger.json HTTP/1.0\" 200 4062 \"-\" \"Go-http-client/1.1\"\\n2021-02-09 15:44:06,664 | root | INFO | 200\\n127.0.0.1 - - [09/Feb/2021:15:44:06 +0000] \"GET /swagger.json HTTP/1.0\" 200 4062 \"-\" \"Go-http-client/1.1\"\\n2021-02-09 15:51:05,971 | root | INFO | 200\\n127.0.0.1 - - [09/Feb/2021:15:51:05 +0000] \"GET /swagger.json HTTP/1.0\" 200 4062 \"-\" \"Go-http-client/1.1\"\\n2021-02-09 15:51:06,484 | root | INFO | 200\\n127.0.0.1 - - [09/Feb/2021:15:51:06 +0000] \"GET /swagger.json HTTP/1.0\" 200 4062 \"-\" \"Go-http-client/1.1\"\\n2021-02-09 15:51:09,575 | root | INFO | 200\\n127.0.0.1 - - [09/Feb/2021:15:51:09 +0000] \"GET /swagger.json HTTP/1.0\" 200 4062 \"-\" \"Mozilla/5.0 (Windows NT 10.0; Win64; x64) AppleWebKit/537.36 (KHTML, like Gecko) Chrome/86.0.4240.75 Safari/537.36\"\\n127.0.0.1 - - [09/Feb/2021:15:51:09 +0000] \"GET /favicon.ico HTTP/1.0\" 404 232 \"http://5af42fb2-502b-4281-8a72-64f5722f362f.southcentralus.azurecontainer.io/swagger.json\" \"Mozilla/5.0 (Windows NT 10.0; Win64; x64) AppleWebKit/537.36 (KHTML, like Gecko) Chrome/86.0.4240.75 Safari/537.36\"\\n2021-02-09 15:51:39,533 | root | INFO | 200\\n127.0.0.1 - - [09/Feb/2021:15:51:39 +0000] \"GET /swagger.json HTTP/1.0\" 200 4062 \"-\" \"Go-http-client/1.1\"\\n2021-02-09 15:51:39,799 | root | INFO | 200\\n127.0.0.1 - - [09/Feb/2021:15:51:39 +0000] \"GET /swagger.json HTTP/1.0\" 200 4062 \"-\" \"Go-http-client/1.1\"\\n2021-02-09 15:52:48,279 | root | INFO | Validation Request Content-Type\\n2021-02-09 15:52:48,290 | root | ERROR | Encountered Exception: Traceback (most recent call last):\\n  File \"/azureml-envs/azureml_20a8278aa8b20dd48cc50f56a6d2586c/lib/python3.6/site-packages/flask/wrappers.py\", line 74, in get_json\\n    rv = json.loads(data)\\n  File \"/azureml-envs/azureml_20a8278aa8b20dd48cc50f56a6d2586c/lib/python3.6/site-packages/flask/json/__init__.py\", line 236, in loads\\n    return _json.loads(s, **kwargs)\\n  File \"/azureml-envs/azureml_20a8278aa8b20dd48cc50f56a6d2586c/lib/python3.6/json/__init__.py\", line 367, in loads\\n    return cls(**kw).decode(s)\\n  File \"/azureml-envs/azureml_20a8278aa8b20dd48cc50f56a6d2586c/lib/python3.6/json/decoder.py\", line 339, in decode\\n    obj, end = self.raw_decode(s, idx=_w(s, 0).end())\\n  File \"/azureml-envs/azureml_20a8278aa8b20dd48cc50f56a6d2586c/lib/python3.6/json/decoder.py\", line 357, in raw_decode\\n    raise JSONDecodeError(\"Expecting value\", s, err.value) from None\\njson.decoder.JSONDecodeError: Expecting value: line 1 column 1 (char 0)\\n\\nDuring handling of the above exception, another exception occurred:\\n\\nTraceback (most recent call last):\\n  File \"/azureml-envs/azureml_20a8278aa8b20dd48cc50f56a6d2586c/lib/python3.6/site-packages/flask/app.py\", line 1832, in full_dispatch_request\\n    rv = self.dispatch_request()\\n  File \"/azureml-envs/azureml_20a8278aa8b20dd48cc50f56a6d2586c/lib/python3.6/site-packages/flask/app.py\", line 1818, in dispatch_request\\n    return self.view_functions[rule.endpoint](**req.view_args)\\n  File \"/var/azureml-server/synchronous/routes.py\", line 37, in score_realtime\\n    service_input = request.get_json()\\n  File \"/azureml-envs/azureml_20a8278aa8b20dd48cc50f56a6d2586c/lib/python3.6/site-packages/flask/wrappers.py\", line 82, in get_json\\n    rv = self.on_json_loading_failed(e)\\n  File \"/azureml-envs/azureml_20a8278aa8b20dd48cc50f56a6d2586c/lib/python3.6/site-packages/flask/wrappers.py\", line 108, in on_json_loading_failed\\n    raise BadRequest()\\nwerkzeug.exceptions.BadRequest: 400 Bad Request: The browser (or proxy) sent a request that this server could not understand.\\n\\n2021-02-09 15:52:48,291 | root | INFO | 500\\n127.0.0.1 - - [09/Feb/2021:15:52:48 +0000] \"POST /score HTTP/1.0\" 500 2067 \"-\" \"python-requests/2.25.1\"\\n2021-02-09 15:52:48,300 | root | INFO | Validation Request Content-Type\\n2021-02-09 15:52:48,301 | root | ERROR | Encountered Exception: Traceback (most recent call last):\\n  File \"/azureml-envs/azureml_20a8278aa8b20dd48cc50f56a6d2586c/lib/python3.6/site-packages/flask/wrappers.py\", line 74, in get_json\\n    rv = json.loads(data)\\n  File \"/azureml-envs/azureml_20a8278aa8b20dd48cc50f56a6d2586c/lib/python3.6/site-packages/flask/json/__init__.py\", line 236, in loads\\n    return _json.loads(s, **kwargs)\\n  File \"/azureml-envs/azureml_20a8278aa8b20dd48cc50f56a6d2586c/lib/python3.6/json/__init__.py\", line 367, in loads\\n    return cls(**kw).decode(s)\\n  File \"/azureml-envs/azureml_20a8278aa8b20dd48cc50f56a6d2586c/lib/python3.6/json/decoder.py\", line 339, in decode\\n    obj, end = self.raw_decode(s, idx=_w(s, 0).end())\\n  File \"/azureml-envs/azureml_20a8278aa8b20dd48cc50f56a6d2586c/lib/python3.6/json/decoder.py\", line 357, in raw_decode\\n    raise JSONDecodeError(\"Expecting value\", s, err.value) from None\\njson.decoder.JSONDecodeError: Expecting value: line 1 column 1 (char 0)\\n\\nDuring handling of the above exception, another exception occurred:\\n\\nTraceback (most recent call last):\\n  File \"/azureml-envs/azureml_20a8278aa8b20dd48cc50f56a6d2586c/lib/python3.6/site-packages/flask/app.py\", line 1832, in full_dispatch_request\\n    rv = self.dispatch_request()\\n  File \"/azureml-envs/azureml_20a8278aa8b20dd48cc50f56a6d2586c/lib/python3.6/site-packages/flask/app.py\", line 1818, in dispatch_request\\n    return self.view_functions[rule.endpoint](**req.view_args)\\n  File \"/var/azureml-server/synchronous/routes.py\", line 37, in score_realtime\\n    service_input = request.get_json()\\n  File \"/azureml-envs/azureml_20a8278aa8b20dd48cc50f56a6d2586c/lib/python3.6/site-packages/flask/wrappers.py\", line 82, in get_json\\n    rv = self.on_json_loading_failed(e)\\n  File \"/azureml-envs/azureml_20a8278aa8b20dd48cc50f56a6d2586c/lib/python3.6/site-packages/flask/wrappers.py\", line 108, in on_json_loading_failed\\n    raise BadRequest()\\nwerkzeug.exceptions.BadRequest: 400 Bad Request: The browser (or proxy) sent a request that this server could not understand.\\n\\n2021-02-09 15:52:48,301 | root | INFO | 500\\n127.0.0.1 - - [09/Feb/2021:15:52:48 +0000] \"POST /score HTTP/1.0\" 500 2067 \"-\" \"python-requests/2.25.1\"\\n2021-02-09 15:52:49,310 | root | INFO | Validation Request Content-Type\\n2021-02-09 15:52:49,311 | root | ERROR | Encountered Exception: Traceback (most recent call last):\\n  File \"/azureml-envs/azureml_20a8278aa8b20dd48cc50f56a6d2586c/lib/python3.6/site-packages/flask/wrappers.py\", line 74, in get_json\\n    rv = json.loads(data)\\n  File \"/azureml-envs/azureml_20a8278aa8b20dd48cc50f56a6d2586c/lib/python3.6/site-packages/flask/json/__init__.py\", line 236, in loads\\n    return _json.loads(s, **kwargs)\\n  File \"/azureml-envs/azureml_20a8278aa8b20dd48cc50f56a6d2586c/lib/python3.6/json/__init__.py\", line 367, in loads\\n    return cls(**kw).decode(s)\\n  File \"/azureml-envs/azureml_20a8278aa8b20dd48cc50f56a6d2586c/lib/python3.6/json/decoder.py\", line 339, in decode\\n    obj, end = self.raw_decode(s, idx=_w(s, 0).end())\\n  File \"/azureml-envs/azureml_20a8278aa8b20dd48cc50f56a6d2586c/lib/python3.6/json/decoder.py\", line 357, in raw_decode\\n    raise JSONDecodeError(\"Expecting value\", s, err.value) from None\\njson.decoder.JSONDecodeError: Expecting value: line 1 column 1 (char 0)\\n\\nDuring handling of the above exception, another exception occurred:\\n\\nTraceback (most recent call last):\\n  File \"/azureml-envs/azureml_20a8278aa8b20dd48cc50f56a6d2586c/lib/python3.6/site-packages/flask/app.py\", line 1832, in full_dispatch_request\\n    rv = self.dispatch_request()\\n  File \"/azureml-envs/azureml_20a8278aa8b20dd48cc50f56a6d2586c/lib/python3.6/site-packages/flask/app.py\", line 1818, in dispatch_request\\n    return self.view_functions[rule.endpoint](**req.view_args)\\n  File \"/var/azureml-server/synchronous/routes.py\", line 37, in score_realtime\\n    service_input = request.get_json()\\n  File \"/azureml-envs/azureml_20a8278aa8b20dd48cc50f56a6d2586c/lib/python3.6/site-packages/flask/wrappers.py\", line 82, in get_json\\n    rv = self.on_json_loading_failed(e)\\n  File \"/azureml-envs/azureml_20a8278aa8b20dd48cc50f56a6d2586c/lib/python3.6/site-packages/flask/wrappers.py\", line 108, in on_json_loading_failed\\n    raise BadRequest()\\nwerkzeug.exceptions.BadRequest: 400 Bad Request: The browser (or proxy) sent a request that this server could not understand.\\n\\n2021-02-09 15:52:49,311 | root | INFO | 500\\n127.0.0.1 - - [09/Feb/2021:15:52:49 +0000] \"POST /score HTTP/1.0\" 500 2067 \"-\" \"python-requests/2.25.1\"\\n2021-02-09 15:52:51,331 | root | INFO | Validation Request Content-Type\\n2021-02-09 15:52:51,332 | root | ERROR | Encountered Exception: Traceback (most recent call last):\\n  File \"/azureml-envs/azureml_20a8278aa8b20dd48cc50f56a6d2586c/lib/python3.6/site-packages/flask/wrappers.py\", line 74, in get_json\\n    rv = json.loads(data)\\n  File \"/azureml-envs/azureml_20a8278aa8b20dd48cc50f56a6d2586c/lib/python3.6/site-packages/flask/json/__init__.py\", line 236, in loads\\n    return _json.loads(s, **kwargs)\\n  File \"/azureml-envs/azureml_20a8278aa8b20dd48cc50f56a6d2586c/lib/python3.6/json/__init__.py\", line 367, in loads\\n    return cls(**kw).decode(s)\\n  File \"/azureml-envs/azureml_20a8278aa8b20dd48cc50f56a6d2586c/lib/python3.6/json/decoder.py\", line 339, in decode\\n    obj, end = self.raw_decode(s, idx=_w(s, 0).end())\\n  File \"/azureml-envs/azureml_20a8278aa8b20dd48cc50f56a6d2586c/lib/python3.6/json/decoder.py\", line 357, in raw_decode\\n    raise JSONDecodeError(\"Expecting value\", s, err.value) from None\\njson.decoder.JSONDecodeError: Expecting value: line 1 column 1 (char 0)\\n\\nDuring handling of the above exception, another exception occurred:\\n\\nTraceback (most recent call last):\\n  File \"/azureml-envs/azureml_20a8278aa8b20dd48cc50f56a6d2586c/lib/python3.6/site-packages/flask/app.py\", line 1832, in full_dispatch_request\\n    rv = self.dispatch_request()\\n  File \"/azureml-envs/azureml_20a8278aa8b20dd48cc50f56a6d2586c/lib/python3.6/site-packages/flask/app.py\", line 1818, in dispatch_request\\n    return self.view_functions[rule.endpoint](**req.view_args)\\n  File \"/var/azureml-server/synchronous/routes.py\", line 37, in score_realtime\\n    service_input = request.get_json()\\n  File \"/azureml-envs/azureml_20a8278aa8b20dd48cc50f56a6d2586c/lib/python3.6/site-packages/flask/wrappers.py\", line 82, in get_json\\n    rv = self.on_json_loading_failed(e)\\n  File \"/azureml-envs/azureml_20a8278aa8b20dd48cc50f56a6d2586c/lib/python3.6/site-packages/flask/wrappers.py\", line 108, in on_json_loading_failed\\n    raise BadRequest()\\nwerkzeug.exceptions.BadRequest: 400 Bad Request: The browser (or proxy) sent a request that this server could not understand.\\n\\n2021-02-09 15:52:51,339 | root | INFO | 500\\n127.0.0.1 - - [09/Feb/2021:15:52:51 +0000] \"POST /score HTTP/1.0\" 500 2067 \"-\" \"python-requests/2.25.1\"\\n2021-02-09 15:54:00,427 | root | INFO | Validation Request Content-Type\\n2021-02-09 15:54:00,434 | root | INFO | Scoring Timer is set to 60.0 seconds\\n2021-02-09 15:54:01,858 | root | INFO | 200\\n127.0.0.1 - - [09/Feb/2021:15:54:01 +0000] \"POST /score HTTP/1.0\" 200 29 \"-\" \"Python-urllib/3.6\"\\n2021-02-09 15:54:22,716 | root | INFO | 200\\n127.0.0.1 - - [09/Feb/2021:15:54:22 +0000] \"GET /swagger.json HTTP/1.0\" 200 4062 \"-\" \"Go-http-client/1.1\"\\n'"
      ]
     },
     "execution_count": 34,
     "metadata": {},
     "output_type": "execute_result"
    }
   ],
   "source": [
    "service.update(enable_app_insights=True)\n",
    "service.get_logs()"
   ]
  },
  {
   "cell_type": "code",
   "execution_count": 40,
   "metadata": {
    "collapsed": true,
    "gather": {
     "logged": 1612889440810
    },
    "jupyter": {
     "outputs_hidden": false,
     "source_hidden": false
    },
    "nteract": {
     "transient": {
      "deleting": false
     }
    }
   },
   "outputs": [],
   "source": [
    "service.delete()"
   ]
  },
  {
   "cell_type": "code",
   "execution_count": null,
   "metadata": {
    "collapsed": true,
    "jupyter": {
     "outputs_hidden": false,
     "source_hidden": false
    },
    "nteract": {
     "transient": {
      "deleting": false
     }
    }
   },
   "outputs": [],
   "source": []
  }
 ],
 "metadata": {
  "kernel_info": {
   "name": "python3"
  },
  "kernelspec": {
   "display_name": "Python 3",
   "language": "python",
   "name": "python3"
  },
  "language_info": {
   "codemirror_mode": {
    "name": "ipython",
    "version": 3
   },
   "file_extension": ".py",
   "mimetype": "text/x-python",
   "name": "python",
   "nbconvert_exporter": "python",
   "pygments_lexer": "ipython3",
   "version": "3.5.2"
  },
  "nteract": {
   "version": "nteract-front-end@1.0.0"
  }
 },
 "nbformat": 4,
 "nbformat_minor": 2
}
