{
  "cells": [
    {
      "cell_type": "markdown",
      "source": [
        "# Automated ML\n",
        "\n",
        "TODO: Import Dependencies. In the cell below, import all the dependencies that you will need to complete the project."
      ],
      "metadata": {}
    },
    {
      "cell_type": "code",
      "source": [
        "import os\n",
        "import numpy as np\n",
        "import joblib\n",
        "from azureml.core import Workspace, Experiment\n",
        "from sklearn.model_selection import train_test_split\n",
        "from sklearn.preprocessing import OneHotEncoder\n",
        "from azureml.core.run import Run\n",
        "from azureml.data.dataset_factory import TabularDatasetFactory\n",
        "from azureml.train.automl import AutoMLConfig\n",
        "from azureml.core.compute import ComputeTarget, AmlCompute\n",
        "from azureml.core.model import InferenceConfig\n",
        "from azureml.widgets import RunDetails\n",
        "from azureml.core.model import Model"
      ],
      "outputs": [],
      "execution_count": 28,
      "metadata": {
        "gather": {
          "logged": 1612885158212
        },
        "jupyter": {
          "outputs_hidden": false,
          "source_hidden": false
        },
        "nteract": {
          "transient": {
            "deleting": false
          }
        }
      }
    },
    {
      "cell_type": "markdown",
      "source": [
        "## Dataset\n",
        "\n",
        "### Overview\n",
        "\n",
        "In this project, we are going to classify the progressive muscle weakness and disease with the use of SKLearn Classifier and AutoML.\n",
        "\n",
        "The dataset is custom data curated from one of the health institution.\n",
        "\n",
        "The dataset contains 3 categories:\n",
        "1. Control\n",
        "    \n",
        "    Indicates whether muscle weakness is in control or not.\n",
        "    \n",
        "    \n",
        "2. SPG4\n",
        "    \n",
        "    **S pastic paraplegia 4 (SPG4)** is the most common type of hereditary spastic paraplegia (HSP) inherited in an autosomal dominant manner. Disease onset ranges from infancy to older adulthood. SPG4 is characterized by slowly progressive muscle weakness and spasticity (stiff or rigid muscles) in the lower half of the body. In rare cases, individuals may have a more complex form with seizures, ataxia, and dementia. SPG4 is caused by mutations in the SPAST gene. Severity of symptoms usually worsens over time, however some individuals remain mildly affected throughout their lives. Medications, such as antispastic drugs and physical therapy may aid in stretching spastic muscles and preventing contractures (fixed tightening of muscles) \n",
        "    \n",
        "    Source : https://rarediseases.info.nih.gov/diseases/4925/spastic-paraplegia-4\n",
        "    \n",
        "    \n",
        "3. Disease\n",
        "   \n",
        "   Indicates that the muscle weakness is there due to some desease.\n"
      ],
      "metadata": {}
    },
    {
      "cell_type": "code",
      "source": [
        "path = \"https://0547078f50ce.ngrok.io/data.csv\"\n",
        "\n",
        "ds = TabularDatasetFactory.from_delimited_files(path,\n",
        "                                                validate=True,\n",
        "                                                include_path=False,\n",
        "                                                infer_column_types=True,\n",
        "                                                separator=',',\n",
        "                                                header=True,\n",
        "                                                support_multi_line=False,\n",
        "                                                empty_as_string=False)\n"
      ],
      "outputs": [],
      "execution_count": 4,
      "metadata": {
        "gather": {
          "logged": 1612880686167
        }
      }
    },
    {
      "cell_type": "code",
      "source": [
        "ws = Workspace.from_config()\n",
        "\n",
        "# choose a name for experiment\n",
        "experiment_name = 'mwd-automl'\n",
        "\n",
        "experiment=Experiment(ws, experiment_name)\n",
        "\n",
        "print('Workspace name: ' + ws.name, \n",
        "      'Azure region: ' + ws.location, \n",
        "      'Subscription id: ' + ws.subscription_id, \n",
        "      'Resource group: ' + ws.resource_group, sep = '\\n')"
      ],
      "outputs": [
        {
          "output_type": "stream",
          "name": "stdout",
          "text": [
            "Workspace name: quick-starts-ws-138262\n",
            "Azure region: southcentralus\n",
            "Subscription id: 3e42d11f-d64d-4173-af9b-12ecaa1030b3\n",
            "Resource group: aml-quickstarts-138262\n"
          ]
        }
      ],
      "execution_count": 9,
      "metadata": {
        "gather": {
          "logged": 1612881130006
        },
        "jupyter": {
          "outputs_hidden": false,
          "source_hidden": false
        },
        "nteract": {
          "transient": {
            "deleting": false
          }
        }
      }
    },
    {
      "cell_type": "code",
      "source": [
        "\n",
        "try:\n",
        "    cpu_cluster = ComputeTarget(workspace=ws, name=\"mwd-compute\")\n",
        "    print('Found existing cluster, use it.')\n",
        "except:\n",
        "    compute_config = AmlCompute.provisioning_configuration(vm_size='STANDARD_D2_V2', max_nodes=4)\n",
        "    cpu_cluster = ComputeTarget.create(ws,\"mwd-compute\", compute_config)"
      ],
      "outputs": [
        {
          "output_type": "stream",
          "name": "stdout",
          "text": [
            "Found existing cluster, use it.\n"
          ]
        }
      ],
      "execution_count": 10,
      "metadata": {
        "gather": {
          "logged": 1612881135597
        }
      }
    },
    {
      "cell_type": "markdown",
      "source": [
        "## AutoML Configuration\n",
        "\n",
        "\n",
        "1. experiment_timeout_minutes : To stop the experiment by giving duration in minutes.\n",
        "2. primary_metric : This is the the target on which our Auto ML config tries to improve.\n",
        "3. enable_early_stopping: We have used this config to stop the experiment, if the primary_metric not improving.\n",
        "4. enable_voting_ensemble: We don't want to use VotingClassifier as it a combined result of multiple classifier.\n",
        "5. enable_stack_ensemble: We also disabled this option as it is stacked resilt of multiple classifier."
      ],
      "metadata": {}
    },
    {
      "cell_type": "code",
      "source": [
        "# TODO: Put your automl settings here\n",
        "automl_settings = {\n",
        "    \"experiment_timeout_minutes\": 30,\n",
        "    \"primary_metric\": 'accuracy',\n",
        "    \"n_cross_validations\": 5,\n",
        "    \"max_concurrent_iterations\": 4,\n",
        "    \"enable_early_stopping\": True,\n",
        "    \"enable_voting_ensemble\": False,\n",
        "    \"enable_stack_ensemble\": False\n",
        "}\n",
        "\n",
        "# TODO: Put your automl config here\n",
        "automl_config = AutoMLConfig(task=\"classification\",\n",
        "                            compute_target=cpu_cluster,\n",
        "                            training_data=ds,\n",
        "                            label_column_name=\"Output\",\n",
        "                            **automl_settings)\n"
      ],
      "outputs": [],
      "execution_count": 11,
      "metadata": {
        "gather": {
          "logged": 1612881148597
        },
        "jupyter": {
          "outputs_hidden": false,
          "source_hidden": false
        },
        "nteract": {
          "transient": {
            "deleting": false
          }
        }
      }
    },
    {
      "cell_type": "code",
      "source": [
        "auto_ml_run = experiment.submit(automl_config)"
      ],
      "outputs": [
        {
          "output_type": "stream",
          "name": "stdout",
          "text": [
            "Running on remote.\n"
          ]
        }
      ],
      "execution_count": 12,
      "metadata": {
        "gather": {
          "logged": 1612881196105
        },
        "jupyter": {
          "outputs_hidden": false,
          "source_hidden": false
        },
        "nteract": {
          "transient": {
            "deleting": false
          }
        }
      }
    },
    {
      "cell_type": "markdown",
      "source": [
        "## Run Details\n",
        "\n",
        "OPTIONAL: Write about the different models trained and their performance. Why do you think some models did better than others?"
      ],
      "metadata": {}
    },
    {
      "cell_type": "code",
      "source": [
        "RunDetails(auto_ml_run).show()\n",
        "auto_ml_run.wait_for_completion(show_output=True)"
      ],
      "outputs": [
        {
          "output_type": "stream",
          "name": "stdout",
          "text": [
            "\n",
            "\n",
            "****************************************************************************************************\n",
            "DATA GUARDRAILS: \n",
            "\n",
            "TYPE:         Class balancing detection\n",
            "STATUS:       ALERTED\n",
            "DESCRIPTION:  To decrease model bias, please cancel the current run and fix balancing problem.\n",
            "              Learn more about imbalanced data: https://aka.ms/AutomatedMLImbalancedData\n",
            "DETAILS:      Imbalanced data can lead to a falsely perceived positive effect of a model's accuracy because the input data has bias towards one class.\n",
            "+---------------------------------+---------------------------------+--------------------------------------+\n",
            "|Size of the smallest class       |Name/Label of the smallest class |Number of samples in the training data|\n",
            "+=================================+=================================+======================================+\n",
            "|1982                             |SPG4                             |77607                                 |\n",
            "+---------------------------------+---------------------------------+--------------------------------------+\n",
            "\n",
            "****************************************************************************************************\n",
            "\n",
            "TYPE:         Missing feature values imputation\n",
            "STATUS:       DONE\n",
            "DESCRIPTION:  If the missing values are expected, let the run complete. Otherwise cancel the current run and use a script to customize the handling of missing feature values that may be more appropriate based on the data type and business requirement.\n",
            "              Learn more about missing value imputation: https://aka.ms/AutomatedMLFeaturization\n",
            "DETAILS:      \n",
            "+---------------------------------+---------------------------------+---------------------------------+\n",
            "|Column name                      |Missing value count              |Imputation type                  |\n",
            "+=================================+=================================+=================================+\n",
            "|Phenotype20                      |152                              |mean                             |\n",
            "|Phenotype21                      |153                              |mean                             |\n",
            "|Phenotype22                      |161                              |mean                             |\n",
            "+---------------------------------+---------------------------------+---------------------------------+\n"
          ]
        },
        {
          "output_type": "display_data",
          "data": {
            "text/plain": "_AutoMLWidget(widget_settings={'childWidgetDisplay': 'popup', 'send_telemetry': False, 'log_level': 'INFO', 's…",
            "application/vnd.jupyter.widget-view+json": {
              "version_major": 2,
              "version_minor": 0,
              "model_id": "88f69ec372e042b3a464f95f67c9de6c"
            }
          },
          "metadata": {}
        },
        {
          "output_type": "display_data",
          "data": {
            "application/aml.mini.widget.v1": "{\"status\": \"Completed\", \"workbench_run_details_uri\": \"https://ml.azure.com/experiments/mwd-automl/runs/AutoML_28268a08-9643-4d77-84d6-ff7f89e0ec72?wsid=/subscriptions/3e42d11f-d64d-4173-af9b-12ecaa1030b3/resourcegroups/aml-quickstarts-138262/workspaces/quick-starts-ws-138262\", \"run_id\": \"AutoML_28268a08-9643-4d77-84d6-ff7f89e0ec72\", \"run_properties\": {\"run_id\": \"AutoML_28268a08-9643-4d77-84d6-ff7f89e0ec72\", \"created_utc\": \"2021-02-09T14:33:14.663265Z\", \"properties\": {\"num_iterations\": \"1000\", \"training_type\": \"TrainFull\", \"acquisition_function\": \"EI\", \"primary_metric\": \"accuracy\", \"train_split\": \"0\", \"acquisition_parameter\": \"0\", \"num_cross_validation\": \"5\", \"target\": \"mwd-compute\", \"AMLSettingsJsonString\": \"{\\\"path\\\":null,\\\"name\\\":\\\"mwd-automl\\\",\\\"subscription_id\\\":\\\"3e42d11f-d64d-4173-af9b-12ecaa1030b3\\\",\\\"resource_group\\\":\\\"aml-quickstarts-138262\\\",\\\"workspace_name\\\":\\\"quick-starts-ws-138262\\\",\\\"region\\\":\\\"southcentralus\\\",\\\"compute_target\\\":\\\"mwd-compute\\\",\\\"spark_service\\\":null,\\\"azure_service\\\":\\\"remote\\\",\\\"many_models\\\":false,\\\"pipeline_fetch_max_batch_size\\\":1,\\\"iterations\\\":1000,\\\"primary_metric\\\":\\\"accuracy\\\",\\\"task_type\\\":\\\"classification\\\",\\\"data_script\\\":null,\\\"validation_size\\\":0.0,\\\"n_cross_validations\\\":5,\\\"y_min\\\":null,\\\"y_max\\\":null,\\\"num_classes\\\":null,\\\"featurization\\\":\\\"auto\\\",\\\"_ignore_package_version_incompatibilities\\\":false,\\\"is_timeseries\\\":false,\\\"max_cores_per_iteration\\\":1,\\\"max_concurrent_iterations\\\":4,\\\"iteration_timeout_minutes\\\":null,\\\"mem_in_mb\\\":null,\\\"enforce_time_on_windows\\\":false,\\\"experiment_timeout_minutes\\\":30,\\\"experiment_exit_score\\\":null,\\\"whitelist_models\\\":null,\\\"blacklist_algos\\\":[\\\"TensorFlowLinearClassifier\\\",\\\"TensorFlowDNN\\\"],\\\"supported_models\\\":[\\\"LightGBM\\\",\\\"SVM\\\",\\\"SGD\\\",\\\"TensorFlowLinearClassifier\\\",\\\"AveragedPerceptronClassifier\\\",\\\"BernoulliNaiveBayes\\\",\\\"ExtremeRandomTrees\\\",\\\"RandomForest\\\",\\\"TensorFlowDNN\\\",\\\"LogisticRegression\\\",\\\"KNN\\\",\\\"MultinomialNaiveBayes\\\",\\\"GradientBoosting\\\",\\\"DecisionTree\\\",\\\"LinearSVM\\\",\\\"XGBoostClassifier\\\"],\\\"auto_blacklist\\\":true,\\\"blacklist_samples_reached\\\":false,\\\"exclude_nan_labels\\\":true,\\\"verbosity\\\":20,\\\"_debug_log\\\":\\\"azureml_automl.log\\\",\\\"show_warnings\\\":false,\\\"model_explainability\\\":true,\\\"service_url\\\":null,\\\"sdk_url\\\":null,\\\"sdk_packages\\\":null,\\\"enable_onnx_compatible_models\\\":false,\\\"enable_split_onnx_featurizer_estimator_models\\\":false,\\\"vm_type\\\":\\\"STANDARD_DS12_V2\\\",\\\"telemetry_verbosity\\\":20,\\\"send_telemetry\\\":true,\\\"enable_dnn\\\":false,\\\"scenario\\\":\\\"SDK-1.13.0\\\",\\\"environment_label\\\":null,\\\"force_text_dnn\\\":false,\\\"enable_feature_sweeping\\\":true,\\\"enable_early_stopping\\\":true,\\\"early_stopping_n_iters\\\":10,\\\"metrics\\\":null,\\\"enable_ensembling\\\":false,\\\"enable_stack_ensembling\\\":false,\\\"ensemble_iterations\\\":15,\\\"enable_tf\\\":false,\\\"enable_subsampling\\\":null,\\\"subsample_seed\\\":null,\\\"enable_nimbusml\\\":false,\\\"enable_streaming\\\":false,\\\"force_streaming\\\":false,\\\"track_child_runs\\\":true,\\\"allowed_private_models\\\":[],\\\"label_column_name\\\":\\\"Output\\\",\\\"weight_column_name\\\":null,\\\"cv_split_column_names\\\":null,\\\"enable_local_managed\\\":false,\\\"_local_managed_run_id\\\":null,\\\"cost_mode\\\":1,\\\"lag_length\\\":0,\\\"metric_operation\\\":\\\"maximize\\\",\\\"preprocess\\\":true}\", \"DataPrepJsonString\": \"{\\\\\\\"training_data\\\\\\\": \\\\\\\"{\\\\\\\\\\\\\\\"blocks\\\\\\\\\\\\\\\": [{\\\\\\\\\\\\\\\"id\\\\\\\\\\\\\\\": \\\\\\\\\\\\\\\"894dc17c-1411-4b0d-b582-7dc370a958c5\\\\\\\\\\\\\\\", \\\\\\\\\\\\\\\"type\\\\\\\\\\\\\\\": \\\\\\\\\\\\\\\"Microsoft.DPrep.GetFilesBlock\\\\\\\\\\\\\\\", \\\\\\\\\\\\\\\"arguments\\\\\\\\\\\\\\\": {\\\\\\\\\\\\\\\"isArchive\\\\\\\\\\\\\\\": false, \\\\\\\\\\\\\\\"path\\\\\\\\\\\\\\\": {\\\\\\\\\\\\\\\"target\\\\\\\\\\\\\\\": 4, \\\\\\\\\\\\\\\"resourceDetails\\\\\\\\\\\\\\\": [{\\\\\\\\\\\\\\\"path\\\\\\\\\\\\\\\": \\\\\\\\\\\\\\\"https://0547078f50ce.ngrok.io/data.csv\\\\\\\\\\\\\\\"}]}}, \\\\\\\\\\\\\\\"localData\\\\\\\\\\\\\\\": {}, \\\\\\\\\\\\\\\"isEnabled\\\\\\\\\\\\\\\": true, \\\\\\\\\\\\\\\"name\\\\\\\\\\\\\\\": null, \\\\\\\\\\\\\\\"annotation\\\\\\\\\\\\\\\": null}, {\\\\\\\\\\\\\\\"id\\\\\\\\\\\\\\\": \\\\\\\\\\\\\\\"ccb542a9-1e3c-460d-9498-d5f2dd838f04\\\\\\\\\\\\\\\", \\\\\\\\\\\\\\\"type\\\\\\\\\\\\\\\": \\\\\\\\\\\\\\\"Microsoft.DPrep.ParseDelimitedBlock\\\\\\\\\\\\\\\", \\\\\\\\\\\\\\\"arguments\\\\\\\\\\\\\\\": {\\\\\\\\\\\\\\\"columnHeadersMode\\\\\\\\\\\\\\\": 3, \\\\\\\\\\\\\\\"fileEncoding\\\\\\\\\\\\\\\": 0, \\\\\\\\\\\\\\\"handleQuotedLineBreaks\\\\\\\\\\\\\\\": false, \\\\\\\\\\\\\\\"preview\\\\\\\\\\\\\\\": false, \\\\\\\\\\\\\\\"separator\\\\\\\\\\\\\\\": \\\\\\\\\\\\\\\",\\\\\\\\\\\\\\\", \\\\\\\\\\\\\\\"skipRows\\\\\\\\\\\\\\\": 0, \\\\\\\\\\\\\\\"skipRowsMode\\\\\\\\\\\\\\\": 0}, \\\\\\\\\\\\\\\"localData\\\\\\\\\\\\\\\": {}, \\\\\\\\\\\\\\\"isEnabled\\\\\\\\\\\\\\\": true, \\\\\\\\\\\\\\\"name\\\\\\\\\\\\\\\": null, \\\\\\\\\\\\\\\"annotation\\\\\\\\\\\\\\\": null}, {\\\\\\\\\\\\\\\"id\\\\\\\\\\\\\\\": \\\\\\\\\\\\\\\"50af7073-e321-40ac-9679-6db8be9eca8b\\\\\\\\\\\\\\\", \\\\\\\\\\\\\\\"type\\\\\\\\\\\\\\\": \\\\\\\\\\\\\\\"Microsoft.DPrep.DropColumnsBlock\\\\\\\\\\\\\\\", \\\\\\\\\\\\\\\"arguments\\\\\\\\\\\\\\\": {\\\\\\\\\\\\\\\"columns\\\\\\\\\\\\\\\": {\\\\\\\\\\\\\\\"type\\\\\\\\\\\\\\\": 0, \\\\\\\\\\\\\\\"details\\\\\\\\\\\\\\\": {\\\\\\\\\\\\\\\"selectedColumns\\\\\\\\\\\\\\\": [\\\\\\\\\\\\\\\"Path\\\\\\\\\\\\\\\"]}}}, \\\\\\\\\\\\\\\"localData\\\\\\\\\\\\\\\": {}, \\\\\\\\\\\\\\\"isEnabled\\\\\\\\\\\\\\\": true, \\\\\\\\\\\\\\\"name\\\\\\\\\\\\\\\": null, \\\\\\\\\\\\\\\"annotation\\\\\\\\\\\\\\\": null}, {\\\\\\\\\\\\\\\"id\\\\\\\\\\\\\\\": \\\\\\\\\\\\\\\"ac323cfa-9e37-46be-9277-ab2feb638b48\\\\\\\\\\\\\\\", \\\\\\\\\\\\\\\"type\\\\\\\\\\\\\\\": \\\\\\\\\\\\\\\"Microsoft.DPrep.SetColumnTypesBlock\\\\\\\\\\\\\\\", \\\\\\\\\\\\\\\"arguments\\\\\\\\\\\\\\\": {\\\\\\\\\\\\\\\"columnConversion\\\\\\\\\\\\\\\": [{\\\\\\\\\\\\\\\"column\\\\\\\\\\\\\\\": {\\\\\\\\\\\\\\\"type\\\\\\\\\\\\\\\": 2, \\\\\\\\\\\\\\\"details\\\\\\\\\\\\\\\": {\\\\\\\\\\\\\\\"selectedColumn\\\\\\\\\\\\\\\": \\\\\\\\\\\\\\\"Output\\\\\\\\\\\\\\\"}}, \\\\\\\\\\\\\\\"typeProperty\\\\\\\\\\\\\\\": 0}, {\\\\\\\\\\\\\\\"column\\\\\\\\\\\\\\\": {\\\\\\\\\\\\\\\"type\\\\\\\\\\\\\\\": 2, \\\\\\\\\\\\\\\"details\\\\\\\\\\\\\\\": {\\\\\\\\\\\\\\\"selectedColumn\\\\\\\\\\\\\\\": \\\\\\\\\\\\\\\"Identification no\\\\\\\\\\\\\\\"}}, \\\\\\\\\\\\\\\"typeProperty\\\\\\\\\\\\\\\": 2}, {\\\\\\\\\\\\\\\"column\\\\\\\\\\\\\\\": {\\\\\\\\\\\\\\\"type\\\\\\\\\\\\\\\": 2, \\\\\\\\\\\\\\\"details\\\\\\\\\\\\\\\": {\\\\\\\\\\\\\\\"selectedColumn\\\\\\\\\\\\\\\": \\\\\\\\\\\\\\\"Phenotype1\\\\\\\\\\\\\\\"}}, \\\\\\\\\\\\\\\"typeProperty\\\\\\\\\\\\\\\": 3}, {\\\\\\\\\\\\\\\"column\\\\\\\\\\\\\\\": {\\\\\\\\\\\\\\\"type\\\\\\\\\\\\\\\": 2, \\\\\\\\\\\\\\\"details\\\\\\\\\\\\\\\": {\\\\\\\\\\\\\\\"selectedColumn\\\\\\\\\\\\\\\": \\\\\\\\\\\\\\\"Phenotype2\\\\\\\\\\\\\\\"}}, \\\\\\\\\\\\\\\"typeProperty\\\\\\\\\\\\\\\": 3}, {\\\\\\\\\\\\\\\"column\\\\\\\\\\\\\\\": {\\\\\\\\\\\\\\\"type\\\\\\\\\\\\\\\": 2, \\\\\\\\\\\\\\\"details\\\\\\\\\\\\\\\": {\\\\\\\\\\\\\\\"selectedColumn\\\\\\\\\\\\\\\": \\\\\\\\\\\\\\\"Phenotype3\\\\\\\\\\\\\\\"}}, \\\\\\\\\\\\\\\"typeProperty\\\\\\\\\\\\\\\": 2}, {\\\\\\\\\\\\\\\"column\\\\\\\\\\\\\\\": {\\\\\\\\\\\\\\\"type\\\\\\\\\\\\\\\": 2, \\\\\\\\\\\\\\\"details\\\\\\\\\\\\\\\": {\\\\\\\\\\\\\\\"selectedColumn\\\\\\\\\\\\\\\": \\\\\\\\\\\\\\\"Phenotype4\\\\\\\\\\\\\\\"}}, \\\\\\\\\\\\\\\"typeProperty\\\\\\\\\\\\\\\": 3}, {\\\\\\\\\\\\\\\"column\\\\\\\\\\\\\\\": {\\\\\\\\\\\\\\\"type\\\\\\\\\\\\\\\": 2, \\\\\\\\\\\\\\\"details\\\\\\\\\\\\\\\": {\\\\\\\\\\\\\\\"selectedColumn\\\\\\\\\\\\\\\": \\\\\\\\\\\\\\\"Phenotype5\\\\\\\\\\\\\\\"}}, \\\\\\\\\\\\\\\"typeProperty\\\\\\\\\\\\\\\": 3}, {\\\\\\\\\\\\\\\"column\\\\\\\\\\\\\\\": {\\\\\\\\\\\\\\\"type\\\\\\\\\\\\\\\": 2, \\\\\\\\\\\\\\\"details\\\\\\\\\\\\\\\": {\\\\\\\\\\\\\\\"selectedColumn\\\\\\\\\\\\\\\": \\\\\\\\\\\\\\\"Phenotype6\\\\\\\\\\\\\\\"}}, \\\\\\\\\\\\\\\"typeProperty\\\\\\\\\\\\\\\": 3}, {\\\\\\\\\\\\\\\"column\\\\\\\\\\\\\\\": {\\\\\\\\\\\\\\\"type\\\\\\\\\\\\\\\": 2, \\\\\\\\\\\\\\\"details\\\\\\\\\\\\\\\": {\\\\\\\\\\\\\\\"selectedColumn\\\\\\\\\\\\\\\": \\\\\\\\\\\\\\\"Phenotype7\\\\\\\\\\\\\\\"}}, \\\\\\\\\\\\\\\"typeProperty\\\\\\\\\\\\\\\": 3}, {\\\\\\\\\\\\\\\"column\\\\\\\\\\\\\\\": {\\\\\\\\\\\\\\\"type\\\\\\\\\\\\\\\": 2, \\\\\\\\\\\\\\\"details\\\\\\\\\\\\\\\": {\\\\\\\\\\\\\\\"selectedColumn\\\\\\\\\\\\\\\": \\\\\\\\\\\\\\\"Phenotype8\\\\\\\\\\\\\\\"}}, \\\\\\\\\\\\\\\"typeProperty\\\\\\\\\\\\\\\": 3}, {\\\\\\\\\\\\\\\"column\\\\\\\\\\\\\\\": {\\\\\\\\\\\\\\\"type\\\\\\\\\\\\\\\": 2, \\\\\\\\\\\\\\\"details\\\\\\\\\\\\\\\": {\\\\\\\\\\\\\\\"selectedColumn\\\\\\\\\\\\\\\": \\\\\\\\\\\\\\\"Phenotype9\\\\\\\\\\\\\\\"}}, \\\\\\\\\\\\\\\"typeProperty\\\\\\\\\\\\\\\": 3}, {\\\\\\\\\\\\\\\"column\\\\\\\\\\\\\\\": {\\\\\\\\\\\\\\\"type\\\\\\\\\\\\\\\": 2, \\\\\\\\\\\\\\\"details\\\\\\\\\\\\\\\": {\\\\\\\\\\\\\\\"selectedColumn\\\\\\\\\\\\\\\": \\\\\\\\\\\\\\\"Phenotype10\\\\\\\\\\\\\\\"}}, \\\\\\\\\\\\\\\"typeProperty\\\\\\\\\\\\\\\": 3}, {\\\\\\\\\\\\\\\"column\\\\\\\\\\\\\\\": {\\\\\\\\\\\\\\\"type\\\\\\\\\\\\\\\": 2, \\\\\\\\\\\\\\\"details\\\\\\\\\\\\\\\": {\\\\\\\\\\\\\\\"selectedColumn\\\\\\\\\\\\\\\": \\\\\\\\\\\\\\\"Phenotype11\\\\\\\\\\\\\\\"}}, \\\\\\\\\\\\\\\"typeProperty\\\\\\\\\\\\\\\": 3}, {\\\\\\\\\\\\\\\"column\\\\\\\\\\\\\\\": {\\\\\\\\\\\\\\\"type\\\\\\\\\\\\\\\": 2, \\\\\\\\\\\\\\\"details\\\\\\\\\\\\\\\": {\\\\\\\\\\\\\\\"selectedColumn\\\\\\\\\\\\\\\": \\\\\\\\\\\\\\\"Phenotype12\\\\\\\\\\\\\\\"}}, \\\\\\\\\\\\\\\"typeProperty\\\\\\\\\\\\\\\": 3}, {\\\\\\\\\\\\\\\"column\\\\\\\\\\\\\\\": {\\\\\\\\\\\\\\\"type\\\\\\\\\\\\\\\": 2, \\\\\\\\\\\\\\\"details\\\\\\\\\\\\\\\": {\\\\\\\\\\\\\\\"selectedColumn\\\\\\\\\\\\\\\": \\\\\\\\\\\\\\\"Phenotype13\\\\\\\\\\\\\\\"}}, \\\\\\\\\\\\\\\"typeProperty\\\\\\\\\\\\\\\": 3}, {\\\\\\\\\\\\\\\"column\\\\\\\\\\\\\\\": {\\\\\\\\\\\\\\\"type\\\\\\\\\\\\\\\": 2, \\\\\\\\\\\\\\\"details\\\\\\\\\\\\\\\": {\\\\\\\\\\\\\\\"selectedColumn\\\\\\\\\\\\\\\": \\\\\\\\\\\\\\\"Phenotype14\\\\\\\\\\\\\\\"}}, \\\\\\\\\\\\\\\"typeProperty\\\\\\\\\\\\\\\": 3}, {\\\\\\\\\\\\\\\"column\\\\\\\\\\\\\\\": {\\\\\\\\\\\\\\\"type\\\\\\\\\\\\\\\": 2, \\\\\\\\\\\\\\\"details\\\\\\\\\\\\\\\": {\\\\\\\\\\\\\\\"selectedColumn\\\\\\\\\\\\\\\": \\\\\\\\\\\\\\\"Phenotype15\\\\\\\\\\\\\\\"}}, \\\\\\\\\\\\\\\"typeProperty\\\\\\\\\\\\\\\": 3}, {\\\\\\\\\\\\\\\"column\\\\\\\\\\\\\\\": {\\\\\\\\\\\\\\\"type\\\\\\\\\\\\\\\": 2, \\\\\\\\\\\\\\\"details\\\\\\\\\\\\\\\": {\\\\\\\\\\\\\\\"selectedColumn\\\\\\\\\\\\\\\": \\\\\\\\\\\\\\\"Phenotype16\\\\\\\\\\\\\\\"}}, \\\\\\\\\\\\\\\"typeProperty\\\\\\\\\\\\\\\": 3}, {\\\\\\\\\\\\\\\"column\\\\\\\\\\\\\\\": {\\\\\\\\\\\\\\\"type\\\\\\\\\\\\\\\": 2, \\\\\\\\\\\\\\\"details\\\\\\\\\\\\\\\": {\\\\\\\\\\\\\\\"selectedColumn\\\\\\\\\\\\\\\": \\\\\\\\\\\\\\\"Phenotype17\\\\\\\\\\\\\\\"}}, \\\\\\\\\\\\\\\"typeProperty\\\\\\\\\\\\\\\": 3}, {\\\\\\\\\\\\\\\"column\\\\\\\\\\\\\\\": {\\\\\\\\\\\\\\\"type\\\\\\\\\\\\\\\": 2, \\\\\\\\\\\\\\\"details\\\\\\\\\\\\\\\": {\\\\\\\\\\\\\\\"selectedColumn\\\\\\\\\\\\\\\": \\\\\\\\\\\\\\\"Phenotype18\\\\\\\\\\\\\\\"}}, \\\\\\\\\\\\\\\"typeProperty\\\\\\\\\\\\\\\": 3}, {\\\\\\\\\\\\\\\"column\\\\\\\\\\\\\\\": {\\\\\\\\\\\\\\\"type\\\\\\\\\\\\\\\": 2, \\\\\\\\\\\\\\\"details\\\\\\\\\\\\\\\": {\\\\\\\\\\\\\\\"selectedColumn\\\\\\\\\\\\\\\": \\\\\\\\\\\\\\\"Phenotype19\\\\\\\\\\\\\\\"}}, \\\\\\\\\\\\\\\"typeProperty\\\\\\\\\\\\\\\": 3}, {\\\\\\\\\\\\\\\"column\\\\\\\\\\\\\\\": {\\\\\\\\\\\\\\\"type\\\\\\\\\\\\\\\": 2, \\\\\\\\\\\\\\\"details\\\\\\\\\\\\\\\": {\\\\\\\\\\\\\\\"selectedColumn\\\\\\\\\\\\\\\": \\\\\\\\\\\\\\\"Phenotype20\\\\\\\\\\\\\\\"}}, \\\\\\\\\\\\\\\"typeProperty\\\\\\\\\\\\\\\": 3}, {\\\\\\\\\\\\\\\"column\\\\\\\\\\\\\\\": {\\\\\\\\\\\\\\\"type\\\\\\\\\\\\\\\": 2, \\\\\\\\\\\\\\\"details\\\\\\\\\\\\\\\": {\\\\\\\\\\\\\\\"selectedColumn\\\\\\\\\\\\\\\": \\\\\\\\\\\\\\\"Phenotype21\\\\\\\\\\\\\\\"}}, \\\\\\\\\\\\\\\"typeProperty\\\\\\\\\\\\\\\": 3}, {\\\\\\\\\\\\\\\"column\\\\\\\\\\\\\\\": {\\\\\\\\\\\\\\\"type\\\\\\\\\\\\\\\": 2, \\\\\\\\\\\\\\\"details\\\\\\\\\\\\\\\": {\\\\\\\\\\\\\\\"selectedColumn\\\\\\\\\\\\\\\": \\\\\\\\\\\\\\\"Phenotype22\\\\\\\\\\\\\\\"}}, \\\\\\\\\\\\\\\"typeProperty\\\\\\\\\\\\\\\": 3}, {\\\\\\\\\\\\\\\"column\\\\\\\\\\\\\\\": {\\\\\\\\\\\\\\\"type\\\\\\\\\\\\\\\": 2, \\\\\\\\\\\\\\\"details\\\\\\\\\\\\\\\": {\\\\\\\\\\\\\\\"selectedColumn\\\\\\\\\\\\\\\": \\\\\\\\\\\\\\\"Phenotype23\\\\\\\\\\\\\\\"}}, \\\\\\\\\\\\\\\"typeProperty\\\\\\\\\\\\\\\": 3}, {\\\\\\\\\\\\\\\"column\\\\\\\\\\\\\\\": {\\\\\\\\\\\\\\\"type\\\\\\\\\\\\\\\": 2, \\\\\\\\\\\\\\\"details\\\\\\\\\\\\\\\": {\\\\\\\\\\\\\\\"selectedColumn\\\\\\\\\\\\\\\": \\\\\\\\\\\\\\\"Phenotype24\\\\\\\\\\\\\\\"}}, \\\\\\\\\\\\\\\"typeProperty\\\\\\\\\\\\\\\": 3}, {\\\\\\\\\\\\\\\"column\\\\\\\\\\\\\\\": {\\\\\\\\\\\\\\\"type\\\\\\\\\\\\\\\": 2, \\\\\\\\\\\\\\\"details\\\\\\\\\\\\\\\": {\\\\\\\\\\\\\\\"selectedColumn\\\\\\\\\\\\\\\": \\\\\\\\\\\\\\\"Phenotype25\\\\\\\\\\\\\\\"}}, \\\\\\\\\\\\\\\"typeProperty\\\\\\\\\\\\\\\": 3}, {\\\\\\\\\\\\\\\"column\\\\\\\\\\\\\\\": {\\\\\\\\\\\\\\\"type\\\\\\\\\\\\\\\": 2, \\\\\\\\\\\\\\\"details\\\\\\\\\\\\\\\": {\\\\\\\\\\\\\\\"selectedColumn\\\\\\\\\\\\\\\": \\\\\\\\\\\\\\\"Phenotype26\\\\\\\\\\\\\\\"}}, \\\\\\\\\\\\\\\"typeProperty\\\\\\\\\\\\\\\": 3}, {\\\\\\\\\\\\\\\"column\\\\\\\\\\\\\\\": {\\\\\\\\\\\\\\\"type\\\\\\\\\\\\\\\": 2, \\\\\\\\\\\\\\\"details\\\\\\\\\\\\\\\": {\\\\\\\\\\\\\\\"selectedColumn\\\\\\\\\\\\\\\": \\\\\\\\\\\\\\\"Phenotype27\\\\\\\\\\\\\\\"}}, \\\\\\\\\\\\\\\"typeProperty\\\\\\\\\\\\\\\": 3}]}, \\\\\\\\\\\\\\\"localData\\\\\\\\\\\\\\\": {}, \\\\\\\\\\\\\\\"isEnabled\\\\\\\\\\\\\\\": true, \\\\\\\\\\\\\\\"name\\\\\\\\\\\\\\\": null, \\\\\\\\\\\\\\\"annotation\\\\\\\\\\\\\\\": null}], \\\\\\\\\\\\\\\"inspectors\\\\\\\\\\\\\\\": [], \\\\\\\\\\\\\\\"meta\\\\\\\\\\\\\\\": {\\\\\\\\\\\\\\\"savedDatasetId\\\\\\\\\\\\\\\": \\\\\\\\\\\\\\\"5b572d4d-61a5-40e4-b220-0fc3a5070065\\\\\\\\\\\\\\\", \\\\\\\\\\\\\\\"datasetType\\\\\\\\\\\\\\\": \\\\\\\\\\\\\\\"tabular\\\\\\\\\\\\\\\", \\\\\\\\\\\\\\\"subscriptionId\\\\\\\\\\\\\\\": \\\\\\\\\\\\\\\"3e42d11f-d64d-4173-af9b-12ecaa1030b3\\\\\\\\\\\\\\\", \\\\\\\\\\\\\\\"workspaceId\\\\\\\\\\\\\\\": \\\\\\\\\\\\\\\"faaddac1-a395-4b66-8494-b1feff0a296e\\\\\\\\\\\\\\\", \\\\\\\\\\\\\\\"workspaceLocation\\\\\\\\\\\\\\\": \\\\\\\\\\\\\\\"southcentralus\\\\\\\\\\\\\\\"}}\\\\\\\", \\\\\\\"activities\\\\\\\": 0}\", \"EnableSubsampling\": null, \"runTemplate\": \"AutoML\", \"azureml.runsource\": \"automl\", \"display_task_type\": \"classification\", \"dependencies_versions\": \"{\\\"azureml-widgets\\\": \\\"1.20.0\\\", \\\"azureml-train\\\": \\\"1.20.0\\\", \\\"azureml-train-restclients-hyperdrive\\\": \\\"1.20.0\\\", \\\"azureml-train-core\\\": \\\"1.20.0\\\", \\\"azureml-train-automl\\\": \\\"1.20.0\\\", \\\"azureml-train-automl-runtime\\\": \\\"1.20.0\\\", \\\"azureml-train-automl-client\\\": \\\"1.20.0\\\", \\\"azureml-tensorboard\\\": \\\"1.20.0\\\", \\\"azureml-telemetry\\\": \\\"1.20.0\\\", \\\"azureml-sdk\\\": \\\"1.20.0\\\", \\\"azureml-samples\\\": \\\"0+unknown\\\", \\\"azureml-pipeline\\\": \\\"1.20.0\\\", \\\"azureml-pipeline-steps\\\": \\\"1.20.0\\\", \\\"azureml-pipeline-core\\\": \\\"1.20.0\\\", \\\"azureml-opendatasets\\\": \\\"1.20.0\\\", \\\"azureml-model-management-sdk\\\": \\\"1.0.1b6.post1\\\", \\\"azureml-mlflow\\\": \\\"1.20.0.post1\\\", \\\"azureml-interpret\\\": \\\"1.20.0\\\", \\\"azureml-explain-model\\\": \\\"1.20.0\\\", \\\"azureml-defaults\\\": \\\"1.20.0\\\", \\\"azureml-dataset-runtime\\\": \\\"1.20.0\\\", \\\"azureml-dataprep\\\": \\\"2.7.3\\\", \\\"azureml-dataprep-rslex\\\": \\\"1.5.0\\\", \\\"azureml-dataprep-native\\\": \\\"27.0.0\\\", \\\"azureml-datadrift\\\": \\\"1.20.0\\\", \\\"azureml-core\\\": \\\"1.20.0\\\", \\\"azureml-contrib-services\\\": \\\"1.20.0\\\", \\\"azureml-contrib-server\\\": \\\"1.20.0\\\", \\\"azureml-contrib-reinforcementlearning\\\": \\\"1.20.0\\\", \\\"azureml-contrib-pipeline-steps\\\": \\\"1.20.0\\\", \\\"azureml-contrib-notebook\\\": \\\"1.20.0\\\", \\\"azureml-contrib-interpret\\\": \\\"1.20.0\\\", \\\"azureml-contrib-gbdt\\\": \\\"1.20.0\\\", \\\"azureml-contrib-fairness\\\": \\\"1.20.0\\\", \\\"azureml-contrib-dataset\\\": \\\"1.20.0\\\", \\\"azureml-cli-common\\\": \\\"1.20.0\\\", \\\"azureml-automl-runtime\\\": \\\"1.20.0\\\", \\\"azureml-automl-core\\\": \\\"1.20.0\\\", \\\"azureml-accel-models\\\": \\\"1.20.0\\\"}\", \"_aml_system_scenario_identification\": \"Remote.Parent\", \"ClientType\": \"SDK\", \"environment_cpu_name\": \"AzureML-AutoML\", \"environment_cpu_label\": \"prod\", \"environment_gpu_name\": \"AzureML-AutoML-GPU\", \"environment_gpu_label\": \"prod\", \"root_attribution\": \"automl\", \"attribution\": \"AutoML\", \"Orchestrator\": \"AutoML\", \"CancelUri\": \"https://southcentralus.experiments.azureml.net/jasmine/v1.0/subscriptions/3e42d11f-d64d-4173-af9b-12ecaa1030b3/resourceGroups/aml-quickstarts-138262/providers/Microsoft.MachineLearningServices/workspaces/quick-starts-ws-138262/experimentids/885555fc-a661-4783-9deb-3e0a2dbc0ebf/cancel/AutoML_28268a08-9643-4d77-84d6-ff7f89e0ec72\", \"ClientSdkVersion\": \"1.21.0\", \"snapshotId\": \"00000000-0000-0000-0000-000000000000\", \"SetupRunId\": \"AutoML_28268a08-9643-4d77-84d6-ff7f89e0ec72_setup\", \"SetupRunContainerId\": \"dcid.AutoML_28268a08-9643-4d77-84d6-ff7f89e0ec72_setup\", \"FeaturizationRunJsonPath\": \"featurizer_container.json\", \"FeaturizationRunId\": \"AutoML_28268a08-9643-4d77-84d6-ff7f89e0ec72_featurize\", \"ProblemInfoJsonString\": \"{\\\"dataset_num_categorical\\\": 0, \\\"is_sparse\\\": true, \\\"subsampling\\\": false, \\\"dataset_classes\\\": 3, \\\"dataset_features\\\": 51, \\\"dataset_samples\\\": 77607, \\\"single_frequency_class_detected\\\": false}\", \"ModelExplainRunId\": \"AutoML_28268a08-9643-4d77-84d6-ff7f89e0ec72_ModelExplain\"}, \"tags\": {\"model_explain_run\": \"best_run\", \"_aml_system_azureml.automlComponent\": \"AutoML\", \"pipeline_id\": \"\", \"score\": \"\", \"predicted_cost\": \"\", \"fit_time\": \"\", \"training_percent\": \"\", \"iteration\": \"\", \"run_preprocessor\": \"\", \"run_algorithm\": \"\", \"dynamic_whitelisting_iterations\": \"<25>;<30>;<35>;\", \"automl_best_child_run_id\": \"AutoML_28268a08-9643-4d77-84d6-ff7f89e0ec72_28\", \"model_explain_best_run_child_id\": \"AutoML_28268a08-9643-4d77-84d6-ff7f89e0ec72_28\"}, \"end_time_utc\": \"2021-02-09T15:21:56.680881Z\", \"status\": \"Completed\", \"log_files\": {}, \"log_groups\": [], \"run_duration\": \"0:48:42\"}, \"child_runs\": [{\"run_id\": \"AutoML_28268a08-9643-4d77-84d6-ff7f89e0ec72_0\", \"run_number\": 5, \"metric\": null, \"status\": \"Completed\", \"run_type\": \"azureml.scriptrun\", \"training_percent\": \"100\", \"start_time\": \"2021-02-09T14:51:53.003456Z\", \"end_time\": \"2021-02-09T14:54:39.43696Z\", \"created_time\": \"2021-02-09T14:50:01.437021Z\", \"created_time_dt\": \"2021-02-09T14:50:01.437021Z\", \"duration\": \"0:04:37\", \"iteration\": \"0\", \"goal\": \"accuracy_max\", \"run_name\": \"MaxAbsScaler, LightGBM\", \"run_properties\": \"copy=True\", \"primary_metric\": 0.97837821, \"best_metric\": 0.97837821}, {\"run_id\": \"AutoML_28268a08-9643-4d77-84d6-ff7f89e0ec72_1\", \"run_number\": 6, \"metric\": null, \"status\": \"Completed\", \"run_type\": \"azureml.scriptrun\", \"training_percent\": \"100\", \"start_time\": \"2021-02-09T14:51:15.411657Z\", \"end_time\": \"2021-02-09T14:55:27.162278Z\", \"created_time\": \"2021-02-09T14:50:01.45066Z\", \"created_time_dt\": \"2021-02-09T14:50:01.45066Z\", \"duration\": \"0:05:25\", \"iteration\": \"1\", \"goal\": \"accuracy_max\", \"run_name\": \"MaxAbsScaler, XGBoostClassifier\", \"run_properties\": \"copy=True\", \"primary_metric\": 0.97855859, \"best_metric\": 0.97855859}, {\"run_id\": \"AutoML_28268a08-9643-4d77-84d6-ff7f89e0ec72_3\", \"run_number\": 7, \"metric\": null, \"status\": \"Completed\", \"run_type\": \"azureml.scriptrun\", \"training_percent\": \"100\", \"start_time\": \"2021-02-09T14:50:11.82957Z\", \"end_time\": \"2021-02-09T14:51:11.948536Z\", \"created_time\": \"2021-02-09T14:50:01.466198Z\", \"created_time_dt\": \"2021-02-09T14:50:01.466198Z\", \"duration\": \"0:01:10\", \"iteration\": \"3\", \"goal\": \"accuracy_max\", \"run_name\": \"MaxAbsScaler, RandomForest\", \"run_properties\": \"copy=True\", \"primary_metric\": 0.72028291, \"best_metric\": 0.97855859}, {\"run_id\": \"AutoML_28268a08-9643-4d77-84d6-ff7f89e0ec72_2\", \"run_number\": 8, \"metric\": null, \"status\": \"Completed\", \"run_type\": \"azureml.scriptrun\", \"training_percent\": \"100\", \"start_time\": \"2021-02-09T14:51:52.238843Z\", \"end_time\": \"2021-02-09T14:54:26.767866Z\", \"created_time\": \"2021-02-09T14:50:01.479565Z\", \"created_time_dt\": \"2021-02-09T14:50:01.479565Z\", \"duration\": \"0:04:25\", \"iteration\": \"2\", \"goal\": \"accuracy_max\", \"run_name\": \"MaxAbsScaler, RandomForest\", \"run_properties\": \"copy=True\", \"primary_metric\": 0.91968493, \"best_metric\": 0.97855859}, {\"run_id\": \"AutoML_28268a08-9643-4d77-84d6-ff7f89e0ec72_4\", \"run_number\": 9, \"metric\": null, \"status\": \"Completed\", \"run_type\": \"azureml.scriptrun\", \"training_percent\": \"100\", \"start_time\": \"2021-02-09T14:51:56.192425Z\", \"end_time\": \"2021-02-09T14:54:34.663867Z\", \"created_time\": \"2021-02-09T14:51:14.896819Z\", \"created_time_dt\": \"2021-02-09T14:51:14.896819Z\", \"duration\": \"0:03:19\", \"iteration\": \"4\", \"goal\": \"accuracy_max\", \"run_name\": \"MaxAbsScaler, RandomForest\", \"run_properties\": \"copy=True\", \"primary_metric\": 0.81148609, \"best_metric\": 0.97855859}, {\"run_id\": \"AutoML_28268a08-9643-4d77-84d6-ff7f89e0ec72_5\", \"run_number\": 10, \"metric\": null, \"status\": \"Completed\", \"run_type\": \"azureml.scriptrun\", \"training_percent\": \"100\", \"start_time\": \"2021-02-09T14:54:47.045742Z\", \"end_time\": \"2021-02-09T14:55:57.439632Z\", \"created_time\": \"2021-02-09T14:54:29.971254Z\", \"created_time_dt\": \"2021-02-09T14:54:29.971254Z\", \"duration\": \"0:01:27\", \"iteration\": \"5\", \"goal\": \"accuracy_max\", \"run_name\": \"MaxAbsScaler, RandomForest\", \"run_properties\": \"copy=True\", \"primary_metric\": 0.74052569, \"best_metric\": 0.97855859}, {\"run_id\": \"AutoML_28268a08-9643-4d77-84d6-ff7f89e0ec72_6\", \"run_number\": 11, \"metric\": null, \"status\": \"Completed\", \"run_type\": \"azureml.scriptrun\", \"training_percent\": \"100\", \"start_time\": \"2021-02-09T14:54:51.061504Z\", \"end_time\": \"2021-02-09T14:59:33.279095Z\", \"created_time\": \"2021-02-09T14:54:38.537278Z\", \"created_time_dt\": \"2021-02-09T14:54:38.537278Z\", \"duration\": \"0:04:54\", \"iteration\": \"6\", \"goal\": \"accuracy_max\", \"run_name\": \"SparseNormalizer, XGBoostClassifier\", \"run_properties\": \"<azureml.automl.runtime.shared.model_wrappers.SparseNormalizer object at 0x7f767276f2b0\", \"primary_metric\": 0.97841684, \"best_metric\": 0.97855859}, {\"run_id\": \"AutoML_28268a08-9643-4d77-84d6-ff7f89e0ec72_7\", \"run_number\": 12, \"metric\": null, \"status\": \"Completed\", \"run_type\": \"azureml.scriptrun\", \"training_percent\": \"100\", \"start_time\": \"2021-02-09T14:54:56.624068Z\", \"end_time\": \"2021-02-09T14:58:24.828369Z\", \"created_time\": \"2021-02-09T14:54:43.499018Z\", \"created_time_dt\": \"2021-02-09T14:54:43.499018Z\", \"duration\": \"0:03:41\", \"iteration\": \"7\", \"goal\": \"accuracy_max\", \"run_name\": \"SparseNormalizer, XGBoostClassifier\", \"run_properties\": \"<azureml.automl.runtime.shared.model_wrappers.SparseNormalizer object at 0x7f451740bd68\", \"primary_metric\": 0.97596862, \"best_metric\": 0.97855859}, {\"run_id\": \"AutoML_28268a08-9643-4d77-84d6-ff7f89e0ec72_8\", \"run_number\": 13, \"metric\": null, \"status\": \"Completed\", \"run_type\": \"azureml.scriptrun\", \"training_percent\": \"100\", \"start_time\": \"2021-02-09T14:55:40.546442Z\", \"end_time\": \"2021-02-09T15:01:24.868641Z\", \"created_time\": \"2021-02-09T14:55:29.707497Z\", \"created_time_dt\": \"2021-02-09T14:55:29.707497Z\", \"duration\": \"0:05:55\", \"iteration\": \"8\", \"goal\": \"accuracy_max\", \"run_name\": \"SparseNormalizer, XGBoostClassifier\", \"run_properties\": \"<azureml.automl.runtime.shared.model_wrappers.SparseNormalizer object at 0x7fb9e02ff9e8\", \"primary_metric\": 0.9785586, \"best_metric\": 0.9785586}, {\"run_id\": \"AutoML_28268a08-9643-4d77-84d6-ff7f89e0ec72_9\", \"run_number\": 14, \"metric\": null, \"status\": \"Completed\", \"run_type\": \"azureml.scriptrun\", \"training_percent\": \"100\", \"start_time\": \"2021-02-09T14:56:12.814661Z\", \"end_time\": \"2021-02-09T14:57:46.339248Z\", \"created_time\": \"2021-02-09T14:55:59.575764Z\", \"created_time_dt\": \"2021-02-09T14:55:59.575764Z\", \"duration\": \"0:01:46\", \"iteration\": \"9\", \"goal\": \"accuracy_max\", \"run_name\": \"SparseNormalizer, XGBoostClassifier\", \"run_properties\": \"<azureml.automl.runtime.shared.model_wrappers.SparseNormalizer object at 0x7f702b8df0b8\", \"primary_metric\": 0.96323776, \"best_metric\": 0.9785586}, {\"run_id\": \"AutoML_28268a08-9643-4d77-84d6-ff7f89e0ec72_10\", \"run_number\": 15, \"metric\": null, \"status\": \"Completed\", \"run_type\": \"azureml.scriptrun\", \"training_percent\": \"100\", \"start_time\": \"2021-02-09T14:58:00.4954Z\", \"end_time\": \"2021-02-09T15:02:05.206792Z\", \"created_time\": \"2021-02-09T14:57:48.414215Z\", \"created_time_dt\": \"2021-02-09T14:57:48.414215Z\", \"duration\": \"0:04:16\", \"iteration\": \"10\", \"goal\": \"accuracy_max\", \"run_name\": \"SparseNormalizer, XGBoostClassifier\", \"run_properties\": \"<azureml.automl.runtime.shared.model_wrappers.SparseNormalizer object at 0x7f17ed898c88\", \"primary_metric\": 0.97859725, \"best_metric\": 0.97859725}, {\"run_id\": \"AutoML_28268a08-9643-4d77-84d6-ff7f89e0ec72_11\", \"run_number\": 16, \"metric\": null, \"status\": \"Completed\", \"run_type\": \"azureml.scriptrun\", \"training_percent\": \"100\", \"start_time\": \"2021-02-09T14:58:41.999017Z\", \"end_time\": \"2021-02-09T14:59:56.495966Z\", \"created_time\": \"2021-02-09T14:58:27.415228Z\", \"created_time_dt\": \"2021-02-09T14:58:27.415228Z\", \"duration\": \"0:01:29\", \"iteration\": \"11\", \"goal\": \"accuracy_max\", \"run_name\": \"MaxAbsScaler, LightGBM\", \"run_properties\": \"copy=True\", \"primary_metric\": 0.82477094, \"best_metric\": 0.97859725}, {\"run_id\": \"AutoML_28268a08-9643-4d77-84d6-ff7f89e0ec72_12\", \"run_number\": 17, \"metric\": null, \"status\": \"Completed\", \"run_type\": \"azureml.scriptrun\", \"training_percent\": \"100\", \"start_time\": \"2021-02-09T14:59:52.535929Z\", \"end_time\": \"2021-02-09T15:03:21.715251Z\", \"created_time\": \"2021-02-09T14:59:37.574976Z\", \"created_time_dt\": \"2021-02-09T14:59:37.574976Z\", \"duration\": \"0:03:44\", \"iteration\": \"12\", \"goal\": \"accuracy_max\", \"run_name\": \"StandardScalerWrapper, RandomForest\", \"run_properties\": \"<azureml.automl.runtime.shared.model_wrappers.StandardScalerWrapper object at 0x7f702b7faac8\", \"primary_metric\": 0.9390905, \"best_metric\": 0.97859725}, {\"run_id\": \"AutoML_28268a08-9643-4d77-84d6-ff7f89e0ec72_13\", \"run_number\": 18, \"metric\": null, \"status\": \"Completed\", \"run_type\": \"azureml.scriptrun\", \"training_percent\": \"100\", \"start_time\": \"2021-02-09T15:00:13.914694Z\", \"end_time\": \"2021-02-09T15:01:58.28783Z\", \"created_time\": \"2021-02-09T14:59:59.859996Z\", \"created_time_dt\": \"2021-02-09T14:59:59.859996Z\", \"duration\": \"0:01:58\", \"iteration\": \"13\", \"goal\": \"accuracy_max\", \"run_name\": \"MaxAbsScaler, LogisticRegression\", \"run_properties\": \"copy=True\", \"primary_metric\": 0.97752775, \"best_metric\": 0.97859725}, {\"run_id\": \"AutoML_28268a08-9643-4d77-84d6-ff7f89e0ec72_14\", \"run_number\": 19, \"metric\": null, \"status\": \"Completed\", \"run_type\": \"azureml.scriptrun\", \"training_percent\": \"100\", \"start_time\": \"2021-02-09T15:01:41.030799Z\", \"end_time\": \"2021-02-09T15:03:35.547041Z\", \"created_time\": \"2021-02-09T15:01:27.665544Z\", \"created_time_dt\": \"2021-02-09T15:01:27.665544Z\", \"duration\": \"0:02:07\", \"iteration\": \"14\", \"goal\": \"accuracy_max\", \"run_name\": \"StandardScalerWrapper, LogisticRegression\", \"run_properties\": \"<azureml.automl.runtime.shared.model_wrappers.StandardScalerWrapper object at 0x7f7ed17690f0\", \"primary_metric\": 0.97821068, \"best_metric\": 0.97859725}, {\"run_id\": \"AutoML_28268a08-9643-4d77-84d6-ff7f89e0ec72_15\", \"run_number\": 20, \"metric\": null, \"status\": \"Completed\", \"run_type\": \"azureml.scriptrun\", \"training_percent\": \"100\", \"start_time\": \"2021-02-09T15:02:11.250129Z\", \"end_time\": \"2021-02-09T15:03:45.16437Z\", \"created_time\": \"2021-02-09T15:02:00.955326Z\", \"created_time_dt\": \"2021-02-09T15:02:00.955326Z\", \"duration\": \"0:01:44\", \"iteration\": \"15\", \"goal\": \"accuracy_max\", \"run_name\": \"SparseNormalizer, LightGBM\", \"run_properties\": \"<azureml.automl.runtime.shared.model_wrappers.SparseNormalizer object at 0x7ff424e8b668\", \"primary_metric\": 0.89021613, \"best_metric\": 0.97859725}, {\"run_id\": \"AutoML_28268a08-9643-4d77-84d6-ff7f89e0ec72_16\", \"run_number\": 21, \"metric\": null, \"status\": \"Completed\", \"run_type\": \"azureml.scriptrun\", \"training_percent\": \"100\", \"start_time\": \"2021-02-09T15:02:22.208715Z\", \"end_time\": \"2021-02-09T15:03:34.319571Z\", \"created_time\": \"2021-02-09T15:02:07.867721Z\", \"created_time_dt\": \"2021-02-09T15:02:07.867721Z\", \"duration\": \"0:01:26\", \"iteration\": \"16\", \"goal\": \"accuracy_max\", \"run_name\": \"StandardScalerWrapper, LightGBM\", \"run_properties\": \"<azureml.automl.runtime.shared.model_wrappers.StandardScalerWrapper object at 0x7f3b171c4ba8\", \"primary_metric\": 0.92472323, \"best_metric\": 0.97859725}, {\"run_id\": \"AutoML_28268a08-9643-4d77-84d6-ff7f89e0ec72_17\", \"run_number\": 22, \"metric\": null, \"status\": \"Completed\", \"run_type\": \"azureml.scriptrun\", \"training_percent\": \"100\", \"start_time\": \"2021-02-09T15:03:35.4189Z\", \"end_time\": \"2021-02-09T15:09:27.818446Z\", \"created_time\": \"2021-02-09T15:03:23.945848Z\", \"created_time_dt\": \"2021-02-09T15:03:23.945848Z\", \"duration\": \"0:06:03\", \"iteration\": \"17\", \"goal\": \"accuracy_max\", \"run_name\": \"MaxAbsScaler, ExtremeRandomTrees\", \"run_properties\": \"copy=True\", \"primary_metric\": 0.77388631, \"best_metric\": 0.97859725}, {\"run_id\": \"AutoML_28268a08-9643-4d77-84d6-ff7f89e0ec72_18\", \"run_number\": 23, \"metric\": null, \"status\": \"Completed\", \"run_type\": \"azureml.scriptrun\", \"training_percent\": \"100\", \"start_time\": \"2021-02-09T15:03:47.282876Z\", \"end_time\": \"2021-02-09T15:05:00.507815Z\", \"created_time\": \"2021-02-09T15:03:36.124188Z\", \"created_time_dt\": \"2021-02-09T15:03:36.124188Z\", \"duration\": \"0:01:24\", \"iteration\": \"18\", \"goal\": \"accuracy_max\", \"run_name\": \"MaxAbsScaler, LightGBM\", \"run_properties\": \"copy=True\", \"primary_metric\": 0.97404872, \"best_metric\": 0.97859725}, {\"run_id\": \"AutoML_28268a08-9643-4d77-84d6-ff7f89e0ec72_19\", \"run_number\": 24, \"metric\": null, \"status\": \"Completed\", \"run_type\": \"azureml.scriptrun\", \"training_percent\": \"100\", \"start_time\": \"2021-02-09T15:03:53.470889Z\", \"end_time\": \"2021-02-09T15:07:04.019553Z\", \"created_time\": \"2021-02-09T15:03:39.414235Z\", \"created_time_dt\": \"2021-02-09T15:03:39.414235Z\", \"duration\": \"0:03:24\", \"iteration\": \"19\", \"goal\": \"accuracy_max\", \"run_name\": \"SparseNormalizer, XGBoostClassifier\", \"run_properties\": \"<azureml.automl.runtime.shared.model_wrappers.SparseNormalizer object at 0x7f034b7fdf98\", \"primary_metric\": 0.97629076, \"best_metric\": 0.97859725}, {\"run_id\": \"AutoML_28268a08-9643-4d77-84d6-ff7f89e0ec72_20\", \"run_number\": 25, \"metric\": null, \"status\": \"Completed\", \"run_type\": \"azureml.scriptrun\", \"training_percent\": \"100\", \"start_time\": \"2021-02-09T15:03:59.351728Z\", \"end_time\": \"2021-02-09T15:05:46.449294Z\", \"created_time\": \"2021-02-09T15:03:47.106499Z\", \"created_time_dt\": \"2021-02-09T15:03:47.106499Z\", \"duration\": \"0:01:59\", \"iteration\": \"20\", \"goal\": \"accuracy_max\", \"run_name\": \"StandardScalerWrapper, XGBoostClassifier\", \"run_properties\": \"<azureml.automl.runtime.shared.model_wrappers.StandardScalerWrapper object at 0x7f190698f780\", \"primary_metric\": 0.97761799, \"best_metric\": 0.97859725}, {\"run_id\": \"AutoML_28268a08-9643-4d77-84d6-ff7f89e0ec72_21\", \"run_number\": 26, \"metric\": null, \"status\": \"Completed\", \"run_type\": \"azureml.scriptrun\", \"training_percent\": \"100\", \"start_time\": \"2021-02-09T15:05:15.8852Z\", \"end_time\": \"2021-02-09T15:07:35.416115Z\", \"created_time\": \"2021-02-09T15:05:02.471554Z\", \"created_time_dt\": \"2021-02-09T15:05:02.471554Z\", \"duration\": \"0:02:32\", \"iteration\": \"21\", \"goal\": \"accuracy_max\", \"run_name\": \"SparseNormalizer, XGBoostClassifier\", \"run_properties\": \"<azureml.automl.runtime.shared.model_wrappers.SparseNormalizer object at 0x7f3d30547908\", \"primary_metric\": 0.971652, \"best_metric\": 0.97859725}, {\"run_id\": \"AutoML_28268a08-9643-4d77-84d6-ff7f89e0ec72_22\", \"run_number\": 27, \"metric\": null, \"status\": \"Completed\", \"run_type\": \"azureml.scriptrun\", \"training_percent\": \"100\", \"start_time\": \"2021-02-09T15:06:00.721994Z\", \"end_time\": \"2021-02-09T15:08:43.913379Z\", \"created_time\": \"2021-02-09T15:05:48.555059Z\", \"created_time_dt\": \"2021-02-09T15:05:48.555059Z\", \"duration\": \"0:02:55\", \"iteration\": \"22\", \"goal\": \"accuracy_max\", \"run_name\": \"SparseNormalizer, XGBoostClassifier\", \"run_properties\": \"<azureml.automl.runtime.shared.model_wrappers.SparseNormalizer object at 0x7ff5634d97b8\", \"primary_metric\": 0.97353326, \"best_metric\": 0.97859725}, {\"run_id\": \"AutoML_28268a08-9643-4d77-84d6-ff7f89e0ec72_23\", \"run_number\": 28, \"metric\": null, \"status\": \"Completed\", \"run_type\": \"azureml.scriptrun\", \"training_percent\": \"100\", \"start_time\": \"2021-02-09T15:07:21.023204Z\", \"end_time\": \"2021-02-09T15:08:30.961786Z\", \"created_time\": \"2021-02-09T15:07:07.156156Z\", \"created_time_dt\": \"2021-02-09T15:07:07.156156Z\", \"duration\": \"0:01:23\", \"iteration\": \"23\", \"goal\": \"accuracy_max\", \"run_name\": \"MaxAbsScaler, LightGBM\", \"run_properties\": \"copy=True\", \"primary_metric\": 0.74459772, \"best_metric\": 0.97859725}, {\"run_id\": \"AutoML_28268a08-9643-4d77-84d6-ff7f89e0ec72_24\", \"run_number\": 29, \"metric\": null, \"status\": \"Completed\", \"run_type\": \"azureml.scriptrun\", \"training_percent\": \"100\", \"start_time\": \"2021-02-09T15:07:51.326224Z\", \"end_time\": \"2021-02-09T15:09:37.452351Z\", \"created_time\": \"2021-02-09T15:07:38.192087Z\", \"created_time_dt\": \"2021-02-09T15:07:38.192087Z\", \"duration\": \"0:01:59\", \"iteration\": \"24\", \"goal\": \"accuracy_max\", \"run_name\": \"SparseNormalizer, XGBoostClassifier\", \"run_properties\": \"<azureml.automl.runtime.shared.model_wrappers.SparseNormalizer object at 0x7fefc483ff60\", \"primary_metric\": 0.96006802, \"best_metric\": 0.97859725}, {\"run_id\": \"AutoML_28268a08-9643-4d77-84d6-ff7f89e0ec72_25\", \"run_number\": 30, \"metric\": null, \"status\": \"Completed\", \"run_type\": \"azureml.scriptrun\", \"training_percent\": \"100\", \"start_time\": \"2021-02-09T15:08:44.82361Z\", \"end_time\": \"2021-02-09T15:09:50.66118Z\", \"created_time\": \"2021-02-09T15:08:34.203639Z\", \"created_time_dt\": \"2021-02-09T15:08:34.203639Z\", \"duration\": \"0:01:16\", \"iteration\": \"25\", \"goal\": \"accuracy_max\", \"run_name\": \"TruncatedSVDWrapper, XGBoostClassifier\", \"run_properties\": \"n_components=0.05947368421052632, random_state=None\", \"primary_metric\": 0.70695937, \"best_metric\": 0.97859725}, {\"run_id\": \"AutoML_28268a08-9643-4d77-84d6-ff7f89e0ec72_26\", \"run_number\": 31, \"metric\": null, \"status\": \"Completed\", \"run_type\": \"azureml.scriptrun\", \"training_percent\": \"100\", \"start_time\": \"2021-02-09T15:08:59.801918Z\", \"end_time\": \"2021-02-09T15:10:11.504382Z\", \"created_time\": \"2021-02-09T15:08:46.479879Z\", \"created_time_dt\": \"2021-02-09T15:08:46.479879Z\", \"duration\": \"0:01:25\", \"iteration\": \"26\", \"goal\": \"accuracy_max\", \"run_name\": \"MaxAbsScaler, RandomForest\", \"run_properties\": \"copy=True\", \"primary_metric\": 0.64059969, \"best_metric\": 0.97859725}, {\"run_id\": \"AutoML_28268a08-9643-4d77-84d6-ff7f89e0ec72_27\", \"run_number\": 32, \"metric\": null, \"status\": \"Completed\", \"run_type\": \"azureml.scriptrun\", \"training_percent\": \"100\", \"start_time\": \"2021-02-09T15:09:43.106997Z\", \"end_time\": \"2021-02-09T15:10:42.882654Z\", \"created_time\": \"2021-02-09T15:09:30.439489Z\", \"created_time_dt\": \"2021-02-09T15:09:30.439489Z\", \"duration\": \"0:01:12\", \"iteration\": \"27\", \"goal\": \"accuracy_max\", \"run_name\": \"MaxAbsScaler, ExtremeRandomTrees\", \"run_properties\": \"copy=True\", \"primary_metric\": 0.95149936, \"best_metric\": 0.97859725}, {\"run_id\": \"AutoML_28268a08-9643-4d77-84d6-ff7f89e0ec72_28\", \"run_number\": 33, \"metric\": null, \"status\": \"Completed\", \"run_type\": \"azureml.scriptrun\", \"training_percent\": \"100\", \"start_time\": \"2021-02-09T15:09:50.697094Z\", \"end_time\": \"2021-02-09T15:11:44.36013Z\", \"created_time\": \"2021-02-09T15:09:39.929115Z\", \"created_time_dt\": \"2021-02-09T15:09:39.929115Z\", \"duration\": \"0:02:04\", \"iteration\": \"28\", \"goal\": \"accuracy_max\", \"run_name\": \"StandardScalerWrapper, XGBoostClassifier\", \"run_properties\": \"<azureml.automl.runtime.shared.model_wrappers.StandardScalerWrapper object at 0x7f02260f75c0\", \"primary_metric\": 0.97881629, \"best_metric\": 0.97881629}, {\"run_id\": \"AutoML_28268a08-9643-4d77-84d6-ff7f89e0ec72_29\", \"run_number\": 34, \"metric\": null, \"status\": \"Completed\", \"run_type\": \"azureml.scriptrun\", \"training_percent\": \"100\", \"start_time\": \"2021-02-09T15:10:05.050203Z\", \"end_time\": \"2021-02-09T15:15:07.814333Z\", \"created_time\": \"2021-02-09T15:09:52.987873Z\", \"created_time_dt\": \"2021-02-09T15:09:52.987873Z\", \"duration\": \"0:05:14\", \"iteration\": \"29\", \"goal\": \"accuracy_max\", \"run_name\": \"SparseNormalizer, XGBoostClassifier\", \"run_properties\": \"<azureml.automl.runtime.shared.model_wrappers.SparseNormalizer object at 0x7fe6bffa1208\", \"primary_metric\": 0.97846839, \"best_metric\": 0.97881629}, {\"run_id\": \"AutoML_28268a08-9643-4d77-84d6-ff7f89e0ec72_30\", \"run_number\": 35, \"metric\": null, \"status\": \"Completed\", \"run_type\": \"azureml.scriptrun\", \"training_percent\": \"100\", \"start_time\": \"2021-02-09T15:10:32.056836Z\", \"end_time\": \"2021-02-09T15:11:36.926705Z\", \"created_time\": \"2021-02-09T15:10:17.831873Z\", \"created_time_dt\": \"2021-02-09T15:10:17.831873Z\", \"duration\": \"0:01:19\", \"iteration\": \"30\", \"goal\": \"accuracy_max\", \"run_name\": \"TruncatedSVDWrapper, XGBoostClassifier\", \"run_properties\": \"n_components=0.8510526315789474, random_state=None\", \"primary_metric\": 0.55109716, \"best_metric\": 0.97881629}, {\"run_id\": \"AutoML_28268a08-9643-4d77-84d6-ff7f89e0ec72_31\", \"run_number\": 36, \"metric\": null, \"status\": \"Completed\", \"run_type\": \"azureml.scriptrun\", \"training_percent\": \"100\", \"start_time\": \"2021-02-09T15:11:02.439466Z\", \"end_time\": \"2021-02-09T15:12:46.330235Z\", \"created_time\": \"2021-02-09T15:10:46.225713Z\", \"created_time_dt\": \"2021-02-09T15:10:46.225713Z\", \"duration\": \"0:02:00\", \"iteration\": \"31\", \"goal\": \"accuracy_max\", \"run_name\": \"StandardScalerWrapper, XGBoostClassifier\", \"run_properties\": \"<azureml.automl.runtime.shared.model_wrappers.StandardScalerWrapper object at 0x7fe4da5d0940\", \"primary_metric\": 0.97657427, \"best_metric\": 0.97881629}, {\"run_id\": \"AutoML_28268a08-9643-4d77-84d6-ff7f89e0ec72_32\", \"run_number\": 37, \"metric\": null, \"status\": \"Completed\", \"run_type\": \"azureml.scriptrun\", \"training_percent\": \"100\", \"start_time\": \"2021-02-09T15:11:51.362602Z\", \"end_time\": \"2021-02-09T15:19:04.72757Z\", \"created_time\": \"2021-02-09T15:11:39.687371Z\", \"created_time_dt\": \"2021-02-09T15:11:39.687371Z\", \"duration\": \"0:07:25\", \"iteration\": \"32\", \"goal\": \"accuracy_max\", \"run_name\": \"SparseNormalizer, XGBoostClassifier\", \"run_properties\": \"<azureml.automl.runtime.shared.model_wrappers.SparseNormalizer object at 0x7f59f04257f0\", \"primary_metric\": 0.97818492, \"best_metric\": 0.97881629}, {\"run_id\": \"AutoML_28268a08-9643-4d77-84d6-ff7f89e0ec72_33\", \"run_number\": 38, \"metric\": null, \"status\": \"Completed\", \"run_type\": \"azureml.scriptrun\", \"training_percent\": \"100\", \"start_time\": \"2021-02-09T15:12:01.250857Z\", \"end_time\": \"2021-02-09T15:14:29.747573Z\", \"created_time\": \"2021-02-09T15:11:47.170236Z\", \"created_time_dt\": \"2021-02-09T15:11:47.170236Z\", \"duration\": \"0:02:42\", \"iteration\": \"33\", \"goal\": \"accuracy_max\", \"run_name\": \"StandardScalerWrapper, LogisticRegression\", \"run_properties\": \"<azureml.automl.runtime.shared.model_wrappers.StandardScalerWrapper object at 0x7f3a0d1cab00\", \"primary_metric\": 0.97826221, \"best_metric\": 0.97881629}, {\"run_id\": \"AutoML_28268a08-9643-4d77-84d6-ff7f89e0ec72_34\", \"run_number\": 39, \"metric\": null, \"status\": \"Completed\", \"run_type\": \"azureml.scriptrun\", \"training_percent\": \"100\", \"start_time\": \"2021-02-09T15:13:01.79814Z\", \"end_time\": \"2021-02-09T15:14:41.833416Z\", \"created_time\": \"2021-02-09T15:12:48.442341Z\", \"created_time_dt\": \"2021-02-09T15:12:48.442341Z\", \"duration\": \"0:01:53\", \"iteration\": \"34\", \"goal\": \"accuracy_max\", \"run_name\": \"StandardScalerWrapper, XGBoostClassifier\", \"run_properties\": \"<azureml.automl.runtime.shared.model_wrappers.StandardScalerWrapper object at 0x7f02b4972160\", \"primary_metric\": 0.97812049, \"best_metric\": 0.97881629}, {\"run_id\": \"AutoML_28268a08-9643-4d77-84d6-ff7f89e0ec72_35\", \"run_number\": 40, \"metric\": null, \"status\": \"Canceled\", \"run_type\": \"azureml.scriptrun\", \"training_percent\": \"100\", \"start_time\": \"2021-02-09T15:14:44.867731Z\", \"end_time\": \"2021-02-09T15:21:48.024778Z\", \"created_time\": \"2021-02-09T15:14:32.410449Z\", \"created_time_dt\": \"2021-02-09T15:14:32.410449Z\", \"duration\": \"0:07:15\", \"iteration\": \"35\", \"goal\": null, \"run_name\": \"SparseNormalizer, XGBoostClassifier\", \"run_properties\": null}, {\"run_id\": \"AutoML_28268a08-9643-4d77-84d6-ff7f89e0ec72_36\", \"run_number\": 41, \"metric\": null, \"status\": \"Canceled\", \"run_type\": \"azureml.scriptrun\", \"training_percent\": \"100\", \"start_time\": \"2021-02-09T15:14:54.811062Z\", \"end_time\": \"2021-02-09T15:21:42.414985Z\", \"created_time\": \"2021-02-09T15:14:43.547131Z\", \"created_time_dt\": \"2021-02-09T15:14:43.547131Z\", \"duration\": \"0:06:58\", \"iteration\": \"36\", \"goal\": null, \"run_name\": \"StandardScalerWrapper, XGBoostClassifier\", \"run_properties\": null}, {\"run_id\": \"AutoML_28268a08-9643-4d77-84d6-ff7f89e0ec72_37\", \"run_number\": 42, \"metric\": null, \"status\": \"Canceled\", \"run_type\": \"azureml.scriptrun\", \"training_percent\": \"100\", \"start_time\": \"2021-02-09T15:15:21.128116Z\", \"end_time\": \"2021-02-09T15:21:42.277107Z\", \"created_time\": \"2021-02-09T15:15:10.500309Z\", \"created_time_dt\": \"2021-02-09T15:15:10.500309Z\", \"duration\": \"0:06:31\", \"iteration\": \"37\", \"goal\": null, \"run_name\": \"StandardScalerWrapper, XGBoostClassifier\", \"run_properties\": null}, {\"run_id\": \"AutoML_28268a08-9643-4d77-84d6-ff7f89e0ec72_38\", \"run_number\": 43, \"metric\": null, \"status\": \"Completed\", \"run_type\": \"azureml.scriptrun\", \"training_percent\": \"100\", \"start_time\": \"2021-02-09T15:19:19.040794Z\", \"end_time\": \"2021-02-09T15:21:31.173517Z\", \"created_time\": \"2021-02-09T15:19:06.565033Z\", \"created_time_dt\": \"2021-02-09T15:19:06.565033Z\", \"duration\": \"0:02:24\", \"iteration\": \"38\", \"goal\": \"accuracy_max\", \"run_name\": \"StandardScalerWrapper, LogisticRegression\", \"run_properties\": \"<azureml.automl.runtime.shared.model_wrappers.StandardScalerWrapper object at 0x7f64d0da2e80\", \"primary_metric\": 0.97824933, \"best_metric\": 0.97881629}], \"children_metrics\": {\"categories\": [0], \"series\": {\"f1_score_micro\": [{\"categories\": [\"0\", \"1\", \"2\", \"3\", \"4\", \"5\", \"6\", \"7\", \"8\", \"9\", \"10\", \"11\", \"12\", \"13\", \"14\", \"15\", \"16\", \"17\", \"18\", \"19\", \"20\", \"21\", \"22\", \"23\", \"24\", \"25\", \"26\", \"27\", \"28\", \"29\", \"30\", \"31\", \"32\", \"33\", \"34\", \"38\"], \"mode\": \"markers\", \"name\": \"f1_score_micro\", \"stepped\": false, \"type\": \"scatter\", \"data\": [0.9783782065124994, 0.9785585873359967, 0.9196849286186831, 0.7202829097604178, 0.811486088721308, 0.7405256870207421, 0.9784168438916311, 0.9759686227489454, 0.9785586006185815, 0.9632377574145237, 0.9785972496199749, 0.8247709416159748, 0.9390904954214058, 0.977527749997113, 0.9782106774200482, 0.8902161268329458, 0.9247232347218457, 0.7738863052739309, 0.9740487189108752, 0.9762907627898778, 0.9776179860677473, 0.9716519951799822, 0.9735332649595673, 0.7445977207698642, 0.960068017128657, 0.7069593746578955, 0.6405996942631214, 0.9514993618423597, 0.9788162943877733, 0.9784683911131171, 0.5510971610209828, 0.9765742654516787, 0.9781849158466475, 0.9782622146795958, 0.9781204886686226, 0.9782493297420876]}, {\"categories\": [\"0\", \"1\", \"2\", \"3\", \"4\", \"5\", \"6\", \"7\", \"8\", \"9\", \"10\", \"11\", \"12\", \"13\", \"14\", \"15\", \"16\", \"17\", \"18\", \"19\", \"20\", \"21\", \"22\", \"23\", \"24\", \"25\", \"26\", \"27\", \"28\", \"29\", \"30\", \"31\", \"32\", \"33\", \"34\", \"38\"], \"mode\": \"lines\", \"name\": \"f1_score_micro_max\", \"stepped\": true, \"type\": \"scatter\", \"data\": [0.9783782065124994, 0.9785585873359967, 0.9785585873359967, 0.9785585873359967, 0.9785585873359967, 0.9785585873359967, 0.9785585873359967, 0.9785585873359967, 0.9785586006185815, 0.9785586006185815, 0.9785972496199749, 0.9785972496199749, 0.9785972496199749, 0.9785972496199749, 0.9785972496199749, 0.9785972496199749, 0.9785972496199749, 0.9785972496199749, 0.9785972496199749, 0.9785972496199749, 0.9785972496199749, 0.9785972496199749, 0.9785972496199749, 0.9785972496199749, 0.9785972496199749, 0.9785972496199749, 0.9785972496199749, 0.9785972496199749, 0.9788162943877733, 0.9788162943877733, 0.9788162943877733, 0.9788162943877733, 0.9788162943877733, 0.9788162943877733, 0.9788162943877733, 0.9788162943877733]}], \"recall_score_micro\": [{\"categories\": [\"0\", \"1\", \"2\", \"3\", \"4\", \"5\", \"6\", \"7\", \"8\", \"9\", \"10\", \"11\", \"12\", \"13\", \"14\", \"15\", \"16\", \"17\", \"18\", \"19\", \"20\", \"21\", \"22\", \"23\", \"24\", \"25\", \"26\", \"27\", \"28\", \"29\", \"30\", \"31\", \"32\", \"33\", \"34\", \"38\"], \"mode\": \"markers\", \"name\": \"recall_score_micro\", \"stepped\": false, \"type\": \"scatter\", \"data\": [0.9783782065124994, 0.9785585873359967, 0.9196849286186831, 0.7202829097604178, 0.811486088721308, 0.7405256870207421, 0.9784168438916311, 0.9759686227489454, 0.9785586006185815, 0.9632377574145237, 0.9785972496199749, 0.8247709416159748, 0.9390904954214058, 0.977527749997113, 0.9782106774200482, 0.8902161268329458, 0.9247232347218457, 0.7738863052739309, 0.9740487189108752, 0.9762907627898778, 0.9776179860677473, 0.9716519951799825, 0.9735332649595673, 0.7445977207698643, 0.960068017128657, 0.7069593746578956, 0.6405996942631214, 0.9514993618423597, 0.9788162943877733, 0.9784683911131171, 0.5510971610209828, 0.9765742654516787, 0.9781849158466475, 0.9782622146795958, 0.9781204886686226, 0.9782493297420876]}, {\"categories\": [\"0\", \"1\", \"2\", \"3\", \"4\", \"5\", \"6\", \"7\", \"8\", \"9\", \"10\", \"11\", \"12\", \"13\", \"14\", \"15\", \"16\", \"17\", \"18\", \"19\", \"20\", \"21\", \"22\", \"23\", \"24\", \"25\", \"26\", \"27\", \"28\", \"29\", \"30\", \"31\", \"32\", \"33\", \"34\", \"38\"], \"mode\": \"lines\", \"name\": \"recall_score_micro_max\", \"stepped\": true, \"type\": \"scatter\", \"data\": [0.9783782065124994, 0.9785585873359967, 0.9785585873359967, 0.9785585873359967, 0.9785585873359967, 0.9785585873359967, 0.9785585873359967, 0.9785585873359967, 0.9785586006185815, 0.9785586006185815, 0.9785972496199749, 0.9785972496199749, 0.9785972496199749, 0.9785972496199749, 0.9785972496199749, 0.9785972496199749, 0.9785972496199749, 0.9785972496199749, 0.9785972496199749, 0.9785972496199749, 0.9785972496199749, 0.9785972496199749, 0.9785972496199749, 0.9785972496199749, 0.9785972496199749, 0.9785972496199749, 0.9785972496199749, 0.9785972496199749, 0.9788162943877733, 0.9788162943877733, 0.9788162943877733, 0.9788162943877733, 0.9788162943877733, 0.9788162943877733, 0.9788162943877733, 0.9788162943877733]}], \"precision_score_micro\": [{\"categories\": [\"0\", \"1\", \"2\", \"3\", \"4\", \"5\", \"6\", \"7\", \"8\", \"9\", \"10\", \"11\", \"12\", \"13\", \"14\", \"15\", \"16\", \"17\", \"18\", \"19\", \"20\", \"21\", \"22\", \"23\", \"24\", \"25\", \"26\", \"27\", \"28\", \"29\", \"30\", \"31\", \"32\", \"33\", \"34\", \"38\"], \"mode\": \"markers\", \"name\": \"precision_score_micro\", \"stepped\": false, \"type\": \"scatter\", \"data\": [0.9783782065124994, 0.9785585873359967, 0.9196849286186831, 0.7202829097604178, 0.811486088721308, 0.7405256870207421, 0.9784168438916311, 0.9759686227489454, 0.9785586006185815, 0.9632377574145237, 0.9785972496199749, 0.8247709416159748, 0.9390904954214058, 0.977527749997113, 0.9782106774200482, 0.8902161268329458, 0.9247232347218457, 0.7738863052739309, 0.9740487189108752, 0.9762907627898778, 0.9776179860677473, 0.9716519951799825, 0.9735332649595673, 0.7445977207698643, 0.960068017128657, 0.7069593746578956, 0.6405996942631214, 0.9514993618423597, 0.9788162943877733, 0.9784683911131171, 0.5510971610209828, 0.9765742654516787, 0.9781849158466475, 0.9782622146795958, 0.9781204886686226, 0.9782493297420876]}, {\"categories\": [\"0\", \"1\", \"2\", \"3\", \"4\", \"5\", \"6\", \"7\", \"8\", \"9\", \"10\", \"11\", \"12\", \"13\", \"14\", \"15\", \"16\", \"17\", \"18\", \"19\", \"20\", \"21\", \"22\", \"23\", \"24\", \"25\", \"26\", \"27\", \"28\", \"29\", \"30\", \"31\", \"32\", \"33\", \"34\", \"38\"], \"mode\": \"lines\", \"name\": \"precision_score_micro_max\", \"stepped\": true, \"type\": \"scatter\", \"data\": [0.9783782065124994, 0.9785585873359967, 0.9785585873359967, 0.9785585873359967, 0.9785585873359967, 0.9785585873359967, 0.9785585873359967, 0.9785585873359967, 0.9785586006185815, 0.9785586006185815, 0.9785972496199749, 0.9785972496199749, 0.9785972496199749, 0.9785972496199749, 0.9785972496199749, 0.9785972496199749, 0.9785972496199749, 0.9785972496199749, 0.9785972496199749, 0.9785972496199749, 0.9785972496199749, 0.9785972496199749, 0.9785972496199749, 0.9785972496199749, 0.9785972496199749, 0.9785972496199749, 0.9785972496199749, 0.9785972496199749, 0.9788162943877733, 0.9788162943877733, 0.9788162943877733, 0.9788162943877733, 0.9788162943877733, 0.9788162943877733, 0.9788162943877733, 0.9788162943877733]}], \"AUC_macro\": [{\"categories\": [\"0\", \"1\", \"2\", \"3\", \"4\", \"5\", \"6\", \"7\", \"8\", \"9\", \"10\", \"11\", \"12\", \"13\", \"14\", \"15\", \"16\", \"17\", \"18\", \"19\", \"20\", \"21\", \"22\", \"23\", \"24\", \"25\", \"26\", \"27\", \"28\", \"29\", \"30\", \"31\", \"32\", \"33\", \"34\", \"38\"], \"mode\": \"markers\", \"name\": \"AUC_macro\", \"stepped\": false, \"type\": \"scatter\", \"data\": [0.9958165061204541, 0.9957745314887829, 0.970337657379981, 0.8020215415849645, 0.9399373426437734, 0.9092074866134616, 0.9957486595372199, 0.9954952219148077, 0.9957554512324865, 0.9929021057959707, 0.995804634408359, 0.9098284142179031, 0.9868224669942975, 0.9952672888724413, 0.9954844087527064, 0.9706918238123021, 0.9657420818131739, 0.85610695863313, 0.9954430683104409, 0.995604470744321, 0.9953282682353981, 0.9952635306970581, 0.9954378439027721, 0.8378993861472456, 0.9936709918156567, 0.7795212880375179, 0.8389522485675405, 0.985497901451818, 0.9958976149031014, 0.9957144708113, 0.5, 0.9951162138727281, 0.9957638838530306, 0.995481465094425, 0.9955354223086965, 0.9954711790909355]}, {\"categories\": [\"0\", \"1\", \"2\", \"3\", \"4\", \"5\", \"6\", \"7\", \"8\", \"9\", \"10\", \"11\", \"12\", \"13\", \"14\", \"15\", \"16\", \"17\", \"18\", \"19\", \"20\", \"21\", \"22\", \"23\", \"24\", \"25\", \"26\", \"27\", \"28\", \"29\", \"30\", \"31\", \"32\", \"33\", \"34\", \"38\"], \"mode\": \"lines\", \"name\": \"AUC_macro_max\", \"stepped\": true, \"type\": \"scatter\", \"data\": [0.9958165061204541, 0.9958165061204541, 0.9958165061204541, 0.9958165061204541, 0.9958165061204541, 0.9958165061204541, 0.9958165061204541, 0.9958165061204541, 0.9958165061204541, 0.9958165061204541, 0.9958165061204541, 0.9958165061204541, 0.9958165061204541, 0.9958165061204541, 0.9958165061204541, 0.9958165061204541, 0.9958165061204541, 0.9958165061204541, 0.9958165061204541, 0.9958165061204541, 0.9958165061204541, 0.9958165061204541, 0.9958165061204541, 0.9958165061204541, 0.9958165061204541, 0.9958165061204541, 0.9958165061204541, 0.9958165061204541, 0.9958976149031014, 0.9958976149031014, 0.9958976149031014, 0.9958976149031014, 0.9958976149031014, 0.9958976149031014, 0.9958976149031014, 0.9958976149031014]}], \"weighted_accuracy\": [{\"categories\": [\"0\", \"1\", \"2\", \"3\", \"4\", \"5\", \"6\", \"7\", \"8\", \"9\", \"10\", \"11\", \"12\", \"13\", \"14\", \"15\", \"16\", \"17\", \"18\", \"19\", \"20\", \"21\", \"22\", \"23\", \"24\", \"25\", \"26\", \"27\", \"28\", \"29\", \"30\", \"31\", \"32\", \"33\", \"34\", \"38\"], \"mode\": \"markers\", \"name\": \"weighted_accuracy\", \"stepped\": false, \"type\": \"scatter\", \"data\": [0.9923373823928603, 0.9932559946846908, 0.9470054516773148, 0.7433900182483619, 0.8137840806675877, 0.7466333308646724, 0.9945003118004629, 0.995441741276967, 0.9935273826511141, 0.9858682447946785, 0.9942806466641214, 0.8467852271388256, 0.9651706229404129, 0.9932724046170337, 0.9936653838179564, 0.9082593911238457, 0.9463913815973495, 0.7996288914828396, 0.989115904180984, 0.9948271123085876, 0.9925110665555772, 0.9947401231109533, 0.9960096291448532, 0.7616533498156602, 0.9803976999297251, 0.7266466530843776, 0.6583642392308169, 0.9544513718962515, 0.9939731970116057, 0.9940301398208129, 0.6279750685034939, 0.9911172221850301, 0.9928174953267312, 0.9937310128046638, 0.9940336181809052, 0.9937524285662139]}, {\"categories\": [\"0\", \"1\", \"2\", \"3\", \"4\", \"5\", \"6\", \"7\", \"8\", \"9\", \"10\", \"11\", \"12\", \"13\", \"14\", \"15\", \"16\", \"17\", \"18\", \"19\", \"20\", \"21\", \"22\", \"23\", \"24\", \"25\", \"26\", \"27\", \"28\", \"29\", \"30\", \"31\", \"32\", \"33\", \"34\", \"38\"], \"mode\": \"lines\", \"name\": \"weighted_accuracy_max\", \"stepped\": true, \"type\": \"scatter\", \"data\": [0.9923373823928603, 0.9932559946846908, 0.9932559946846908, 0.9932559946846908, 0.9932559946846908, 0.9932559946846908, 0.9945003118004629, 0.995441741276967, 0.995441741276967, 0.995441741276967, 0.995441741276967, 0.995441741276967, 0.995441741276967, 0.995441741276967, 0.995441741276967, 0.995441741276967, 0.995441741276967, 0.995441741276967, 0.995441741276967, 0.995441741276967, 0.995441741276967, 0.995441741276967, 0.9960096291448532, 0.9960096291448532, 0.9960096291448532, 0.9960096291448532, 0.9960096291448532, 0.9960096291448532, 0.9960096291448532, 0.9960096291448532, 0.9960096291448532, 0.9960096291448532, 0.9960096291448532, 0.9960096291448532, 0.9960096291448532, 0.9960096291448532]}], \"log_loss\": [{\"categories\": [\"0\", \"1\", \"2\", \"3\", \"4\", \"5\", \"6\", \"7\", \"8\", \"9\", \"10\", \"11\", \"12\", \"13\", \"14\", \"15\", \"16\", \"17\", \"18\", \"19\", \"20\", \"21\", \"22\", \"23\", \"24\", \"25\", \"26\", \"27\", \"28\", \"29\", \"30\", \"31\", \"32\", \"33\", \"34\", \"38\"], \"mode\": \"markers\", \"name\": \"log_loss\", \"stepped\": false, \"type\": \"scatter\", \"data\": [0.038358244039927915, 0.10356402824333988, 0.33421270892011196, 0.6257246053262758, 0.6089198234149726, 0.7283847145311767, 0.05401495649948845, 0.15112474440508916, 0.04634426023278733, 0.4959753042343268, 0.07289010913951309, 0.5307805545805437, 0.23902308279704787, 0.039990561666572486, 0.03882895759955679, 0.35081184664934534, 0.2652464786156933, 0.5641181458647753, 0.05030098900146209, 0.13777036391185787, 0.04086583402469046, 0.15000596861528645, 0.12716337254456775, 0.5632965787827322, 0.445988358939592, 0.782815064691509, 0.8529052372963217, 0.25370434065728364, 0.046501558149861504, 0.0497913477690894, 0.9012876904612867, 0.04310761304823045, 0.04207881468703221, 0.03907297738217874, 0.04583975482096505, 0.039877730088763184]}, {\"categories\": [\"0\", \"1\", \"2\", \"3\", \"4\", \"5\", \"6\", \"7\", \"8\", \"9\", \"10\", \"11\", \"12\", \"13\", \"14\", \"15\", \"16\", \"17\", \"18\", \"19\", \"20\", \"21\", \"22\", \"23\", \"24\", \"25\", \"26\", \"27\", \"28\", \"29\", \"30\", \"31\", \"32\", \"33\", \"34\", \"38\"], \"mode\": \"lines\", \"name\": \"log_loss_min\", \"stepped\": true, \"type\": \"scatter\", \"data\": [0.038358244039927915, 0.038358244039927915, 0.038358244039927915, 0.038358244039927915, 0.038358244039927915, 0.038358244039927915, 0.038358244039927915, 0.038358244039927915, 0.038358244039927915, 0.038358244039927915, 0.038358244039927915, 0.038358244039927915, 0.038358244039927915, 0.038358244039927915, 0.038358244039927915, 0.038358244039927915, 0.038358244039927915, 0.038358244039927915, 0.038358244039927915, 0.038358244039927915, 0.038358244039927915, 0.038358244039927915, 0.038358244039927915, 0.038358244039927915, 0.038358244039927915, 0.038358244039927915, 0.038358244039927915, 0.038358244039927915, 0.038358244039927915, 0.038358244039927915, 0.038358244039927915, 0.038358244039927915, 0.038358244039927915, 0.038358244039927915, 0.038358244039927915, 0.038358244039927915]}], \"recall_score_weighted\": [{\"categories\": [\"0\", \"1\", \"2\", \"3\", \"4\", \"5\", \"6\", \"7\", \"8\", \"9\", \"10\", \"11\", \"12\", \"13\", \"14\", \"15\", \"16\", \"17\", \"18\", \"19\", \"20\", \"21\", \"22\", \"23\", \"24\", \"25\", \"26\", \"27\", \"28\", \"29\", \"30\", \"31\", \"32\", \"33\", \"34\", \"38\"], \"mode\": \"markers\", \"name\": \"recall_score_weighted\", \"stepped\": false, \"type\": \"scatter\", \"data\": [0.9783782065124994, 0.9785585873359967, 0.9196849286186831, 0.7202829097604178, 0.811486088721308, 0.7405256870207421, 0.9784168438916311, 0.9759686227489454, 0.9785586006185815, 0.9632377574145237, 0.9785972496199749, 0.8247709416159748, 0.9390904954214058, 0.977527749997113, 0.9782106774200482, 0.8902161268329458, 0.9247232347218457, 0.7738863052739309, 0.9740487189108752, 0.9762907627898778, 0.9776179860677473, 0.9716519951799825, 0.9735332649595673, 0.7445977207698643, 0.960068017128657, 0.7069593746578956, 0.6405996942631214, 0.9514993618423597, 0.9788162943877733, 0.9784683911131171, 0.5510971610209828, 0.9765742654516787, 0.9781849158466475, 0.9782622146795958, 0.9781204886686226, 0.9782493297420876]}, {\"categories\": [\"0\", \"1\", \"2\", \"3\", \"4\", \"5\", \"6\", \"7\", \"8\", \"9\", \"10\", \"11\", \"12\", \"13\", \"14\", \"15\", \"16\", \"17\", \"18\", \"19\", \"20\", \"21\", \"22\", \"23\", \"24\", \"25\", \"26\", \"27\", \"28\", \"29\", \"30\", \"31\", \"32\", \"33\", \"34\", \"38\"], \"mode\": \"lines\", \"name\": \"recall_score_weighted_max\", \"stepped\": true, \"type\": \"scatter\", \"data\": [0.9783782065124994, 0.9785585873359967, 0.9785585873359967, 0.9785585873359967, 0.9785585873359967, 0.9785585873359967, 0.9785585873359967, 0.9785585873359967, 0.9785586006185815, 0.9785586006185815, 0.9785972496199749, 0.9785972496199749, 0.9785972496199749, 0.9785972496199749, 0.9785972496199749, 0.9785972496199749, 0.9785972496199749, 0.9785972496199749, 0.9785972496199749, 0.9785972496199749, 0.9785972496199749, 0.9785972496199749, 0.9785972496199749, 0.9785972496199749, 0.9785972496199749, 0.9785972496199749, 0.9785972496199749, 0.9785972496199749, 0.9788162943877733, 0.9788162943877733, 0.9788162943877733, 0.9788162943877733, 0.9788162943877733, 0.9788162943877733, 0.9788162943877733, 0.9788162943877733]}], \"AUC_micro\": [{\"categories\": [\"0\", \"1\", \"2\", \"3\", \"4\", \"5\", \"6\", \"7\", \"8\", \"9\", \"10\", \"11\", \"12\", \"13\", \"14\", \"15\", \"16\", \"17\", \"18\", \"19\", \"20\", \"21\", \"22\", \"23\", \"24\", \"25\", \"26\", \"27\", \"28\", \"29\", \"30\", \"31\", \"32\", \"33\", \"34\", \"38\"], \"mode\": \"markers\", \"name\": \"AUC_micro\", \"stepped\": false, \"type\": \"scatter\", \"data\": [0.9994473399913678, 0.9993092660377128, 0.9825437334842981, 0.8895156403441655, 0.936691947192781, 0.8931544357457604, 0.9994292690644542, 0.9991870944733563, 0.9994371907344621, 0.9962787592985738, 0.9994017199618657, 0.947031636153841, 0.992203647445919, 0.9993797923204735, 0.9994099026316668, 0.9779518535164652, 0.9859913309486593, 0.9238498884599963, 0.9991855852739014, 0.9993252956073715, 0.9993915970835221, 0.9988675364733023, 0.9991120110725775, 0.9073871687823807, 0.9972745869974032, 0.8783191882085543, 0.8264794205246829, 0.9853983961559678, 0.9994530173547848, 0.9994306781890001, 0.7627790852683922, 0.9993597666645379, 0.9994397301799873, 0.9994084828365309, 0.9994098542248817, 0.9994032924348714]}, {\"categories\": [\"0\", \"1\", \"2\", \"3\", \"4\", \"5\", \"6\", \"7\", \"8\", \"9\", \"10\", \"11\", \"12\", \"13\", \"14\", \"15\", \"16\", \"17\", \"18\", \"19\", \"20\", \"21\", \"22\", \"23\", \"24\", \"25\", \"26\", \"27\", \"28\", \"29\", \"30\", \"31\", \"32\", \"33\", \"34\", \"38\"], \"mode\": \"lines\", \"name\": \"AUC_micro_max\", \"stepped\": true, \"type\": \"scatter\", \"data\": [0.9994473399913678, 0.9994473399913678, 0.9994473399913678, 0.9994473399913678, 0.9994473399913678, 0.9994473399913678, 0.9994473399913678, 0.9994473399913678, 0.9994473399913678, 0.9994473399913678, 0.9994473399913678, 0.9994473399913678, 0.9994473399913678, 0.9994473399913678, 0.9994473399913678, 0.9994473399913678, 0.9994473399913678, 0.9994473399913678, 0.9994473399913678, 0.9994473399913678, 0.9994473399913678, 0.9994473399913678, 0.9994473399913678, 0.9994473399913678, 0.9994473399913678, 0.9994473399913678, 0.9994473399913678, 0.9994473399913678, 0.9994530173547848, 0.9994530173547848, 0.9994530173547848, 0.9994530173547848, 0.9994530173547848, 0.9994530173547848, 0.9994530173547848, 0.9994530173547848]}], \"matthews_correlation\": [{\"categories\": [\"0\", \"1\", \"2\", \"3\", \"4\", \"5\", \"6\", \"7\", \"8\", \"9\", \"10\", \"11\", \"12\", \"13\", \"14\", \"15\", \"16\", \"17\", \"18\", \"19\", \"20\", \"21\", \"22\", \"23\", \"24\", \"25\", \"26\", \"27\", \"28\", \"29\", \"30\", \"31\", \"32\", \"33\", \"34\", \"38\"], \"mode\": \"markers\", \"name\": \"matthews_correlation\", \"stepped\": false, \"type\": \"scatter\", \"data\": [0.9580299343204157, 0.958382964211218, 0.8418859177925488, 0.4464055141627969, 0.6649064337824833, 0.5702835699862122, 0.9581278427903845, 0.953460682641951, 0.958372643754746, 0.9282797932521184, 0.9584683494097046, 0.6553459944434226, 0.880389726956086, 0.9563685936702464, 0.9577036811161481, 0.785360947865248, 0.853927551361043, 0.5511885527627962, 0.9497099132387499, 0.9540286824753613, 0.9565442089281972, 0.9451161012942031, 0.9488732902347928, 0.5032107651054539, 0.9223506245238354, 0.4243603493970195, 0.42305426194218787, 0.9103544232592455, 0.9588881058847024, 0.9582120674016446, 0.0, 0.9545328269466177, 0.9576506112148448, 0.957806626877414, 0.9575338693515908, 0.9577809595100024]}, {\"categories\": [\"0\", \"1\", \"2\", \"3\", \"4\", \"5\", \"6\", \"7\", \"8\", \"9\", \"10\", \"11\", \"12\", \"13\", \"14\", \"15\", \"16\", \"17\", \"18\", \"19\", \"20\", \"21\", \"22\", \"23\", \"24\", \"25\", \"26\", \"27\", \"28\", \"29\", \"30\", \"31\", \"32\", \"33\", \"34\", \"38\"], \"mode\": \"lines\", \"name\": \"matthews_correlation_max\", \"stepped\": true, \"type\": \"scatter\", \"data\": [0.9580299343204157, 0.958382964211218, 0.958382964211218, 0.958382964211218, 0.958382964211218, 0.958382964211218, 0.958382964211218, 0.958382964211218, 0.958382964211218, 0.958382964211218, 0.9584683494097046, 0.9584683494097046, 0.9584683494097046, 0.9584683494097046, 0.9584683494097046, 0.9584683494097046, 0.9584683494097046, 0.9584683494097046, 0.9584683494097046, 0.9584683494097046, 0.9584683494097046, 0.9584683494097046, 0.9584683494097046, 0.9584683494097046, 0.9584683494097046, 0.9584683494097046, 0.9584683494097046, 0.9584683494097046, 0.9588881058847024, 0.9588881058847024, 0.9588881058847024, 0.9588881058847024, 0.9588881058847024, 0.9588881058847024, 0.9588881058847024, 0.9588881058847024]}], \"AUC_weighted\": [{\"categories\": [\"0\", \"1\", \"2\", \"3\", \"4\", \"5\", \"6\", \"7\", \"8\", \"9\", \"10\", \"11\", \"12\", \"13\", \"14\", \"15\", \"16\", \"17\", \"18\", \"19\", \"20\", \"21\", \"22\", \"23\", \"24\", \"25\", \"26\", \"27\", \"28\", \"29\", \"30\", \"31\", \"32\", \"33\", \"34\", \"38\"], \"mode\": \"markers\", \"name\": \"AUC_weighted\", \"stepped\": false, \"type\": \"scatter\", \"data\": [0.9992160998110864, 0.9990887605536249, 0.9787168436297389, 0.8068743664427773, 0.9307801339594169, 0.9014815600408227, 0.9991916869087298, 0.9989670133988138, 0.9991984551731337, 0.9953610268464594, 0.9991649567882636, 0.9254077968934651, 0.990473311798009, 0.9991123614533943, 0.9991528754827425, 0.9643208471517466, 0.9842935954648923, 0.876169332801916, 0.998935792152456, 0.9990949045354656, 0.9991252677568585, 0.9988536692826037, 0.9989499392110648, 0.837727200393204, 0.9967349758458655, 0.7817561899075869, 0.8519379619569228, 0.9877841393373672, 0.9992258632855819, 0.9991905597615537, 0.5, 0.9990877340787779, 0.9992050530217373, 0.9991519187315161, 0.9991539333256165, 0.999149811292388]}, {\"categories\": [\"0\", \"1\", \"2\", \"3\", \"4\", \"5\", \"6\", \"7\", \"8\", \"9\", \"10\", \"11\", \"12\", \"13\", \"14\", \"15\", \"16\", \"17\", \"18\", \"19\", \"20\", \"21\", \"22\", \"23\", \"24\", \"25\", \"26\", \"27\", \"28\", \"29\", \"30\", \"31\", \"32\", \"33\", \"34\", \"38\"], \"mode\": \"lines\", \"name\": \"AUC_weighted_max\", \"stepped\": true, \"type\": \"scatter\", \"data\": [0.9992160998110864, 0.9992160998110864, 0.9992160998110864, 0.9992160998110864, 0.9992160998110864, 0.9992160998110864, 0.9992160998110864, 0.9992160998110864, 0.9992160998110864, 0.9992160998110864, 0.9992160998110864, 0.9992160998110864, 0.9992160998110864, 0.9992160998110864, 0.9992160998110864, 0.9992160998110864, 0.9992160998110864, 0.9992160998110864, 0.9992160998110864, 0.9992160998110864, 0.9992160998110864, 0.9992160998110864, 0.9992160998110864, 0.9992160998110864, 0.9992160998110864, 0.9992160998110864, 0.9992160998110864, 0.9992160998110864, 0.9992258632855819, 0.9992258632855819, 0.9992258632855819, 0.9992258632855819, 0.9992258632855819, 0.9992258632855819, 0.9992258632855819, 0.9992258632855819]}], \"balanced_accuracy\": [{\"categories\": [\"0\", \"1\", \"2\", \"3\", \"4\", \"5\", \"6\", \"7\", \"8\", \"9\", \"10\", \"11\", \"12\", \"13\", \"14\", \"15\", \"16\", \"17\", \"18\", \"19\", \"20\", \"21\", \"22\", \"23\", \"24\", \"25\", \"26\", \"27\", \"28\", \"29\", \"30\", \"31\", \"32\", \"33\", \"34\", \"38\"], \"mode\": \"markers\", \"name\": \"balanced_accuracy\", \"stepped\": false, \"type\": \"scatter\", \"data\": [0.8152458289144093, 0.8046660815043317, 0.6260649813155044, 0.48916150160206656, 0.8335538574984204, 0.7724211735096143, 0.7835409141813239, 0.735391039697803, 0.7999231887010465, 0.6958709742048615, 0.7895438633818241, 0.563187087876179, 0.6450164954558137, 0.7897306208143362, 0.7933515968494536, 0.688156350710459, 0.6335211203687537, 0.5249208912301826, 0.791158451225894, 0.749236350961766, 0.8020828474877361, 0.6866442792118529, 0.6935675114556565, 0.5103869706677614, 0.7067892366954507, 0.48217181797596886, 0.6347091578943171, 0.9639542201537818, 0.7974042641845533, 0.7915742321279367, 0.3333333333333333, 0.8081249897220897, 0.8058934348824393, 0.7931504454047007, 0.7862872634330176, 0.7926442253291894]}, {\"categories\": [\"0\", \"1\", \"2\", \"3\", \"4\", \"5\", \"6\", \"7\", \"8\", \"9\", \"10\", \"11\", \"12\", \"13\", \"14\", \"15\", \"16\", \"17\", \"18\", \"19\", \"20\", \"21\", \"22\", \"23\", \"24\", \"25\", \"26\", \"27\", \"28\", \"29\", \"30\", \"31\", \"32\", \"33\", \"34\", \"38\"], \"mode\": \"lines\", \"name\": \"balanced_accuracy_max\", \"stepped\": true, \"type\": \"scatter\", \"data\": [0.8152458289144093, 0.8152458289144093, 0.8152458289144093, 0.8152458289144093, 0.8335538574984204, 0.8335538574984204, 0.8335538574984204, 0.8335538574984204, 0.8335538574984204, 0.8335538574984204, 0.8335538574984204, 0.8335538574984204, 0.8335538574984204, 0.8335538574984204, 0.8335538574984204, 0.8335538574984204, 0.8335538574984204, 0.8335538574984204, 0.8335538574984204, 0.8335538574984204, 0.8335538574984204, 0.8335538574984204, 0.8335538574984204, 0.8335538574984204, 0.8335538574984204, 0.8335538574984204, 0.8335538574984204, 0.9639542201537818, 0.9639542201537818, 0.9639542201537818, 0.9639542201537818, 0.9639542201537818, 0.9639542201537818, 0.9639542201537818, 0.9639542201537818, 0.9639542201537818]}], \"norm_macro_recall\": [{\"categories\": [\"0\", \"1\", \"2\", \"3\", \"4\", \"5\", \"6\", \"7\", \"8\", \"9\", \"10\", \"11\", \"12\", \"13\", \"14\", \"15\", \"16\", \"17\", \"18\", \"19\", \"20\", \"21\", \"22\", \"23\", \"24\", \"25\", \"26\", \"27\", \"28\", \"29\", \"30\", \"31\", \"32\", \"33\", \"34\", \"38\"], \"mode\": \"markers\", \"name\": \"norm_macro_recall\", \"stepped\": false, \"type\": \"scatter\", \"data\": [0.7228687433716138, 0.7069991222564976, 0.4390974719732565, 0.23374225240309993, 0.7503307862476306, 0.6586317602644213, 0.6753113712719857, 0.6030865595467045, 0.6998847830515699, 0.5438064613072923, 0.6843157950727361, 0.3447806318142684, 0.46752474318372067, 0.6845959312215044, 0.6900273952741802, 0.5322345260656884, 0.4502816805531305, 0.28738133684527384, 0.6867376768388409, 0.6238545264426489, 0.7031242712316041, 0.5299664188177794, 0.5403512671834848, 0.26558045600164204, 0.5601838550431759, 0.22325772696395335, 0.4520637368414757, 0.9459313302306727, 0.69610639627683, 0.687361348191905, 0.0, 0.7121874845831344, 0.7088401523236587, 0.6897256681070509, 0.6794308951495264, 0.6889663379937844]}, {\"categories\": [\"0\", \"1\", \"2\", \"3\", \"4\", \"5\", \"6\", \"7\", \"8\", \"9\", \"10\", \"11\", \"12\", \"13\", \"14\", \"15\", \"16\", \"17\", \"18\", \"19\", \"20\", \"21\", \"22\", \"23\", \"24\", \"25\", \"26\", \"27\", \"28\", \"29\", \"30\", \"31\", \"32\", \"33\", \"34\", \"38\"], \"mode\": \"lines\", \"name\": \"norm_macro_recall_max\", \"stepped\": true, \"type\": \"scatter\", \"data\": [0.7228687433716138, 0.7228687433716138, 0.7228687433716138, 0.7228687433716138, 0.7503307862476306, 0.7503307862476306, 0.7503307862476306, 0.7503307862476306, 0.7503307862476306, 0.7503307862476306, 0.7503307862476306, 0.7503307862476306, 0.7503307862476306, 0.7503307862476306, 0.7503307862476306, 0.7503307862476306, 0.7503307862476306, 0.7503307862476306, 0.7503307862476306, 0.7503307862476306, 0.7503307862476306, 0.7503307862476306, 0.7503307862476306, 0.7503307862476306, 0.7503307862476306, 0.7503307862476306, 0.7503307862476306, 0.9459313302306727, 0.9459313302306727, 0.9459313302306727, 0.9459313302306727, 0.9459313302306727, 0.9459313302306727, 0.9459313302306727, 0.9459313302306727, 0.9459313302306727]}], \"average_precision_score_macro\": [{\"categories\": [\"0\", \"1\", \"2\", \"3\", \"4\", \"5\", \"6\", \"7\", \"8\", \"9\", \"10\", \"11\", \"12\", \"13\", \"14\", \"15\", \"16\", \"17\", \"18\", \"19\", \"20\", \"21\", \"22\", \"23\", \"24\", \"25\", \"26\", \"27\", \"28\", \"29\", \"30\", \"31\", \"32\", \"33\", \"34\", \"38\"], \"mode\": \"markers\", \"name\": \"average_precision_score_macro\", \"stepped\": false, \"type\": \"scatter\", \"data\": [0.8693833187840033, 0.8706003853269582, 0.785859241060342, 0.5629790892874434, 0.738026243168584, 0.7062982683686532, 0.8697360572031583, 0.8655395201788757, 0.8675723713615525, 0.8586636783500069, 0.8695197277368252, 0.7032538720735313, 0.8139203730249646, 0.8488357460389558, 0.8582867412722418, 0.8155863914925339, 0.730890321348826, 0.61798683432477, 0.864661566368633, 0.8628241291218641, 0.855837257057256, 0.8562764569706072, 0.8612451633582575, 0.5948571093565426, 0.8560049259101875, 0.5366306300974142, 0.617774617628559, 0.8118785142508456, 0.8716601930172736, 0.8666144959649271, 0.3333333333333333, 0.8479088005203582, 0.867654454253433, 0.8590088098471652, 0.860927227611956, 0.8588884744236139]}, {\"categories\": [\"0\", \"1\", \"2\", \"3\", \"4\", \"5\", \"6\", \"7\", \"8\", \"9\", \"10\", \"11\", \"12\", \"13\", \"14\", \"15\", \"16\", \"17\", \"18\", \"19\", \"20\", \"21\", \"22\", \"23\", \"24\", \"25\", \"26\", \"27\", \"28\", \"29\", \"30\", \"31\", \"32\", \"33\", \"34\", \"38\"], \"mode\": \"lines\", \"name\": \"average_precision_score_macro_max\", \"stepped\": true, \"type\": \"scatter\", \"data\": [0.8693833187840033, 0.8706003853269582, 0.8706003853269582, 0.8706003853269582, 0.8706003853269582, 0.8706003853269582, 0.8706003853269582, 0.8706003853269582, 0.8706003853269582, 0.8706003853269582, 0.8706003853269582, 0.8706003853269582, 0.8706003853269582, 0.8706003853269582, 0.8706003853269582, 0.8706003853269582, 0.8706003853269582, 0.8706003853269582, 0.8706003853269582, 0.8706003853269582, 0.8706003853269582, 0.8706003853269582, 0.8706003853269582, 0.8706003853269582, 0.8706003853269582, 0.8706003853269582, 0.8706003853269582, 0.8706003853269582, 0.8716601930172736, 0.8716601930172736, 0.8716601930172736, 0.8716601930172736, 0.8716601930172736, 0.8716601930172736, 0.8716601930172736, 0.8716601930172736]}], \"precision_score_macro\": [{\"categories\": [\"0\", \"1\", \"2\", \"3\", \"4\", \"5\", \"6\", \"7\", \"8\", \"9\", \"10\", \"11\", \"12\", \"13\", \"14\", \"15\", \"16\", \"17\", \"18\", \"19\", \"20\", \"21\", \"22\", \"23\", \"24\", \"25\", \"26\", \"27\", \"28\", \"29\", \"30\", \"31\", \"32\", \"33\", \"34\", \"38\"], \"mode\": \"markers\", \"name\": \"precision_score_macro\", \"stepped\": false, \"type\": \"scatter\", \"data\": [0.8556220272453668, 0.8609364962042774, 0.612688816929442, 0.4765160374893164, 0.6570614551292047, 0.6217480735995351, 0.868097159997193, 0.8724525258125739, 0.8609770083269925, 0.8482024432779547, 0.8660228309042072, 0.547184614962673, 0.6888891289125818, 0.8520620925170137, 0.8596231877813743, 0.7881094267598541, 0.6143781519331225, 0.5129966970499338, 0.854449627666091, 0.8621667011567176, 0.8504481440616584, 0.9011309164759341, 0.8890487339291259, 0.49516454837991875, 0.8400432831152246, 0.4684944420549953, 0.5505262935122259, 0.799974003473504, 0.86631292898749, 0.8631534922101058, 0.18369905367366093, 0.8393095961388648, 0.8556881438095416, 0.8605378636021378, 0.860547600889392, 0.8604376964047196]}, {\"categories\": [\"0\", \"1\", \"2\", \"3\", \"4\", \"5\", \"6\", \"7\", \"8\", \"9\", \"10\", \"11\", \"12\", \"13\", \"14\", \"15\", \"16\", \"17\", \"18\", \"19\", \"20\", \"21\", \"22\", \"23\", \"24\", \"25\", \"26\", \"27\", \"28\", \"29\", \"30\", \"31\", \"32\", \"33\", \"34\", \"38\"], \"mode\": \"lines\", \"name\": \"precision_score_macro_max\", \"stepped\": true, \"type\": \"scatter\", \"data\": [0.8556220272453668, 0.8609364962042774, 0.8609364962042774, 0.8609364962042774, 0.8609364962042774, 0.8609364962042774, 0.868097159997193, 0.8724525258125739, 0.8724525258125739, 0.8724525258125739, 0.8724525258125739, 0.8724525258125739, 0.8724525258125739, 0.8724525258125739, 0.8724525258125739, 0.8724525258125739, 0.8724525258125739, 0.8724525258125739, 0.8724525258125739, 0.8724525258125739, 0.8724525258125739, 0.9011309164759341, 0.9011309164759341, 0.9011309164759341, 0.9011309164759341, 0.9011309164759341, 0.9011309164759341, 0.9011309164759341, 0.9011309164759341, 0.9011309164759341, 0.9011309164759341, 0.9011309164759341, 0.9011309164759341, 0.9011309164759341, 0.9011309164759341, 0.9011309164759341]}], \"precision_score_weighted\": [{\"categories\": [\"0\", \"1\", \"2\", \"3\", \"4\", \"5\", \"6\", \"7\", \"8\", \"9\", \"10\", \"11\", \"12\", \"13\", \"14\", \"15\", \"16\", \"17\", \"18\", \"19\", \"20\", \"21\", \"22\", \"23\", \"24\", \"25\", \"26\", \"27\", \"28\", \"29\", \"30\", \"31\", \"32\", \"33\", \"34\", \"38\"], \"mode\": \"markers\", \"name\": \"precision_score_weighted\", \"stepped\": false, \"type\": \"scatter\", \"data\": [0.9763004251236888, 0.9758716006769109, 0.896105313777619, 0.7021698244921782, 0.8605033748019574, 0.8347363782777222, 0.9748685430147553, 0.9709622581128716, 0.9756425885381521, 0.9561803245310948, 0.9752420858472821, 0.8052421924173563, 0.9205307221514083, 0.9742162661643947, 0.9750155241699705, 0.8863056955791604, 0.9033765791188658, 0.7534094191867432, 0.97113635294467, 0.9714049768528777, 0.9750297010401006, 0.967403822221544, 0.9685650479879989, 0.7322843585198485, 0.9539553069087671, 0.6921616406763009, 0.7735601044461896, 0.969214285633982, 0.975797015097897, 0.975186940942244, 0.30373243146785833, 0.9746373554678364, 0.9756268524070102, 0.9750550567389119, 0.9746462053829166, 0.9750214558640963]}, {\"categories\": [\"0\", \"1\", \"2\", \"3\", \"4\", \"5\", \"6\", \"7\", \"8\", \"9\", \"10\", \"11\", \"12\", \"13\", \"14\", \"15\", \"16\", \"17\", \"18\", \"19\", \"20\", \"21\", \"22\", \"23\", \"24\", \"25\", \"26\", \"27\", \"28\", \"29\", \"30\", \"31\", \"32\", \"33\", \"34\", \"38\"], \"mode\": \"lines\", \"name\": \"precision_score_weighted_max\", \"stepped\": true, \"type\": \"scatter\", \"data\": [0.9763004251236888, 0.9763004251236888, 0.9763004251236888, 0.9763004251236888, 0.9763004251236888, 0.9763004251236888, 0.9763004251236888, 0.9763004251236888, 0.9763004251236888, 0.9763004251236888, 0.9763004251236888, 0.9763004251236888, 0.9763004251236888, 0.9763004251236888, 0.9763004251236888, 0.9763004251236888, 0.9763004251236888, 0.9763004251236888, 0.9763004251236888, 0.9763004251236888, 0.9763004251236888, 0.9763004251236888, 0.9763004251236888, 0.9763004251236888, 0.9763004251236888, 0.9763004251236888, 0.9763004251236888, 0.9763004251236888, 0.9763004251236888, 0.9763004251236888, 0.9763004251236888, 0.9763004251236888, 0.9763004251236888, 0.9763004251236888, 0.9763004251236888, 0.9763004251236888]}], \"accuracy\": [{\"categories\": [\"0\", \"1\", \"2\", \"3\", \"4\", \"5\", \"6\", \"7\", \"8\", \"9\", \"10\", \"11\", \"12\", \"13\", \"14\", \"15\", \"16\", \"17\", \"18\", \"19\", \"20\", \"21\", \"22\", \"23\", \"24\", \"25\", \"26\", \"27\", \"28\", \"29\", \"30\", \"31\", \"32\", \"33\", \"34\", \"38\"], \"mode\": \"markers\", \"name\": \"accuracy\", \"stepped\": false, \"type\": \"scatter\", \"data\": [0.9783782065124994, 0.9785585873359967, 0.9196849286186831, 0.7202829097604178, 0.811486088721308, 0.7405256870207421, 0.9784168438916311, 0.9759686227489454, 0.9785586006185815, 0.9632377574145237, 0.9785972496199749, 0.8247709416159748, 0.9390904954214058, 0.977527749997113, 0.9782106774200482, 0.8902161268329458, 0.9247232347218457, 0.7738863052739309, 0.9740487189108752, 0.9762907627898778, 0.9776179860677473, 0.9716519951799825, 0.9735332649595673, 0.7445977207698643, 0.960068017128657, 0.7069593746578956, 0.6405996942631214, 0.9514993618423597, 0.9788162943877733, 0.9784683911131171, 0.5510971610209828, 0.9765742654516787, 0.9781849158466475, 0.9782622146795958, 0.9781204886686226, 0.9782493297420876]}, {\"categories\": [\"0\", \"1\", \"2\", \"3\", \"4\", \"5\", \"6\", \"7\", \"8\", \"9\", \"10\", \"11\", \"12\", \"13\", \"14\", \"15\", \"16\", \"17\", \"18\", \"19\", \"20\", \"21\", \"22\", \"23\", \"24\", \"25\", \"26\", \"27\", \"28\", \"29\", \"30\", \"31\", \"32\", \"33\", \"34\", \"38\"], \"mode\": \"lines\", \"name\": \"accuracy_max\", \"stepped\": true, \"type\": \"scatter\", \"data\": [0.9783782065124994, 0.9785585873359967, 0.9785585873359967, 0.9785585873359967, 0.9785585873359967, 0.9785585873359967, 0.9785585873359967, 0.9785585873359967, 0.9785586006185815, 0.9785586006185815, 0.9785972496199749, 0.9785972496199749, 0.9785972496199749, 0.9785972496199749, 0.9785972496199749, 0.9785972496199749, 0.9785972496199749, 0.9785972496199749, 0.9785972496199749, 0.9785972496199749, 0.9785972496199749, 0.9785972496199749, 0.9785972496199749, 0.9785972496199749, 0.9785972496199749, 0.9785972496199749, 0.9785972496199749, 0.9785972496199749, 0.9788162943877733, 0.9788162943877733, 0.9788162943877733, 0.9788162943877733, 0.9788162943877733, 0.9788162943877733, 0.9788162943877733, 0.9788162943877733]}], \"average_precision_score_weighted\": [{\"categories\": [\"0\", \"1\", \"2\", \"3\", \"4\", \"5\", \"6\", \"7\", \"8\", \"9\", \"10\", \"11\", \"12\", \"13\", \"14\", \"15\", \"16\", \"17\", \"18\", \"19\", \"20\", \"21\", \"22\", \"23\", \"24\", \"25\", \"26\", \"27\", \"28\", \"29\", \"30\", \"31\", \"32\", \"33\", \"34\", \"38\"], \"mode\": \"markers\", \"name\": \"average_precision_score_weighted\", \"stepped\": false, \"type\": \"scatter\", \"data\": [0.9893950089377321, 0.9893115796542974, 0.9634842373128498, 0.773058803132708, 0.9220829848014616, 0.894236825163355, 0.9893923804622432, 0.9888161169707372, 0.9892475911281778, 0.9848325299688321, 0.989335012627927, 0.9099847110116602, 0.9764231331708147, 0.9877245122897224, 0.9884803108712348, 0.9497893915243957, 0.9651264386931517, 0.8529952417194151, 0.9887025428419436, 0.9887744890510582, 0.9883045591302733, 0.9879890697352647, 0.9884664559333327, 0.8048303055921309, 0.9856922320788263, 0.7374227493477337, 0.8452694940404729, 0.9751483250468403, 0.9895669636024567, 0.9891774611925637, 0.48364437811859623, 0.9876830172546803, 0.9892722814475062, 0.9885305190961878, 0.9886932688193527, 0.9885195168176448]}, {\"categories\": [\"0\", \"1\", \"2\", \"3\", \"4\", \"5\", \"6\", \"7\", \"8\", \"9\", \"10\", \"11\", \"12\", \"13\", \"14\", \"15\", \"16\", \"17\", \"18\", \"19\", \"20\", \"21\", \"22\", \"23\", \"24\", \"25\", \"26\", \"27\", \"28\", \"29\", \"30\", \"31\", \"32\", \"33\", \"34\", \"38\"], \"mode\": \"lines\", \"name\": \"average_precision_score_weighted_max\", \"stepped\": true, \"type\": \"scatter\", \"data\": [0.9893950089377321, 0.9893950089377321, 0.9893950089377321, 0.9893950089377321, 0.9893950089377321, 0.9893950089377321, 0.9893950089377321, 0.9893950089377321, 0.9893950089377321, 0.9893950089377321, 0.9893950089377321, 0.9893950089377321, 0.9893950089377321, 0.9893950089377321, 0.9893950089377321, 0.9893950089377321, 0.9893950089377321, 0.9893950089377321, 0.9893950089377321, 0.9893950089377321, 0.9893950089377321, 0.9893950089377321, 0.9893950089377321, 0.9893950089377321, 0.9893950089377321, 0.9893950089377321, 0.9893950089377321, 0.9893950089377321, 0.9895669636024567, 0.9895669636024567, 0.9895669636024567, 0.9895669636024567, 0.9895669636024567, 0.9895669636024567, 0.9895669636024567, 0.9895669636024567]}], \"recall_score_macro\": [{\"categories\": [\"0\", \"1\", \"2\", \"3\", \"4\", \"5\", \"6\", \"7\", \"8\", \"9\", \"10\", \"11\", \"12\", \"13\", \"14\", \"15\", \"16\", \"17\", \"18\", \"19\", \"20\", \"21\", \"22\", \"23\", \"24\", \"25\", \"26\", \"27\", \"28\", \"29\", \"30\", \"31\", \"32\", \"33\", \"34\", \"38\"], \"mode\": \"markers\", \"name\": \"recall_score_macro\", \"stepped\": false, \"type\": \"scatter\", \"data\": [0.8152458289144093, 0.8046660815043317, 0.6260649813155044, 0.48916150160206656, 0.8335538574984204, 0.7724211735096143, 0.7835409141813239, 0.735391039697803, 0.7999231887010465, 0.6958709742048615, 0.7895438633818241, 0.563187087876179, 0.6450164954558137, 0.7897306208143362, 0.7933515968494536, 0.688156350710459, 0.6335211203687537, 0.5249208912301826, 0.791158451225894, 0.749236350961766, 0.8020828474877361, 0.6866442792118529, 0.6935675114556565, 0.5103869706677614, 0.7067892366954507, 0.48217181797596886, 0.6347091578943171, 0.9639542201537818, 0.7974042641845533, 0.7915742321279367, 0.3333333333333333, 0.8081249897220897, 0.8058934348824393, 0.7931504454047007, 0.7862872634330176, 0.7926442253291894]}, {\"categories\": [\"0\", \"1\", \"2\", \"3\", \"4\", \"5\", \"6\", \"7\", \"8\", \"9\", \"10\", \"11\", \"12\", \"13\", \"14\", \"15\", \"16\", \"17\", \"18\", \"19\", \"20\", \"21\", \"22\", \"23\", \"24\", \"25\", \"26\", \"27\", \"28\", \"29\", \"30\", \"31\", \"32\", \"33\", \"34\", \"38\"], \"mode\": \"lines\", \"name\": \"recall_score_macro_max\", \"stepped\": true, \"type\": \"scatter\", \"data\": [0.8152458289144093, 0.8152458289144093, 0.8152458289144093, 0.8152458289144093, 0.8335538574984204, 0.8335538574984204, 0.8335538574984204, 0.8335538574984204, 0.8335538574984204, 0.8335538574984204, 0.8335538574984204, 0.8335538574984204, 0.8335538574984204, 0.8335538574984204, 0.8335538574984204, 0.8335538574984204, 0.8335538574984204, 0.8335538574984204, 0.8335538574984204, 0.8335538574984204, 0.8335538574984204, 0.8335538574984204, 0.8335538574984204, 0.8335538574984204, 0.8335538574984204, 0.8335538574984204, 0.8335538574984204, 0.9639542201537818, 0.9639542201537818, 0.9639542201537818, 0.9639542201537818, 0.9639542201537818, 0.9639542201537818, 0.9639542201537818, 0.9639542201537818, 0.9639542201537818]}], \"f1_score_macro\": [{\"categories\": [\"0\", \"1\", \"2\", \"3\", \"4\", \"5\", \"6\", \"7\", \"8\", \"9\", \"10\", \"11\", \"12\", \"13\", \"14\", \"15\", \"16\", \"17\", \"18\", \"19\", \"20\", \"21\", \"22\", \"23\", \"24\", \"25\", \"26\", \"27\", \"28\", \"29\", \"30\", \"31\", \"32\", \"33\", \"34\", \"38\"], \"mode\": \"markers\", \"name\": \"f1_score_macro\", \"stepped\": false, \"type\": \"scatter\", \"data\": [0.8321449987410642, 0.8266219194513509, 0.6191215186806829, 0.48272397224132135, 0.6789686759948645, 0.6109728353323871, 0.8122404100345996, 0.7649868176492652, 0.8233133013638099, 0.7158714586477295, 0.8168168519943203, 0.5548711099105701, 0.6418097535821855, 0.8132947664637399, 0.818239041739543, 0.7162473234378032, 0.6233107126710806, 0.5187371845518298, 0.8147869914792917, 0.7791978758564848, 0.821329620489698, 0.6967076737999733, 0.707515213928527, 0.5012970525831453, 0.7304396545670133, 0.4748186159752274, 0.5051447922368121, 0.8446948537389298, 0.8229774817998374, 0.8174036860693075, 0.23685902672825074, 0.8213390634526576, 0.8255139910567937, 0.8183487432867386, 0.8130330591828013, 0.8179104924265792]}, {\"categories\": [\"0\", \"1\", \"2\", \"3\", \"4\", \"5\", \"6\", \"7\", \"8\", \"9\", \"10\", \"11\", \"12\", \"13\", \"14\", \"15\", \"16\", \"17\", \"18\", \"19\", \"20\", \"21\", \"22\", \"23\", \"24\", \"25\", \"26\", \"27\", \"28\", \"29\", \"30\", \"31\", \"32\", \"33\", \"34\", \"38\"], \"mode\": \"lines\", \"name\": \"f1_score_macro_max\", \"stepped\": true, \"type\": \"scatter\", \"data\": [0.8321449987410642, 0.8321449987410642, 0.8321449987410642, 0.8321449987410642, 0.8321449987410642, 0.8321449987410642, 0.8321449987410642, 0.8321449987410642, 0.8321449987410642, 0.8321449987410642, 0.8321449987410642, 0.8321449987410642, 0.8321449987410642, 0.8321449987410642, 0.8321449987410642, 0.8321449987410642, 0.8321449987410642, 0.8321449987410642, 0.8321449987410642, 0.8321449987410642, 0.8321449987410642, 0.8321449987410642, 0.8321449987410642, 0.8321449987410642, 0.8321449987410642, 0.8321449987410642, 0.8321449987410642, 0.8446948537389298, 0.8446948537389298, 0.8446948537389298, 0.8446948537389298, 0.8446948537389298, 0.8446948537389298, 0.8446948537389298, 0.8446948537389298, 0.8446948537389298]}], \"f1_score_weighted\": [{\"categories\": [\"0\", \"1\", \"2\", \"3\", \"4\", \"5\", \"6\", \"7\", \"8\", \"9\", \"10\", \"11\", \"12\", \"13\", \"14\", \"15\", \"16\", \"17\", \"18\", \"19\", \"20\", \"21\", \"22\", \"23\", \"24\", \"25\", \"26\", \"27\", \"28\", \"29\", \"30\", \"31\", \"32\", \"33\", \"34\", \"38\"], \"mode\": \"markers\", \"name\": \"f1_score_weighted\", \"stepped\": false, \"type\": \"scatter\", \"data\": [0.9770557820060605, 0.9766895109084544, 0.9074796318475382, 0.7110645720140875, 0.8296422483431354, 0.7734945270365279, 0.9755171827548714, 0.9703271860484163, 0.9764969556497801, 0.9552815555552367, 0.9760041644126719, 0.8146046447568374, 0.9275440232477434, 0.9752304700632036, 0.9759205688988282, 0.8864536569900364, 0.9132205934126073, 0.7632914229601498, 0.9718740497349023, 0.9716732203123188, 0.9758995867908704, 0.9617639322646727, 0.9643190846087091, 0.7364398220814353, 0.9534920181212992, 0.6988879365565135, 0.6875472446278603, 0.9571465575463576, 0.9765576653431175, 0.975987589715064, 0.3916172418572134, 0.9753989789477258, 0.9764520754038977, 0.9759465453065641, 0.9755167777815086, 0.9759112672186763]}, {\"categories\": [\"0\", \"1\", \"2\", \"3\", \"4\", \"5\", \"6\", \"7\", \"8\", \"9\", \"10\", \"11\", \"12\", \"13\", \"14\", \"15\", \"16\", \"17\", \"18\", \"19\", \"20\", \"21\", \"22\", \"23\", \"24\", \"25\", \"26\", \"27\", \"28\", \"29\", \"30\", \"31\", \"32\", \"33\", \"34\", \"38\"], \"mode\": \"lines\", \"name\": \"f1_score_weighted_max\", \"stepped\": true, \"type\": \"scatter\", \"data\": [0.9770557820060605, 0.9770557820060605, 0.9770557820060605, 0.9770557820060605, 0.9770557820060605, 0.9770557820060605, 0.9770557820060605, 0.9770557820060605, 0.9770557820060605, 0.9770557820060605, 0.9770557820060605, 0.9770557820060605, 0.9770557820060605, 0.9770557820060605, 0.9770557820060605, 0.9770557820060605, 0.9770557820060605, 0.9770557820060605, 0.9770557820060605, 0.9770557820060605, 0.9770557820060605, 0.9770557820060605, 0.9770557820060605, 0.9770557820060605, 0.9770557820060605, 0.9770557820060605, 0.9770557820060605, 0.9770557820060605, 0.9770557820060605, 0.9770557820060605, 0.9770557820060605, 0.9770557820060605, 0.9770557820060605, 0.9770557820060605, 0.9770557820060605, 0.9770557820060605]}], \"average_precision_score_micro\": [{\"categories\": [\"0\", \"1\", \"2\", \"3\", \"4\", \"5\", \"6\", \"7\", \"8\", \"9\", \"10\", \"11\", \"12\", \"13\", \"14\", \"15\", \"16\", \"17\", \"18\", \"19\", \"20\", \"21\", \"22\", \"23\", \"24\", \"25\", \"26\", \"27\", \"28\", \"29\", \"30\", \"31\", \"32\", \"33\", \"34\", \"38\"], \"mode\": \"markers\", \"name\": \"average_precision_score_micro\", \"stepped\": false, \"type\": \"scatter\", \"data\": [0.998911232837415, 0.998649345920386, 0.9702181710278701, 0.7918957468857392, 0.8896701379159424, 0.8339678923709011, 0.9988761138354597, 0.9984071661961131, 0.9988915352871139, 0.9929872049067854, 0.9988236060868185, 0.9076386341237033, 0.9862013576299521, 0.9987792399905109, 0.9988381022187358, 0.955749811457666, 0.9782579792512808, 0.8687731260550112, 0.9984017349953289, 0.9986747695808574, 0.9988022283768847, 0.9978484004373029, 0.9982800547521972, 0.8296201967359244, 0.9946364688691626, 0.7664068633908998, 0.728899204649571, 0.9709245443930605, 0.998922409162803, 0.9988788149395298, 0.5185208118495451, 0.9987400231618526, 0.9988964158060665, 0.9988358797783766, 0.9988379288957561, 0.9988296584340327]}, {\"categories\": [\"0\", \"1\", \"2\", \"3\", \"4\", \"5\", \"6\", \"7\", \"8\", \"9\", \"10\", \"11\", \"12\", \"13\", \"14\", \"15\", \"16\", \"17\", \"18\", \"19\", \"20\", \"21\", \"22\", \"23\", \"24\", \"25\", \"26\", \"27\", \"28\", \"29\", \"30\", \"31\", \"32\", \"33\", \"34\", \"38\"], \"mode\": \"lines\", \"name\": \"average_precision_score_micro_max\", \"stepped\": true, \"type\": \"scatter\", \"data\": [0.998911232837415, 0.998911232837415, 0.998911232837415, 0.998911232837415, 0.998911232837415, 0.998911232837415, 0.998911232837415, 0.998911232837415, 0.998911232837415, 0.998911232837415, 0.998911232837415, 0.998911232837415, 0.998911232837415, 0.998911232837415, 0.998911232837415, 0.998911232837415, 0.998911232837415, 0.998911232837415, 0.998911232837415, 0.998911232837415, 0.998911232837415, 0.998911232837415, 0.998911232837415, 0.998911232837415, 0.998911232837415, 0.998911232837415, 0.998911232837415, 0.998911232837415, 0.998922409162803, 0.998922409162803, 0.998922409162803, 0.998922409162803, 0.998922409162803, 0.998922409162803, 0.998922409162803, 0.998922409162803]}]}, \"metricName\": null, \"primaryMetricName\": \"accuracy\", \"showLegend\": false}, \"run_metrics\": [{\"name\": \"experiment_status\", \"run_id\": \"AutoML_28268a08-9643-4d77-84d6-ff7f89e0ec72\", \"categories\": [0, 1, 2, 3, 4, 5, 6, 7, 8, 9, 10, 11, 12, 13, 14], \"series\": [{\"data\": [\"DatasetEvaluation\", \"FeaturesGeneration\", \"DatasetFeaturization\", \"DatasetFeaturizationCompleted\", \"DatasetBalancing\", \"DatasetCrossValidationSplit\", \"ModelSelection\", \"BestRunExplainModel\", \"ModelExplanationDataSetSetup\", \"PickSurrogateModel\", \"EngineeredFeatureExplanations\", \"EngineeredFeatureExplanations\", \"RawFeaturesExplanations\", \"RawFeaturesExplanations\", \"BestRunExplainModel\"]}]}, {\"name\": \"experiment_status_description\", \"run_id\": \"AutoML_28268a08-9643-4d77-84d6-ff7f89e0ec72\", \"categories\": [0, 1, 2, 3, 4, 5, 6, 7, 8, 9, 10, 11, 12, 13, 14], \"series\": [{\"data\": [\"Gathering dataset statistics.\", \"Generating features for the dataset.\", \"Beginning to fit featurizers and featurize the dataset.\", \"Completed fit featurizers and featurizing the dataset.\", \"Performing class balancing sweeping\", \"Generating individually featurized CV splits.\", \"Beginning model selection.\", \"Best run model explanations started\", \"Model explanations data setup completed\", \"Choosing LightGBM as the surrogate model for explanations\", \"Computation of engineered features started\", \"Computation of engineered features completed\", \"Computation of raw features started\", \"Computation of raw features completed\", \"Best run model explanations completed\"]}]}, {\"name\": \"recall_score_weighted\", \"run_id\": \"AutoML_28268a08-9643-4d77-84d6-ff7f89e0ec72\", \"categories\": [0], \"series\": [{\"data\": [0.9788162943877733]}]}, {\"name\": \"average_precision_score_micro\", \"run_id\": \"AutoML_28268a08-9643-4d77-84d6-ff7f89e0ec72\", \"categories\": [0], \"series\": [{\"data\": [0.998922409162803]}]}, {\"name\": \"f1_score_macro\", \"run_id\": \"AutoML_28268a08-9643-4d77-84d6-ff7f89e0ec72\", \"categories\": [0], \"series\": [{\"data\": [0.8229774817998374]}]}, {\"name\": \"AUC_micro\", \"run_id\": \"AutoML_28268a08-9643-4d77-84d6-ff7f89e0ec72\", \"categories\": [0], \"series\": [{\"data\": [0.9994530173547848]}]}, {\"name\": \"average_precision_score_weighted\", \"run_id\": \"AutoML_28268a08-9643-4d77-84d6-ff7f89e0ec72\", \"categories\": [0], \"series\": [{\"data\": [0.9895669636024567]}]}, {\"name\": \"matthews_correlation\", \"run_id\": \"AutoML_28268a08-9643-4d77-84d6-ff7f89e0ec72\", \"categories\": [0], \"series\": [{\"data\": [0.9588881058847024]}]}, {\"name\": \"AUC_macro\", \"run_id\": \"AutoML_28268a08-9643-4d77-84d6-ff7f89e0ec72\", \"categories\": [0], \"series\": [{\"data\": [0.9958976149031014]}]}, {\"name\": \"weighted_accuracy\", \"run_id\": \"AutoML_28268a08-9643-4d77-84d6-ff7f89e0ec72\", \"categories\": [0], \"series\": [{\"data\": [0.9939731970116057]}]}, {\"name\": \"log_loss\", \"run_id\": \"AutoML_28268a08-9643-4d77-84d6-ff7f89e0ec72\", \"categories\": [0], \"series\": [{\"data\": [0.046501558149861504]}]}, {\"name\": \"AUC_weighted\", \"run_id\": \"AutoML_28268a08-9643-4d77-84d6-ff7f89e0ec72\", \"categories\": [0], \"series\": [{\"data\": [0.9992258632855819]}]}, {\"name\": \"precision_score_macro\", \"run_id\": \"AutoML_28268a08-9643-4d77-84d6-ff7f89e0ec72\", \"categories\": [0], \"series\": [{\"data\": [0.86631292898749]}]}, {\"name\": \"precision_score_weighted\", \"run_id\": \"AutoML_28268a08-9643-4d77-84d6-ff7f89e0ec72\", \"categories\": [0], \"series\": [{\"data\": [0.975797015097897]}]}, {\"name\": \"balanced_accuracy\", \"run_id\": \"AutoML_28268a08-9643-4d77-84d6-ff7f89e0ec72\", \"categories\": [0], \"series\": [{\"data\": [0.7974042641845533]}]}, {\"name\": \"f1_score_weighted\", \"run_id\": \"AutoML_28268a08-9643-4d77-84d6-ff7f89e0ec72\", \"categories\": [0], \"series\": [{\"data\": [0.9765576653431175]}]}, {\"name\": \"f1_score_micro\", \"run_id\": \"AutoML_28268a08-9643-4d77-84d6-ff7f89e0ec72\", \"categories\": [0], \"series\": [{\"data\": [0.9788162943877733]}]}, {\"name\": \"average_precision_score_macro\", \"run_id\": \"AutoML_28268a08-9643-4d77-84d6-ff7f89e0ec72\", \"categories\": [0], \"series\": [{\"data\": [0.8716601930172736]}]}, {\"name\": \"recall_score_macro\", \"run_id\": \"AutoML_28268a08-9643-4d77-84d6-ff7f89e0ec72\", \"categories\": [0], \"series\": [{\"data\": [0.7974042641845533]}]}, {\"name\": \"precision_score_micro\", \"run_id\": \"AutoML_28268a08-9643-4d77-84d6-ff7f89e0ec72\", \"categories\": [0], \"series\": [{\"data\": [0.9788162943877733]}]}, {\"name\": \"norm_macro_recall\", \"run_id\": \"AutoML_28268a08-9643-4d77-84d6-ff7f89e0ec72\", \"categories\": [0], \"series\": [{\"data\": [0.69610639627683]}]}, {\"name\": \"recall_score_micro\", \"run_id\": \"AutoML_28268a08-9643-4d77-84d6-ff7f89e0ec72\", \"categories\": [0], \"series\": [{\"data\": [0.9788162943877733]}]}, {\"name\": \"accuracy\", \"run_id\": \"AutoML_28268a08-9643-4d77-84d6-ff7f89e0ec72\", \"categories\": [0], \"series\": [{\"data\": [0.9788162943877733]}]}], \"run_logs\": \"\\nRun is completed.\", \"graph\": {}, \"widget_settings\": {\"childWidgetDisplay\": \"popup\", \"send_telemetry\": false, \"log_level\": \"INFO\", \"sdk_version\": \"1.20.0\"}, \"loading\": false}"
          },
          "metadata": {}
        },
        {
          "output_type": "stream",
          "name": "stdout",
          "text": [
            "\n",
            "****************************************************************************************************\n",
            "\n",
            "TYPE:         High cardinality feature detection\n",
            "STATUS:       PASSED\n",
            "DESCRIPTION:  Your inputs were analyzed, and no high cardinality features were detected.\n",
            "              Learn more about high cardinality feature handling: https://aka.ms/AutomatedMLFeaturization\n",
            "\n",
            "****************************************************************************************************\n",
            "\n",
            "****************************************************************************************************\n",
            "ITERATION: The iteration being evaluated.\n",
            "PIPELINE: A summary description of the pipeline being evaluated.\n",
            "DURATION: Time taken for the current iteration.\n",
            "METRIC: The result of computing score on the fitted pipeline.\n",
            "BEST: The best observed score thus far.\n",
            "****************************************************************************************************\n",
            "\n",
            " ITERATION   PIPELINE                                       DURATION      METRIC      BEST\n",
            "         0   MaxAbsScaler LightGBM                          0:02:46       0.9784    0.9784\n",
            "         1   MaxAbsScaler XGBoostClassifier                 0:04:12       0.9786    0.9786\n",
            "         2   MaxAbsScaler RandomForest                      0:02:35       0.9197    0.9786\n",
            "         3   MaxAbsScaler RandomForest                      0:01:00       0.7203    0.9786\n",
            "         4   MaxAbsScaler RandomForest                      0:02:38       0.8115    0.9786\n",
            "         5   MaxAbsScaler RandomForest                      0:01:10       0.7405    0.9786\n",
            "         6   SparseNormalizer XGBoostClassifier             0:04:42       0.9784    0.9786\n",
            "         7   SparseNormalizer XGBoostClassifier             0:03:28       0.9760    0.9786\n",
            "        10   SparseNormalizer XGBoostClassifier             0:04:05       0.9786    0.9786\n",
            "        11   MaxAbsScaler LightGBM                          0:01:14       0.8248    0.9786\n",
            "         8   SparseNormalizer XGBoostClassifier             0:05:44       0.9786    0.9786\n",
            "         9   SparseNormalizer XGBoostClassifier             0:01:34       0.9632    0.9786\n",
            "        12   StandardScalerWrapper RandomForest             0:03:29       0.9391    0.9786\n",
            "        13   MaxAbsScaler LogisticRegression                0:01:44       0.9775    0.9786\n",
            "        14   StandardScalerWrapper LogisticRegression       0:01:55       0.9782    0.9786\n",
            "        15   SparseNormalizer LightGBM                      0:01:34       0.8902    0.9786\n",
            "        16   StandardScalerWrapper LightGBM                 0:01:12       0.9247    0.9786\n",
            "        17   MaxAbsScaler ExtremeRandomTrees                0:05:52       0.7739    0.9786\n",
            "        18   MaxAbsScaler LightGBM                          0:01:13       0.9740    0.9786\n",
            "        19   SparseNormalizer XGBoostClassifier             0:03:11       0.9763    0.9786\n",
            "        20   StandardScalerWrapper XGBoostClassifier        0:01:47       0.9776    0.9786\n",
            "        21   SparseNormalizer XGBoostClassifier             0:02:20       0.9717    0.9786\n",
            "        22   SparseNormalizer XGBoostClassifier             0:02:43       0.9735    0.9786\n",
            "        23   MaxAbsScaler LightGBM                          0:01:10       0.7446    0.9786\n",
            "        24   SparseNormalizer XGBoostClassifier             0:01:46       0.9601    0.9786\n",
            "        25   TruncatedSVDWrapper XGBoostClassifier          0:01:06       0.7070    0.9786\n",
            "        26   MaxAbsScaler RandomForest                      0:01:12       0.6406    0.9786\n",
            "        27   MaxAbsScaler ExtremeRandomTrees                0:01:00       0.9515    0.9786\n",
            "        28   StandardScalerWrapper XGBoostClassifier        0:01:54       0.9788    0.9788\n",
            "        29   SparseNormalizer XGBoostClassifier             0:05:03       0.9785    0.9788\n",
            "        30   TruncatedSVDWrapper XGBoostClassifier          0:01:05       0.5511    0.9788\n",
            "        31   StandardScalerWrapper XGBoostClassifier        0:01:44       0.9766    0.9788\n",
            "        32   SparseNormalizer XGBoostClassifier             0:07:13       0.9782    0.9788\n",
            "        33   StandardScalerWrapper LogisticRegression       0:02:28       0.9783    0.9788\n",
            "        34   StandardScalerWrapper XGBoostClassifier        0:01:40       0.9781    0.9788\n",
            "        35   SparseNormalizer XGBoostClassifier             0:07:03          nan    0.9788\n",
            "ERROR: {\n",
            "    \"additional_properties\": {},\n",
            "    \"error\": {\n",
            "        \"additional_properties\": {\n",
            "            \"debugInfo\": null\n",
            "        },\n",
            "        \"code\": \"UserError\",\n",
            "        \"severity\": null,\n",
            "        \"message\": \"Experiment timeout reached, please consider increasing your experiment timeout.\",\n",
            "        \"message_format\": \"Experiment timeout reached, please consider increasing your experiment timeout.\",\n",
            "        \"message_parameters\": {},\n",
            "        \"reference_code\": null,\n",
            "        \"details_uri\": null,\n",
            "        \"target\": null,\n",
            "        \"details\": [],\n",
            "        \"inner_error\": {\n",
            "            \"additional_properties\": {},\n",
            "            \"code\": \"ResourceExhausted\",\n",
            "            \"inner_error\": {\n",
            "                \"additional_properties\": {},\n",
            "                \"code\": \"Timeout\",\n",
            "                \"inner_error\": {\n",
            "                    \"additional_properties\": {},\n",
            "                    \"code\": \"ExperimentTimeoutForIterations\",\n",
            "                    \"inner_error\": null\n",
            "                }\n",
            "            }\n",
            "        }\n",
            "    },\n",
            "    \"correlation\": null,\n",
            "    \"environment\": null,\n",
            "    \"location\": null,\n",
            "    \"time\": {},\n",
            "    \"component_name\": null\n",
            "}\n",
            "        36   StandardScalerWrapper XGBoostClassifier        0:06:48          nan    0.9788\n",
            "ERROR: {\n",
            "    \"additional_properties\": {},\n",
            "    \"error\": {\n",
            "        \"additional_properties\": {\n",
            "            \"debugInfo\": null\n",
            "        },\n",
            "        \"code\": \"UserError\",\n",
            "        \"severity\": null,\n",
            "        \"message\": \"Experiment timeout reached, please consider increasing your experiment timeout.\",\n",
            "        \"message_format\": \"Experiment timeout reached, please consider increasing your experiment timeout.\",\n",
            "        \"message_parameters\": {},\n",
            "        \"reference_code\": null,\n",
            "        \"details_uri\": null,\n",
            "        \"target\": null,\n",
            "        \"details\": [],\n",
            "        \"inner_error\": {\n",
            "            \"additional_properties\": {},\n",
            "            \"code\": \"ResourceExhausted\",\n",
            "            \"inner_error\": {\n",
            "                \"additional_properties\": {},\n",
            "                \"code\": \"Timeout\",\n",
            "                \"inner_error\": {\n",
            "                    \"additional_properties\": {},\n",
            "                    \"code\": \"ExperimentTimeoutForIterations\",\n",
            "                    \"inner_error\": null\n",
            "                }\n",
            "            }\n",
            "        }\n",
            "    },\n",
            "    \"correlation\": null,\n",
            "    \"environment\": null,\n",
            "    \"location\": null,\n",
            "    \"time\": {},\n",
            "    \"component_name\": null\n",
            "}\n",
            "        37   StandardScalerWrapper XGBoostClassifier        0:06:21          nan    0.9788\n",
            "ERROR: {\n",
            "    \"additional_properties\": {},\n",
            "    \"error\": {\n",
            "        \"additional_properties\": {\n",
            "            \"debugInfo\": null\n",
            "        },\n",
            "        \"code\": \"UserError\",\n",
            "        \"severity\": null,\n",
            "        \"message\": \"Experiment timeout reached, please consider increasing your experiment timeout.\",\n",
            "        \"message_format\": \"Experiment timeout reached, please consider increasing your experiment timeout.\",\n",
            "        \"message_parameters\": {},\n",
            "        \"reference_code\": null,\n",
            "        \"details_uri\": null,\n",
            "        \"target\": null,\n",
            "        \"details\": [],\n",
            "        \"inner_error\": {\n",
            "            \"additional_properties\": {},\n",
            "            \"code\": \"ResourceExhausted\",\n",
            "            \"inner_error\": {\n",
            "                \"additional_properties\": {},\n",
            "                \"code\": \"Timeout\",\n",
            "                \"inner_error\": {\n",
            "                    \"additional_properties\": {},\n",
            "                    \"code\": \"ExperimentTimeoutForIterations\",\n",
            "                    \"inner_error\": null\n",
            "                }\n",
            "            }\n",
            "        }\n",
            "    },\n",
            "    \"correlation\": null,\n",
            "    \"environment\": null,\n",
            "    \"location\": null,\n",
            "    \"time\": {},\n",
            "    \"component_name\": null\n",
            "}\n",
            "        38   StandardScalerWrapper LogisticRegression       0:02:12       0.9782    0.9788\n"
          ]
        },
        {
          "output_type": "execute_result",
          "execution_count": 18,
          "data": {
            "text/plain": "{'runId': 'AutoML_28268a08-9643-4d77-84d6-ff7f89e0ec72',\n 'target': 'mwd-compute',\n 'status': 'Completed',\n 'startTimeUtc': '2021-02-09T14:33:30.633083Z',\n 'endTimeUtc': '2021-02-09T15:21:56.680881Z',\n 'properties': {'num_iterations': '1000',\n  'training_type': 'TrainFull',\n  'acquisition_function': 'EI',\n  'primary_metric': 'accuracy',\n  'train_split': '0',\n  'acquisition_parameter': '0',\n  'num_cross_validation': '5',\n  'target': 'mwd-compute',\n  'AMLSettingsJsonString': '{\"path\":null,\"name\":\"mwd-automl\",\"subscription_id\":\"3e42d11f-d64d-4173-af9b-12ecaa1030b3\",\"resource_group\":\"aml-quickstarts-138262\",\"workspace_name\":\"quick-starts-ws-138262\",\"region\":\"southcentralus\",\"compute_target\":\"mwd-compute\",\"spark_service\":null,\"azure_service\":\"remote\",\"many_models\":false,\"pipeline_fetch_max_batch_size\":1,\"iterations\":1000,\"primary_metric\":\"accuracy\",\"task_type\":\"classification\",\"data_script\":null,\"validation_size\":0.0,\"n_cross_validations\":5,\"y_min\":null,\"y_max\":null,\"num_classes\":null,\"featurization\":\"auto\",\"_ignore_package_version_incompatibilities\":false,\"is_timeseries\":false,\"max_cores_per_iteration\":1,\"max_concurrent_iterations\":4,\"iteration_timeout_minutes\":null,\"mem_in_mb\":null,\"enforce_time_on_windows\":false,\"experiment_timeout_minutes\":30,\"experiment_exit_score\":null,\"whitelist_models\":null,\"blacklist_algos\":[\"TensorFlowLinearClassifier\",\"TensorFlowDNN\"],\"supported_models\":[\"LightGBM\",\"SVM\",\"SGD\",\"TensorFlowLinearClassifier\",\"AveragedPerceptronClassifier\",\"BernoulliNaiveBayes\",\"ExtremeRandomTrees\",\"RandomForest\",\"TensorFlowDNN\",\"LogisticRegression\",\"KNN\",\"MultinomialNaiveBayes\",\"GradientBoosting\",\"DecisionTree\",\"LinearSVM\",\"XGBoostClassifier\"],\"auto_blacklist\":true,\"blacklist_samples_reached\":false,\"exclude_nan_labels\":true,\"verbosity\":20,\"_debug_log\":\"azureml_automl.log\",\"show_warnings\":false,\"model_explainability\":true,\"service_url\":null,\"sdk_url\":null,\"sdk_packages\":null,\"enable_onnx_compatible_models\":false,\"enable_split_onnx_featurizer_estimator_models\":false,\"vm_type\":\"STANDARD_DS12_V2\",\"telemetry_verbosity\":20,\"send_telemetry\":true,\"enable_dnn\":false,\"scenario\":\"SDK-1.13.0\",\"environment_label\":null,\"force_text_dnn\":false,\"enable_feature_sweeping\":true,\"enable_early_stopping\":true,\"early_stopping_n_iters\":10,\"metrics\":null,\"enable_ensembling\":false,\"enable_stack_ensembling\":false,\"ensemble_iterations\":15,\"enable_tf\":false,\"enable_subsampling\":null,\"subsample_seed\":null,\"enable_nimbusml\":false,\"enable_streaming\":false,\"force_streaming\":false,\"track_child_runs\":true,\"allowed_private_models\":[],\"label_column_name\":\"Output\",\"weight_column_name\":null,\"cv_split_column_names\":null,\"enable_local_managed\":false,\"_local_managed_run_id\":null,\"cost_mode\":1,\"lag_length\":0,\"metric_operation\":\"maximize\",\"preprocess\":true}',\n  'DataPrepJsonString': '{\\\\\"training_data\\\\\": \\\\\"{\\\\\\\\\\\\\"blocks\\\\\\\\\\\\\": [{\\\\\\\\\\\\\"id\\\\\\\\\\\\\": \\\\\\\\\\\\\"894dc17c-1411-4b0d-b582-7dc370a958c5\\\\\\\\\\\\\", \\\\\\\\\\\\\"type\\\\\\\\\\\\\": \\\\\\\\\\\\\"Microsoft.DPrep.GetFilesBlock\\\\\\\\\\\\\", \\\\\\\\\\\\\"arguments\\\\\\\\\\\\\": {\\\\\\\\\\\\\"isArchive\\\\\\\\\\\\\": false, \\\\\\\\\\\\\"path\\\\\\\\\\\\\": {\\\\\\\\\\\\\"target\\\\\\\\\\\\\": 4, \\\\\\\\\\\\\"resourceDetails\\\\\\\\\\\\\": [{\\\\\\\\\\\\\"path\\\\\\\\\\\\\": \\\\\\\\\\\\\"https://0547078f50ce.ngrok.io/data.csv\\\\\\\\\\\\\"}]}}, \\\\\\\\\\\\\"localData\\\\\\\\\\\\\": {}, \\\\\\\\\\\\\"isEnabled\\\\\\\\\\\\\": true, \\\\\\\\\\\\\"name\\\\\\\\\\\\\": null, \\\\\\\\\\\\\"annotation\\\\\\\\\\\\\": null}, {\\\\\\\\\\\\\"id\\\\\\\\\\\\\": \\\\\\\\\\\\\"ccb542a9-1e3c-460d-9498-d5f2dd838f04\\\\\\\\\\\\\", \\\\\\\\\\\\\"type\\\\\\\\\\\\\": \\\\\\\\\\\\\"Microsoft.DPrep.ParseDelimitedBlock\\\\\\\\\\\\\", \\\\\\\\\\\\\"arguments\\\\\\\\\\\\\": {\\\\\\\\\\\\\"columnHeadersMode\\\\\\\\\\\\\": 3, \\\\\\\\\\\\\"fileEncoding\\\\\\\\\\\\\": 0, \\\\\\\\\\\\\"handleQuotedLineBreaks\\\\\\\\\\\\\": false, \\\\\\\\\\\\\"preview\\\\\\\\\\\\\": false, \\\\\\\\\\\\\"separator\\\\\\\\\\\\\": \\\\\\\\\\\\\",\\\\\\\\\\\\\", \\\\\\\\\\\\\"skipRows\\\\\\\\\\\\\": 0, \\\\\\\\\\\\\"skipRowsMode\\\\\\\\\\\\\": 0}, \\\\\\\\\\\\\"localData\\\\\\\\\\\\\": {}, \\\\\\\\\\\\\"isEnabled\\\\\\\\\\\\\": true, \\\\\\\\\\\\\"name\\\\\\\\\\\\\": null, \\\\\\\\\\\\\"annotation\\\\\\\\\\\\\": null}, {\\\\\\\\\\\\\"id\\\\\\\\\\\\\": \\\\\\\\\\\\\"50af7073-e321-40ac-9679-6db8be9eca8b\\\\\\\\\\\\\", \\\\\\\\\\\\\"type\\\\\\\\\\\\\": \\\\\\\\\\\\\"Microsoft.DPrep.DropColumnsBlock\\\\\\\\\\\\\", \\\\\\\\\\\\\"arguments\\\\\\\\\\\\\": {\\\\\\\\\\\\\"columns\\\\\\\\\\\\\": {\\\\\\\\\\\\\"type\\\\\\\\\\\\\": 0, \\\\\\\\\\\\\"details\\\\\\\\\\\\\": {\\\\\\\\\\\\\"selectedColumns\\\\\\\\\\\\\": [\\\\\\\\\\\\\"Path\\\\\\\\\\\\\"]}}}, \\\\\\\\\\\\\"localData\\\\\\\\\\\\\": {}, \\\\\\\\\\\\\"isEnabled\\\\\\\\\\\\\": true, \\\\\\\\\\\\\"name\\\\\\\\\\\\\": null, \\\\\\\\\\\\\"annotation\\\\\\\\\\\\\": null}, {\\\\\\\\\\\\\"id\\\\\\\\\\\\\": \\\\\\\\\\\\\"ac323cfa-9e37-46be-9277-ab2feb638b48\\\\\\\\\\\\\", \\\\\\\\\\\\\"type\\\\\\\\\\\\\": \\\\\\\\\\\\\"Microsoft.DPrep.SetColumnTypesBlock\\\\\\\\\\\\\", \\\\\\\\\\\\\"arguments\\\\\\\\\\\\\": {\\\\\\\\\\\\\"columnConversion\\\\\\\\\\\\\": [{\\\\\\\\\\\\\"column\\\\\\\\\\\\\": {\\\\\\\\\\\\\"type\\\\\\\\\\\\\": 2, \\\\\\\\\\\\\"details\\\\\\\\\\\\\": {\\\\\\\\\\\\\"selectedColumn\\\\\\\\\\\\\": \\\\\\\\\\\\\"Output\\\\\\\\\\\\\"}}, \\\\\\\\\\\\\"typeProperty\\\\\\\\\\\\\": 0}, {\\\\\\\\\\\\\"column\\\\\\\\\\\\\": {\\\\\\\\\\\\\"type\\\\\\\\\\\\\": 2, \\\\\\\\\\\\\"details\\\\\\\\\\\\\": {\\\\\\\\\\\\\"selectedColumn\\\\\\\\\\\\\": \\\\\\\\\\\\\"Identification no\\\\\\\\\\\\\"}}, \\\\\\\\\\\\\"typeProperty\\\\\\\\\\\\\": 2}, {\\\\\\\\\\\\\"column\\\\\\\\\\\\\": {\\\\\\\\\\\\\"type\\\\\\\\\\\\\": 2, \\\\\\\\\\\\\"details\\\\\\\\\\\\\": {\\\\\\\\\\\\\"selectedColumn\\\\\\\\\\\\\": \\\\\\\\\\\\\"Phenotype1\\\\\\\\\\\\\"}}, \\\\\\\\\\\\\"typeProperty\\\\\\\\\\\\\": 3}, {\\\\\\\\\\\\\"column\\\\\\\\\\\\\": {\\\\\\\\\\\\\"type\\\\\\\\\\\\\": 2, \\\\\\\\\\\\\"details\\\\\\\\\\\\\": {\\\\\\\\\\\\\"selectedColumn\\\\\\\\\\\\\": \\\\\\\\\\\\\"Phenotype2\\\\\\\\\\\\\"}}, \\\\\\\\\\\\\"typeProperty\\\\\\\\\\\\\": 3}, {\\\\\\\\\\\\\"column\\\\\\\\\\\\\": {\\\\\\\\\\\\\"type\\\\\\\\\\\\\": 2, \\\\\\\\\\\\\"details\\\\\\\\\\\\\": {\\\\\\\\\\\\\"selectedColumn\\\\\\\\\\\\\": \\\\\\\\\\\\\"Phenotype3\\\\\\\\\\\\\"}}, \\\\\\\\\\\\\"typeProperty\\\\\\\\\\\\\": 2}, {\\\\\\\\\\\\\"column\\\\\\\\\\\\\": {\\\\\\\\\\\\\"type\\\\\\\\\\\\\": 2, \\\\\\\\\\\\\"details\\\\\\\\\\\\\": {\\\\\\\\\\\\\"selectedColumn\\\\\\\\\\\\\": \\\\\\\\\\\\\"Phenotype4\\\\\\\\\\\\\"}}, \\\\\\\\\\\\\"typeProperty\\\\\\\\\\\\\": 3}, {\\\\\\\\\\\\\"column\\\\\\\\\\\\\": {\\\\\\\\\\\\\"type\\\\\\\\\\\\\": 2, \\\\\\\\\\\\\"details\\\\\\\\\\\\\": {\\\\\\\\\\\\\"selectedColumn\\\\\\\\\\\\\": \\\\\\\\\\\\\"Phenotype5\\\\\\\\\\\\\"}}, \\\\\\\\\\\\\"typeProperty\\\\\\\\\\\\\": 3}, {\\\\\\\\\\\\\"column\\\\\\\\\\\\\": {\\\\\\\\\\\\\"type\\\\\\\\\\\\\": 2, \\\\\\\\\\\\\"details\\\\\\\\\\\\\": {\\\\\\\\\\\\\"selectedColumn\\\\\\\\\\\\\": \\\\\\\\\\\\\"Phenotype6\\\\\\\\\\\\\"}}, \\\\\\\\\\\\\"typeProperty\\\\\\\\\\\\\": 3}, {\\\\\\\\\\\\\"column\\\\\\\\\\\\\": {\\\\\\\\\\\\\"type\\\\\\\\\\\\\": 2, \\\\\\\\\\\\\"details\\\\\\\\\\\\\": {\\\\\\\\\\\\\"selectedColumn\\\\\\\\\\\\\": \\\\\\\\\\\\\"Phenotype7\\\\\\\\\\\\\"}}, \\\\\\\\\\\\\"typeProperty\\\\\\\\\\\\\": 3}, {\\\\\\\\\\\\\"column\\\\\\\\\\\\\": {\\\\\\\\\\\\\"type\\\\\\\\\\\\\": 2, \\\\\\\\\\\\\"details\\\\\\\\\\\\\": {\\\\\\\\\\\\\"selectedColumn\\\\\\\\\\\\\": \\\\\\\\\\\\\"Phenotype8\\\\\\\\\\\\\"}}, \\\\\\\\\\\\\"typeProperty\\\\\\\\\\\\\": 3}, {\\\\\\\\\\\\\"column\\\\\\\\\\\\\": {\\\\\\\\\\\\\"type\\\\\\\\\\\\\": 2, \\\\\\\\\\\\\"details\\\\\\\\\\\\\": {\\\\\\\\\\\\\"selectedColumn\\\\\\\\\\\\\": \\\\\\\\\\\\\"Phenotype9\\\\\\\\\\\\\"}}, \\\\\\\\\\\\\"typeProperty\\\\\\\\\\\\\": 3}, {\\\\\\\\\\\\\"column\\\\\\\\\\\\\": {\\\\\\\\\\\\\"type\\\\\\\\\\\\\": 2, \\\\\\\\\\\\\"details\\\\\\\\\\\\\": {\\\\\\\\\\\\\"selectedColumn\\\\\\\\\\\\\": \\\\\\\\\\\\\"Phenotype10\\\\\\\\\\\\\"}}, \\\\\\\\\\\\\"typeProperty\\\\\\\\\\\\\": 3}, {\\\\\\\\\\\\\"column\\\\\\\\\\\\\": {\\\\\\\\\\\\\"type\\\\\\\\\\\\\": 2, \\\\\\\\\\\\\"details\\\\\\\\\\\\\": {\\\\\\\\\\\\\"selectedColumn\\\\\\\\\\\\\": \\\\\\\\\\\\\"Phenotype11\\\\\\\\\\\\\"}}, \\\\\\\\\\\\\"typeProperty\\\\\\\\\\\\\": 3}, {\\\\\\\\\\\\\"column\\\\\\\\\\\\\": {\\\\\\\\\\\\\"type\\\\\\\\\\\\\": 2, \\\\\\\\\\\\\"details\\\\\\\\\\\\\": {\\\\\\\\\\\\\"selectedColumn\\\\\\\\\\\\\": \\\\\\\\\\\\\"Phenotype12\\\\\\\\\\\\\"}}, \\\\\\\\\\\\\"typeProperty\\\\\\\\\\\\\": 3}, {\\\\\\\\\\\\\"column\\\\\\\\\\\\\": {\\\\\\\\\\\\\"type\\\\\\\\\\\\\": 2, \\\\\\\\\\\\\"details\\\\\\\\\\\\\": {\\\\\\\\\\\\\"selectedColumn\\\\\\\\\\\\\": \\\\\\\\\\\\\"Phenotype13\\\\\\\\\\\\\"}}, \\\\\\\\\\\\\"typeProperty\\\\\\\\\\\\\": 3}, {\\\\\\\\\\\\\"column\\\\\\\\\\\\\": {\\\\\\\\\\\\\"type\\\\\\\\\\\\\": 2, \\\\\\\\\\\\\"details\\\\\\\\\\\\\": {\\\\\\\\\\\\\"selectedColumn\\\\\\\\\\\\\": \\\\\\\\\\\\\"Phenotype14\\\\\\\\\\\\\"}}, \\\\\\\\\\\\\"typeProperty\\\\\\\\\\\\\": 3}, {\\\\\\\\\\\\\"column\\\\\\\\\\\\\": {\\\\\\\\\\\\\"type\\\\\\\\\\\\\": 2, \\\\\\\\\\\\\"details\\\\\\\\\\\\\": {\\\\\\\\\\\\\"selectedColumn\\\\\\\\\\\\\": \\\\\\\\\\\\\"Phenotype15\\\\\\\\\\\\\"}}, \\\\\\\\\\\\\"typeProperty\\\\\\\\\\\\\": 3}, {\\\\\\\\\\\\\"column\\\\\\\\\\\\\": {\\\\\\\\\\\\\"type\\\\\\\\\\\\\": 2, \\\\\\\\\\\\\"details\\\\\\\\\\\\\": {\\\\\\\\\\\\\"selectedColumn\\\\\\\\\\\\\": \\\\\\\\\\\\\"Phenotype16\\\\\\\\\\\\\"}}, \\\\\\\\\\\\\"typeProperty\\\\\\\\\\\\\": 3}, {\\\\\\\\\\\\\"column\\\\\\\\\\\\\": {\\\\\\\\\\\\\"type\\\\\\\\\\\\\": 2, \\\\\\\\\\\\\"details\\\\\\\\\\\\\": {\\\\\\\\\\\\\"selectedColumn\\\\\\\\\\\\\": \\\\\\\\\\\\\"Phenotype17\\\\\\\\\\\\\"}}, \\\\\\\\\\\\\"typeProperty\\\\\\\\\\\\\": 3}, {\\\\\\\\\\\\\"column\\\\\\\\\\\\\": {\\\\\\\\\\\\\"type\\\\\\\\\\\\\": 2, \\\\\\\\\\\\\"details\\\\\\\\\\\\\": {\\\\\\\\\\\\\"selectedColumn\\\\\\\\\\\\\": \\\\\\\\\\\\\"Phenotype18\\\\\\\\\\\\\"}}, \\\\\\\\\\\\\"typeProperty\\\\\\\\\\\\\": 3}, {\\\\\\\\\\\\\"column\\\\\\\\\\\\\": {\\\\\\\\\\\\\"type\\\\\\\\\\\\\": 2, \\\\\\\\\\\\\"details\\\\\\\\\\\\\": {\\\\\\\\\\\\\"selectedColumn\\\\\\\\\\\\\": \\\\\\\\\\\\\"Phenotype19\\\\\\\\\\\\\"}}, \\\\\\\\\\\\\"typeProperty\\\\\\\\\\\\\": 3}, {\\\\\\\\\\\\\"column\\\\\\\\\\\\\": {\\\\\\\\\\\\\"type\\\\\\\\\\\\\": 2, \\\\\\\\\\\\\"details\\\\\\\\\\\\\": {\\\\\\\\\\\\\"selectedColumn\\\\\\\\\\\\\": \\\\\\\\\\\\\"Phenotype20\\\\\\\\\\\\\"}}, \\\\\\\\\\\\\"typeProperty\\\\\\\\\\\\\": 3}, {\\\\\\\\\\\\\"column\\\\\\\\\\\\\": {\\\\\\\\\\\\\"type\\\\\\\\\\\\\": 2, \\\\\\\\\\\\\"details\\\\\\\\\\\\\": {\\\\\\\\\\\\\"selectedColumn\\\\\\\\\\\\\": \\\\\\\\\\\\\"Phenotype21\\\\\\\\\\\\\"}}, \\\\\\\\\\\\\"typeProperty\\\\\\\\\\\\\": 3}, {\\\\\\\\\\\\\"column\\\\\\\\\\\\\": {\\\\\\\\\\\\\"type\\\\\\\\\\\\\": 2, \\\\\\\\\\\\\"details\\\\\\\\\\\\\": {\\\\\\\\\\\\\"selectedColumn\\\\\\\\\\\\\": \\\\\\\\\\\\\"Phenotype22\\\\\\\\\\\\\"}}, \\\\\\\\\\\\\"typeProperty\\\\\\\\\\\\\": 3}, {\\\\\\\\\\\\\"column\\\\\\\\\\\\\": {\\\\\\\\\\\\\"type\\\\\\\\\\\\\": 2, \\\\\\\\\\\\\"details\\\\\\\\\\\\\": {\\\\\\\\\\\\\"selectedColumn\\\\\\\\\\\\\": \\\\\\\\\\\\\"Phenotype23\\\\\\\\\\\\\"}}, \\\\\\\\\\\\\"typeProperty\\\\\\\\\\\\\": 3}, {\\\\\\\\\\\\\"column\\\\\\\\\\\\\": {\\\\\\\\\\\\\"type\\\\\\\\\\\\\": 2, \\\\\\\\\\\\\"details\\\\\\\\\\\\\": {\\\\\\\\\\\\\"selectedColumn\\\\\\\\\\\\\": \\\\\\\\\\\\\"Phenotype24\\\\\\\\\\\\\"}}, \\\\\\\\\\\\\"typeProperty\\\\\\\\\\\\\": 3}, {\\\\\\\\\\\\\"column\\\\\\\\\\\\\": {\\\\\\\\\\\\\"type\\\\\\\\\\\\\": 2, \\\\\\\\\\\\\"details\\\\\\\\\\\\\": {\\\\\\\\\\\\\"selectedColumn\\\\\\\\\\\\\": \\\\\\\\\\\\\"Phenotype25\\\\\\\\\\\\\"}}, \\\\\\\\\\\\\"typeProperty\\\\\\\\\\\\\": 3}, {\\\\\\\\\\\\\"column\\\\\\\\\\\\\": {\\\\\\\\\\\\\"type\\\\\\\\\\\\\": 2, \\\\\\\\\\\\\"details\\\\\\\\\\\\\": {\\\\\\\\\\\\\"selectedColumn\\\\\\\\\\\\\": \\\\\\\\\\\\\"Phenotype26\\\\\\\\\\\\\"}}, \\\\\\\\\\\\\"typeProperty\\\\\\\\\\\\\": 3}, {\\\\\\\\\\\\\"column\\\\\\\\\\\\\": {\\\\\\\\\\\\\"type\\\\\\\\\\\\\": 2, \\\\\\\\\\\\\"details\\\\\\\\\\\\\": {\\\\\\\\\\\\\"selectedColumn\\\\\\\\\\\\\": \\\\\\\\\\\\\"Phenotype27\\\\\\\\\\\\\"}}, \\\\\\\\\\\\\"typeProperty\\\\\\\\\\\\\": 3}]}, \\\\\\\\\\\\\"localData\\\\\\\\\\\\\": {}, \\\\\\\\\\\\\"isEnabled\\\\\\\\\\\\\": true, \\\\\\\\\\\\\"name\\\\\\\\\\\\\": null, \\\\\\\\\\\\\"annotation\\\\\\\\\\\\\": null}], \\\\\\\\\\\\\"inspectors\\\\\\\\\\\\\": [], \\\\\\\\\\\\\"meta\\\\\\\\\\\\\": {\\\\\\\\\\\\\"savedDatasetId\\\\\\\\\\\\\": \\\\\\\\\\\\\"5b572d4d-61a5-40e4-b220-0fc3a5070065\\\\\\\\\\\\\", \\\\\\\\\\\\\"datasetType\\\\\\\\\\\\\": \\\\\\\\\\\\\"tabular\\\\\\\\\\\\\", \\\\\\\\\\\\\"subscriptionId\\\\\\\\\\\\\": \\\\\\\\\\\\\"3e42d11f-d64d-4173-af9b-12ecaa1030b3\\\\\\\\\\\\\", \\\\\\\\\\\\\"workspaceId\\\\\\\\\\\\\": \\\\\\\\\\\\\"faaddac1-a395-4b66-8494-b1feff0a296e\\\\\\\\\\\\\", \\\\\\\\\\\\\"workspaceLocation\\\\\\\\\\\\\": \\\\\\\\\\\\\"southcentralus\\\\\\\\\\\\\"}}\\\\\", \\\\\"activities\\\\\": 0}',\n  'EnableSubsampling': None,\n  'runTemplate': 'AutoML',\n  'azureml.runsource': 'automl',\n  'display_task_type': 'classification',\n  'dependencies_versions': '{\"azureml-widgets\": \"1.20.0\", \"azureml-train\": \"1.20.0\", \"azureml-train-restclients-hyperdrive\": \"1.20.0\", \"azureml-train-core\": \"1.20.0\", \"azureml-train-automl\": \"1.20.0\", \"azureml-train-automl-runtime\": \"1.20.0\", \"azureml-train-automl-client\": \"1.20.0\", \"azureml-tensorboard\": \"1.20.0\", \"azureml-telemetry\": \"1.20.0\", \"azureml-sdk\": \"1.20.0\", \"azureml-samples\": \"0+unknown\", \"azureml-pipeline\": \"1.20.0\", \"azureml-pipeline-steps\": \"1.20.0\", \"azureml-pipeline-core\": \"1.20.0\", \"azureml-opendatasets\": \"1.20.0\", \"azureml-model-management-sdk\": \"1.0.1b6.post1\", \"azureml-mlflow\": \"1.20.0.post1\", \"azureml-interpret\": \"1.20.0\", \"azureml-explain-model\": \"1.20.0\", \"azureml-defaults\": \"1.20.0\", \"azureml-dataset-runtime\": \"1.20.0\", \"azureml-dataprep\": \"2.7.3\", \"azureml-dataprep-rslex\": \"1.5.0\", \"azureml-dataprep-native\": \"27.0.0\", \"azureml-datadrift\": \"1.20.0\", \"azureml-core\": \"1.20.0\", \"azureml-contrib-services\": \"1.20.0\", \"azureml-contrib-server\": \"1.20.0\", \"azureml-contrib-reinforcementlearning\": \"1.20.0\", \"azureml-contrib-pipeline-steps\": \"1.20.0\", \"azureml-contrib-notebook\": \"1.20.0\", \"azureml-contrib-interpret\": \"1.20.0\", \"azureml-contrib-gbdt\": \"1.20.0\", \"azureml-contrib-fairness\": \"1.20.0\", \"azureml-contrib-dataset\": \"1.20.0\", \"azureml-cli-common\": \"1.20.0\", \"azureml-automl-runtime\": \"1.20.0\", \"azureml-automl-core\": \"1.20.0\", \"azureml-accel-models\": \"1.20.0\"}',\n  '_aml_system_scenario_identification': 'Remote.Parent',\n  'ClientType': 'SDK',\n  'environment_cpu_name': 'AzureML-AutoML',\n  'environment_cpu_label': 'prod',\n  'environment_gpu_name': 'AzureML-AutoML-GPU',\n  'environment_gpu_label': 'prod',\n  'root_attribution': 'automl',\n  'attribution': 'AutoML',\n  'Orchestrator': 'AutoML',\n  'CancelUri': 'https://southcentralus.experiments.azureml.net/jasmine/v1.0/subscriptions/3e42d11f-d64d-4173-af9b-12ecaa1030b3/resourceGroups/aml-quickstarts-138262/providers/Microsoft.MachineLearningServices/workspaces/quick-starts-ws-138262/experimentids/885555fc-a661-4783-9deb-3e0a2dbc0ebf/cancel/AutoML_28268a08-9643-4d77-84d6-ff7f89e0ec72',\n  'ClientSdkVersion': '1.21.0',\n  'snapshotId': '00000000-0000-0000-0000-000000000000',\n  'SetupRunId': 'AutoML_28268a08-9643-4d77-84d6-ff7f89e0ec72_setup',\n  'SetupRunContainerId': 'dcid.AutoML_28268a08-9643-4d77-84d6-ff7f89e0ec72_setup',\n  'FeaturizationRunJsonPath': 'featurizer_container.json',\n  'FeaturizationRunId': 'AutoML_28268a08-9643-4d77-84d6-ff7f89e0ec72_featurize',\n  'ProblemInfoJsonString': '{\"dataset_num_categorical\": 0, \"is_sparse\": true, \"subsampling\": false, \"dataset_classes\": 3, \"dataset_features\": 51, \"dataset_samples\": 77607, \"single_frequency_class_detected\": false}',\n  'ModelExplainRunId': 'AutoML_28268a08-9643-4d77-84d6-ff7f89e0ec72_ModelExplain'},\n 'inputDatasets': [{'dataset': {'id': '5b572d4d-61a5-40e4-b220-0fc3a5070065'}, 'consumptionDetails': {'type': 'RunInput', 'inputName': 'training_data', 'mechanism': 'Direct'}}],\n 'outputDatasets': [],\n 'logFiles': {},\n 'submittedBy': 'ODL_User 138262'}"
          },
          "metadata": {}
        }
      ],
      "execution_count": 18,
      "metadata": {
        "gather": {
          "logged": 1612884736733
        },
        "jupyter": {
          "outputs_hidden": false,
          "source_hidden": false
        },
        "nteract": {
          "transient": {
            "deleting": false
          }
        }
      }
    },
    {
      "cell_type": "markdown",
      "source": [
        "## Best Model\n",
        "\n",
        "TODO: In the cell below, get the best model from the automl experiments and display all the properties of the model.\n",
        "\n"
      ],
      "metadata": {}
    },
    {
      "cell_type": "code",
      "source": [
        "# Retrieve and save your best automl model.\n",
        "\n",
        "best_run, best_model = auto_ml_run.get_output()\n",
        "\n",
        "best_run_metrics = best_run.get_metrics()\n",
        "for metric_name in best_run_metrics:\n",
        "    metric = best_run_metrics[metric_name]\n",
        "    print(metric_name, metric)\n"
      ],
      "outputs": [
        {
          "output_type": "stream",
          "name": "stderr",
          "text": [
            "WARNING:root:The version of the SDK does not match the version the model was trained on.\n",
            "WARNING:root:The consistency in the result may not be guaranteed.\n",
            "WARNING:root:Package:azureml-automl-core, training version:1.21.0, current version:1.20.0\n",
            "Package:azureml-automl-runtime, training version:1.21.0, current version:1.20.0\n",
            "Package:azureml-core, training version:1.21.0.post1, current version:1.20.0\n",
            "Package:azureml-dataprep, training version:2.8.2, current version:2.7.3\n",
            "Package:azureml-dataprep-native, training version:28.0.0, current version:27.0.0\n",
            "Package:azureml-dataprep-rslex, training version:1.6.0, current version:1.5.0\n",
            "Package:azureml-dataset-runtime, training version:1.21.0, current version:1.20.0\n",
            "Package:azureml-defaults, training version:1.21.0, current version:1.20.0\n",
            "Package:azureml-interpret, training version:1.21.0, current version:1.20.0\n",
            "Package:azureml-pipeline-core, training version:1.21.0, current version:1.20.0\n",
            "Package:azureml-telemetry, training version:1.21.0, current version:1.20.0\n",
            "Package:azureml-train-automl-client, training version:1.21.0, current version:1.20.0\n",
            "Package:azureml-train-automl-runtime, training version:1.21.0, current version:1.20.0\n",
            "WARNING:root:Please ensure the version of your local conda dependencies match the version on which your model was trained in order to properly retrieve your model.\n"
          ]
        },
        {
          "output_type": "stream",
          "name": "stdout",
          "text": [
            "norm_macro_recall 0.69610639627683\n",
            "accuracy 0.9788162943877733\n",
            "precision_score_weighted 0.975797015097897\n",
            "recall_score_micro 0.9788162943877733\n",
            "precision_score_micro 0.9788162943877733\n",
            "f1_score_micro 0.9788162943877733\n",
            "recall_score_macro 0.7974042641845533\n",
            "AUC_weighted 0.9992258632855819\n",
            "f1_score_weighted 0.9765576653431175\n",
            "recall_score_weighted 0.9788162943877733\n",
            "AUC_macro 0.9958976149031014\n",
            "average_precision_score_micro 0.998922409162803\n",
            "precision_score_macro 0.86631292898749\n",
            "average_precision_score_macro 0.8716601930172736\n",
            "weighted_accuracy 0.9939731970116057\n",
            "log_loss 0.046501558149861504\n",
            "AUC_micro 0.9994530173547848\n",
            "f1_score_macro 0.8229774817998374\n",
            "matthews_correlation 0.9588881058847024\n",
            "balanced_accuracy 0.7974042641845533\n",
            "average_precision_score_weighted 0.9895669636024567\n",
            "accuracy_table aml://artifactId/ExperimentRun/dcid.AutoML_28268a08-9643-4d77-84d6-ff7f89e0ec72_28/accuracy_table\n",
            "confusion_matrix aml://artifactId/ExperimentRun/dcid.AutoML_28268a08-9643-4d77-84d6-ff7f89e0ec72_28/confusion_matrix\n"
          ]
        }
      ],
      "execution_count": 19,
      "metadata": {
        "gather": {
          "logged": 1612884820993
        },
        "jupyter": {
          "outputs_hidden": false,
          "source_hidden": false
        },
        "nteract": {
          "transient": {
            "deleting": false
          }
        }
      }
    },
    {
      "cell_type": "code",
      "source": [
        "best_model.steps"
      ],
      "outputs": [
        {
          "output_type": "execute_result",
          "execution_count": 20,
          "data": {
            "text/plain": "[('datatransformer',\n  DataTransformer(enable_dnn=None, enable_feature_sweeping=None,\n                  feature_sweeping_config=None, feature_sweeping_timeout=None,\n                  featurization_config=None, force_text_dnn=None,\n                  is_cross_validation=None, is_onnx_compatible=None, logger=None,\n                  observer=None, task=None, working_dir=None)),\n ('StandardScalerWrapper',\n  <azureml.automl.runtime.shared.model_wrappers.StandardScalerWrapper at 0x7f253a2dae10>),\n ('XGBoostClassifier',\n  XGBoostClassifier(base_score=0.5, booster='gbtree', colsample_bylevel=1,\n                    colsample_bynode=1, colsample_bytree=0.9, eta=0.001, gamma=0,\n                    grow_policy='lossguide', learning_rate=0.1, max_bin=255,\n                    max_delta_step=0, max_depth=10, max_leaves=7,\n                    min_child_weight=1, missing=nan, n_estimators=100, n_jobs=1,\n                    nthread=None, objective='multi:softprob', random_state=0,\n                    reg_alpha=0, reg_lambda=0.20833333333333334,\n                    scale_pos_weight=1, seed=None, silent=None, subsample=0.6,\n                    tree_method='hist', verbose=-10, verbosity=0))]"
          },
          "metadata": {}
        }
      ],
      "execution_count": 20,
      "metadata": {
        "gather": {
          "logged": 1612884836415
        }
      }
    },
    {
      "cell_type": "code",
      "source": [
        "best_run.download_file(\"/outputs/model.pkl\", \"automl_job_classification-best-model.pkl\")"
      ],
      "outputs": [],
      "execution_count": 21,
      "metadata": {
        "gather": {
          "logged": 1612884857073
        },
        "jupyter": {
          "outputs_hidden": false,
          "source_hidden": false
        },
        "nteract": {
          "transient": {
            "deleting": false
          }
        }
      }
    },
    {
      "cell_type": "markdown",
      "source": [
        "## Model Deployment\n",
        "\n",
        "Remember you have to deploy only one of the two models you trained.. Perform the steps in the rest of this notebook only if you wish to deploy this model.\n",
        "\n",
        "TODO: In the cell below, register the model, create an inference config and deploy the model as a web service."
      ],
      "metadata": {}
    },
    {
      "cell_type": "code",
      "source": [
        "model = best_run.register_model(experiment_name+\"-model\", model_path=\"outputs/model.pkl\")\n"
      ],
      "outputs": [],
      "execution_count": 22,
      "metadata": {
        "gather": {
          "logged": 1612884870812
        },
        "jupyter": {
          "outputs_hidden": false,
          "source_hidden": false
        },
        "nteract": {
          "transient": {
            "deleting": false
          }
        }
      }
    },
    {
      "cell_type": "code",
      "source": [
        "best_run.download_file('outputs/model.pkl', './model.pkl')"
      ],
      "outputs": [],
      "execution_count": 24,
      "metadata": {
        "gather": {
          "logged": 1612884885867
        }
      }
    },
    {
      "cell_type": "code",
      "source": [
        "best_run.download_file('outputs/scoring_file_v_1_0_0.py', './score.py')"
      ],
      "outputs": [],
      "execution_count": 26,
      "metadata": {
        "gather": {
          "logged": 1612884913477
        }
      }
    },
    {
      "cell_type": "code",
      "source": [
        "inference_config = InferenceConfig(entry_script='./score.py')\n",
        "\n",
        "service = Model.deploy(ws, experiment_name+\"-service\", [model], inference_config, overwrite=True)\n",
        "service.wait_for_deployment(show_output = True)\n",
        "print(service.state)"
      ],
      "outputs": [
        {
          "output_type": "stream",
          "name": "stdout",
          "text": [
            "Tips: You can try get_logs(): https://aka.ms/debugimage#dockerlog or local deployment: https://aka.ms/debugimage#debug-locally to debug if deployment takes longer than 10 minutes.\n",
            "Running..............................................\n",
            "Succeeded\n",
            "ACI service creation operation finished, operation \"Succeeded\"\n",
            "Healthy\n"
          ]
        }
      ],
      "execution_count": 29,
      "metadata": {
        "gather": {
          "logged": 1612885413474
        }
      }
    },
    {
      "cell_type": "markdown",
      "source": [
        "TODO: In the cell below, send a request to the web service you deployed to test it."
      ],
      "metadata": {
        "collapsed": true,
        "gather": {
          "logged": 1598431657736
        },
        "jupyter": {
          "outputs_hidden": false,
          "source_hidden": false
        },
        "nteract": {
          "transient": {
            "deleting": false
          }
        }
      }
    },
    {
      "cell_type": "code",
      "source": [
        "!python endpoint.py"
      ],
      "outputs": [
        {
          "output_type": "stream",
          "name": "stdout",
          "text": [
            "b'\"{\\\\\"result\\\\\": [\\\\\"Disease\\\\\"]}\"'\r\n"
          ]
        }
      ],
      "execution_count": 33,
      "metadata": {}
    },
    {
      "cell_type": "markdown",
      "source": [
        "TODO: In the cell below, print the logs of the web service and delete the service"
      ],
      "metadata": {
        "collapsed": true,
        "gather": {
          "logged": 1598432765711
        },
        "jupyter": {
          "outputs_hidden": false,
          "source_hidden": false
        },
        "nteract": {
          "transient": {
            "deleting": false
          }
        }
      }
    },
    {
      "cell_type": "code",
      "source": [
        "service.update(enable_app_insights=True)\n",
        "service.get_logs()"
      ],
      "outputs": [
        {
          "output_type": "execute_result",
          "execution_count": 34,
          "data": {
            "text/plain": "'2021-02-09T15:41:55,742627800+00:00 - iot-server/run \\n2021-02-09T15:41:55,839630500+00:00 - rsyslog/run \\n2021-02-09T15:41:55,852329000+00:00 - nginx/run \\n/usr/sbin/nginx: /azureml-envs/azureml_20a8278aa8b20dd48cc50f56a6d2586c/lib/libcrypto.so.1.0.0: no version information available (required by /usr/sbin/nginx)\\n/usr/sbin/nginx: /azureml-envs/azureml_20a8278aa8b20dd48cc50f56a6d2586c/lib/libcrypto.so.1.0.0: no version information available (required by /usr/sbin/nginx)\\n/usr/sbin/nginx: /azureml-envs/azureml_20a8278aa8b20dd48cc50f56a6d2586c/lib/libssl.so.1.0.0: no version information available (required by /usr/sbin/nginx)\\n/usr/sbin/nginx: /azureml-envs/azureml_20a8278aa8b20dd48cc50f56a6d2586c/lib/libssl.so.1.0.0: no version information available (required by /usr/sbin/nginx)\\n/usr/sbin/nginx: /azureml-envs/azureml_20a8278aa8b20dd48cc50f56a6d2586c/lib/libssl.so.1.0.0: no version information available (required by /usr/sbin/nginx)\\n2021-02-09T15:41:55,959736200+00:00 - gunicorn/run \\nrsyslogd: /azureml-envs/azureml_20a8278aa8b20dd48cc50f56a6d2586c/lib/libuuid.so.1: no version information available (required by rsyslogd)\\nEdgeHubConnectionString and IOTEDGE_IOTHUBHOSTNAME are not set. Exiting...\\n2021-02-09T15:42:03,039465400+00:00 - iot-server/finish 1 0\\n2021-02-09T15:42:03,041143500+00:00 - Exit code 1 is normal. Not restarting iot-server.\\nStarting gunicorn 19.9.0\\nListening at: http://127.0.0.1:31311 (63)\\nUsing worker: sync\\nworker timeout is set to 300\\nBooting worker with pid: 97\\nSPARK_HOME not set. Skipping PySpark Initialization.\\nGenerating new fontManager, this may take some time...\\nInitializing logger\\n2021-02-09 15:42:32,558 | root | INFO | Starting up app insights client\\n2021-02-09 15:42:32,560 | root | INFO | Starting up request id generator\\n2021-02-09 15:42:32,560 | root | INFO | Starting up app insight hooks\\n2021-02-09 15:42:32,561 | root | INFO | Invoking user\\'s init function\\n2021-02-09 15:43:27,757 | root | INFO | Users\\'s init has completed successfully\\n2021-02-09 15:43:27,941 | root | INFO | Skipping middleware: dbg_model_info as it\\'s not enabled.\\n2021-02-09 15:43:27,942 | root | INFO | Skipping middleware: dbg_resource_usage as it\\'s not enabled.\\n2021-02-09 15:43:27,969 | root | INFO | Scoring timeout is found from os.environ: 60000 ms\\n2021-02-09 15:43:29,361 | root | INFO | 200\\n127.0.0.1 - - [09/Feb/2021:15:43:29 +0000] \"GET /swagger.json HTTP/1.0\" 200 4062 \"-\" \"Go-http-client/1.1\"\\n2021-02-09 15:43:32,371 | root | INFO | 200\\n127.0.0.1 - - [09/Feb/2021:15:43:32 +0000] \"GET /swagger.json HTTP/1.0\" 200 4062 \"-\" \"Go-http-client/1.1\"\\n2021-02-09 15:44:05,693 | root | INFO | 200\\n127.0.0.1 - - [09/Feb/2021:15:44:05 +0000] \"GET /swagger.json HTTP/1.0\" 200 4062 \"-\" \"Go-http-client/1.1\"\\n2021-02-09 15:44:06,664 | root | INFO | 200\\n127.0.0.1 - - [09/Feb/2021:15:44:06 +0000] \"GET /swagger.json HTTP/1.0\" 200 4062 \"-\" \"Go-http-client/1.1\"\\n2021-02-09 15:51:05,971 | root | INFO | 200\\n127.0.0.1 - - [09/Feb/2021:15:51:05 +0000] \"GET /swagger.json HTTP/1.0\" 200 4062 \"-\" \"Go-http-client/1.1\"\\n2021-02-09 15:51:06,484 | root | INFO | 200\\n127.0.0.1 - - [09/Feb/2021:15:51:06 +0000] \"GET /swagger.json HTTP/1.0\" 200 4062 \"-\" \"Go-http-client/1.1\"\\n2021-02-09 15:51:09,575 | root | INFO | 200\\n127.0.0.1 - - [09/Feb/2021:15:51:09 +0000] \"GET /swagger.json HTTP/1.0\" 200 4062 \"-\" \"Mozilla/5.0 (Windows NT 10.0; Win64; x64) AppleWebKit/537.36 (KHTML, like Gecko) Chrome/86.0.4240.75 Safari/537.36\"\\n127.0.0.1 - - [09/Feb/2021:15:51:09 +0000] \"GET /favicon.ico HTTP/1.0\" 404 232 \"http://5af42fb2-502b-4281-8a72-64f5722f362f.southcentralus.azurecontainer.io/swagger.json\" \"Mozilla/5.0 (Windows NT 10.0; Win64; x64) AppleWebKit/537.36 (KHTML, like Gecko) Chrome/86.0.4240.75 Safari/537.36\"\\n2021-02-09 15:51:39,533 | root | INFO | 200\\n127.0.0.1 - - [09/Feb/2021:15:51:39 +0000] \"GET /swagger.json HTTP/1.0\" 200 4062 \"-\" \"Go-http-client/1.1\"\\n2021-02-09 15:51:39,799 | root | INFO | 200\\n127.0.0.1 - - [09/Feb/2021:15:51:39 +0000] \"GET /swagger.json HTTP/1.0\" 200 4062 \"-\" \"Go-http-client/1.1\"\\n2021-02-09 15:52:48,279 | root | INFO | Validation Request Content-Type\\n2021-02-09 15:52:48,290 | root | ERROR | Encountered Exception: Traceback (most recent call last):\\n  File \"/azureml-envs/azureml_20a8278aa8b20dd48cc50f56a6d2586c/lib/python3.6/site-packages/flask/wrappers.py\", line 74, in get_json\\n    rv = json.loads(data)\\n  File \"/azureml-envs/azureml_20a8278aa8b20dd48cc50f56a6d2586c/lib/python3.6/site-packages/flask/json/__init__.py\", line 236, in loads\\n    return _json.loads(s, **kwargs)\\n  File \"/azureml-envs/azureml_20a8278aa8b20dd48cc50f56a6d2586c/lib/python3.6/json/__init__.py\", line 367, in loads\\n    return cls(**kw).decode(s)\\n  File \"/azureml-envs/azureml_20a8278aa8b20dd48cc50f56a6d2586c/lib/python3.6/json/decoder.py\", line 339, in decode\\n    obj, end = self.raw_decode(s, idx=_w(s, 0).end())\\n  File \"/azureml-envs/azureml_20a8278aa8b20dd48cc50f56a6d2586c/lib/python3.6/json/decoder.py\", line 357, in raw_decode\\n    raise JSONDecodeError(\"Expecting value\", s, err.value) from None\\njson.decoder.JSONDecodeError: Expecting value: line 1 column 1 (char 0)\\n\\nDuring handling of the above exception, another exception occurred:\\n\\nTraceback (most recent call last):\\n  File \"/azureml-envs/azureml_20a8278aa8b20dd48cc50f56a6d2586c/lib/python3.6/site-packages/flask/app.py\", line 1832, in full_dispatch_request\\n    rv = self.dispatch_request()\\n  File \"/azureml-envs/azureml_20a8278aa8b20dd48cc50f56a6d2586c/lib/python3.6/site-packages/flask/app.py\", line 1818, in dispatch_request\\n    return self.view_functions[rule.endpoint](**req.view_args)\\n  File \"/var/azureml-server/synchronous/routes.py\", line 37, in score_realtime\\n    service_input = request.get_json()\\n  File \"/azureml-envs/azureml_20a8278aa8b20dd48cc50f56a6d2586c/lib/python3.6/site-packages/flask/wrappers.py\", line 82, in get_json\\n    rv = self.on_json_loading_failed(e)\\n  File \"/azureml-envs/azureml_20a8278aa8b20dd48cc50f56a6d2586c/lib/python3.6/site-packages/flask/wrappers.py\", line 108, in on_json_loading_failed\\n    raise BadRequest()\\nwerkzeug.exceptions.BadRequest: 400 Bad Request: The browser (or proxy) sent a request that this server could not understand.\\n\\n2021-02-09 15:52:48,291 | root | INFO | 500\\n127.0.0.1 - - [09/Feb/2021:15:52:48 +0000] \"POST /score HTTP/1.0\" 500 2067 \"-\" \"python-requests/2.25.1\"\\n2021-02-09 15:52:48,300 | root | INFO | Validation Request Content-Type\\n2021-02-09 15:52:48,301 | root | ERROR | Encountered Exception: Traceback (most recent call last):\\n  File \"/azureml-envs/azureml_20a8278aa8b20dd48cc50f56a6d2586c/lib/python3.6/site-packages/flask/wrappers.py\", line 74, in get_json\\n    rv = json.loads(data)\\n  File \"/azureml-envs/azureml_20a8278aa8b20dd48cc50f56a6d2586c/lib/python3.6/site-packages/flask/json/__init__.py\", line 236, in loads\\n    return _json.loads(s, **kwargs)\\n  File \"/azureml-envs/azureml_20a8278aa8b20dd48cc50f56a6d2586c/lib/python3.6/json/__init__.py\", line 367, in loads\\n    return cls(**kw).decode(s)\\n  File \"/azureml-envs/azureml_20a8278aa8b20dd48cc50f56a6d2586c/lib/python3.6/json/decoder.py\", line 339, in decode\\n    obj, end = self.raw_decode(s, idx=_w(s, 0).end())\\n  File \"/azureml-envs/azureml_20a8278aa8b20dd48cc50f56a6d2586c/lib/python3.6/json/decoder.py\", line 357, in raw_decode\\n    raise JSONDecodeError(\"Expecting value\", s, err.value) from None\\njson.decoder.JSONDecodeError: Expecting value: line 1 column 1 (char 0)\\n\\nDuring handling of the above exception, another exception occurred:\\n\\nTraceback (most recent call last):\\n  File \"/azureml-envs/azureml_20a8278aa8b20dd48cc50f56a6d2586c/lib/python3.6/site-packages/flask/app.py\", line 1832, in full_dispatch_request\\n    rv = self.dispatch_request()\\n  File \"/azureml-envs/azureml_20a8278aa8b20dd48cc50f56a6d2586c/lib/python3.6/site-packages/flask/app.py\", line 1818, in dispatch_request\\n    return self.view_functions[rule.endpoint](**req.view_args)\\n  File \"/var/azureml-server/synchronous/routes.py\", line 37, in score_realtime\\n    service_input = request.get_json()\\n  File \"/azureml-envs/azureml_20a8278aa8b20dd48cc50f56a6d2586c/lib/python3.6/site-packages/flask/wrappers.py\", line 82, in get_json\\n    rv = self.on_json_loading_failed(e)\\n  File \"/azureml-envs/azureml_20a8278aa8b20dd48cc50f56a6d2586c/lib/python3.6/site-packages/flask/wrappers.py\", line 108, in on_json_loading_failed\\n    raise BadRequest()\\nwerkzeug.exceptions.BadRequest: 400 Bad Request: The browser (or proxy) sent a request that this server could not understand.\\n\\n2021-02-09 15:52:48,301 | root | INFO | 500\\n127.0.0.1 - - [09/Feb/2021:15:52:48 +0000] \"POST /score HTTP/1.0\" 500 2067 \"-\" \"python-requests/2.25.1\"\\n2021-02-09 15:52:49,310 | root | INFO | Validation Request Content-Type\\n2021-02-09 15:52:49,311 | root | ERROR | Encountered Exception: Traceback (most recent call last):\\n  File \"/azureml-envs/azureml_20a8278aa8b20dd48cc50f56a6d2586c/lib/python3.6/site-packages/flask/wrappers.py\", line 74, in get_json\\n    rv = json.loads(data)\\n  File \"/azureml-envs/azureml_20a8278aa8b20dd48cc50f56a6d2586c/lib/python3.6/site-packages/flask/json/__init__.py\", line 236, in loads\\n    return _json.loads(s, **kwargs)\\n  File \"/azureml-envs/azureml_20a8278aa8b20dd48cc50f56a6d2586c/lib/python3.6/json/__init__.py\", line 367, in loads\\n    return cls(**kw).decode(s)\\n  File \"/azureml-envs/azureml_20a8278aa8b20dd48cc50f56a6d2586c/lib/python3.6/json/decoder.py\", line 339, in decode\\n    obj, end = self.raw_decode(s, idx=_w(s, 0).end())\\n  File \"/azureml-envs/azureml_20a8278aa8b20dd48cc50f56a6d2586c/lib/python3.6/json/decoder.py\", line 357, in raw_decode\\n    raise JSONDecodeError(\"Expecting value\", s, err.value) from None\\njson.decoder.JSONDecodeError: Expecting value: line 1 column 1 (char 0)\\n\\nDuring handling of the above exception, another exception occurred:\\n\\nTraceback (most recent call last):\\n  File \"/azureml-envs/azureml_20a8278aa8b20dd48cc50f56a6d2586c/lib/python3.6/site-packages/flask/app.py\", line 1832, in full_dispatch_request\\n    rv = self.dispatch_request()\\n  File \"/azureml-envs/azureml_20a8278aa8b20dd48cc50f56a6d2586c/lib/python3.6/site-packages/flask/app.py\", line 1818, in dispatch_request\\n    return self.view_functions[rule.endpoint](**req.view_args)\\n  File \"/var/azureml-server/synchronous/routes.py\", line 37, in score_realtime\\n    service_input = request.get_json()\\n  File \"/azureml-envs/azureml_20a8278aa8b20dd48cc50f56a6d2586c/lib/python3.6/site-packages/flask/wrappers.py\", line 82, in get_json\\n    rv = self.on_json_loading_failed(e)\\n  File \"/azureml-envs/azureml_20a8278aa8b20dd48cc50f56a6d2586c/lib/python3.6/site-packages/flask/wrappers.py\", line 108, in on_json_loading_failed\\n    raise BadRequest()\\nwerkzeug.exceptions.BadRequest: 400 Bad Request: The browser (or proxy) sent a request that this server could not understand.\\n\\n2021-02-09 15:52:49,311 | root | INFO | 500\\n127.0.0.1 - - [09/Feb/2021:15:52:49 +0000] \"POST /score HTTP/1.0\" 500 2067 \"-\" \"python-requests/2.25.1\"\\n2021-02-09 15:52:51,331 | root | INFO | Validation Request Content-Type\\n2021-02-09 15:52:51,332 | root | ERROR | Encountered Exception: Traceback (most recent call last):\\n  File \"/azureml-envs/azureml_20a8278aa8b20dd48cc50f56a6d2586c/lib/python3.6/site-packages/flask/wrappers.py\", line 74, in get_json\\n    rv = json.loads(data)\\n  File \"/azureml-envs/azureml_20a8278aa8b20dd48cc50f56a6d2586c/lib/python3.6/site-packages/flask/json/__init__.py\", line 236, in loads\\n    return _json.loads(s, **kwargs)\\n  File \"/azureml-envs/azureml_20a8278aa8b20dd48cc50f56a6d2586c/lib/python3.6/json/__init__.py\", line 367, in loads\\n    return cls(**kw).decode(s)\\n  File \"/azureml-envs/azureml_20a8278aa8b20dd48cc50f56a6d2586c/lib/python3.6/json/decoder.py\", line 339, in decode\\n    obj, end = self.raw_decode(s, idx=_w(s, 0).end())\\n  File \"/azureml-envs/azureml_20a8278aa8b20dd48cc50f56a6d2586c/lib/python3.6/json/decoder.py\", line 357, in raw_decode\\n    raise JSONDecodeError(\"Expecting value\", s, err.value) from None\\njson.decoder.JSONDecodeError: Expecting value: line 1 column 1 (char 0)\\n\\nDuring handling of the above exception, another exception occurred:\\n\\nTraceback (most recent call last):\\n  File \"/azureml-envs/azureml_20a8278aa8b20dd48cc50f56a6d2586c/lib/python3.6/site-packages/flask/app.py\", line 1832, in full_dispatch_request\\n    rv = self.dispatch_request()\\n  File \"/azureml-envs/azureml_20a8278aa8b20dd48cc50f56a6d2586c/lib/python3.6/site-packages/flask/app.py\", line 1818, in dispatch_request\\n    return self.view_functions[rule.endpoint](**req.view_args)\\n  File \"/var/azureml-server/synchronous/routes.py\", line 37, in score_realtime\\n    service_input = request.get_json()\\n  File \"/azureml-envs/azureml_20a8278aa8b20dd48cc50f56a6d2586c/lib/python3.6/site-packages/flask/wrappers.py\", line 82, in get_json\\n    rv = self.on_json_loading_failed(e)\\n  File \"/azureml-envs/azureml_20a8278aa8b20dd48cc50f56a6d2586c/lib/python3.6/site-packages/flask/wrappers.py\", line 108, in on_json_loading_failed\\n    raise BadRequest()\\nwerkzeug.exceptions.BadRequest: 400 Bad Request: The browser (or proxy) sent a request that this server could not understand.\\n\\n2021-02-09 15:52:51,339 | root | INFO | 500\\n127.0.0.1 - - [09/Feb/2021:15:52:51 +0000] \"POST /score HTTP/1.0\" 500 2067 \"-\" \"python-requests/2.25.1\"\\n2021-02-09 15:54:00,427 | root | INFO | Validation Request Content-Type\\n2021-02-09 15:54:00,434 | root | INFO | Scoring Timer is set to 60.0 seconds\\n2021-02-09 15:54:01,858 | root | INFO | 200\\n127.0.0.1 - - [09/Feb/2021:15:54:01 +0000] \"POST /score HTTP/1.0\" 200 29 \"-\" \"Python-urllib/3.6\"\\n2021-02-09 15:54:22,716 | root | INFO | 200\\n127.0.0.1 - - [09/Feb/2021:15:54:22 +0000] \"GET /swagger.json HTTP/1.0\" 200 4062 \"-\" \"Go-http-client/1.1\"\\n'"
          },
          "metadata": {}
        }
      ],
      "execution_count": 34,
      "metadata": {
        "jupyter": {
          "outputs_hidden": false,
          "source_hidden": false
        },
        "nteract": {
          "transient": {
            "deleting": false
          }
        },
        "gather": {
          "logged": 1612886064139
        }
      }
    },
    {
      "cell_type": "code",
      "source": [
        "service.delete()"
      ],
      "outputs": [],
      "execution_count": 40,
      "metadata": {
        "collapsed": true,
        "jupyter": {
          "source_hidden": false,
          "outputs_hidden": false
        },
        "nteract": {
          "transient": {
            "deleting": false
          }
        },
        "gather": {
          "logged": 1612889440810
        }
      }
    },
    {
      "cell_type": "code",
      "source": [],
      "outputs": [],
      "execution_count": null,
      "metadata": {
        "collapsed": true,
        "jupyter": {
          "source_hidden": false,
          "outputs_hidden": false
        },
        "nteract": {
          "transient": {
            "deleting": false
          }
        }
      }
    }
  ],
  "metadata": {
    "kernel_info": {
      "name": "python3"
    },
    "kernelspec": {
      "name": "python3",
      "language": "python",
      "display_name": "Python 3"
    },
    "language_info": {
      "name": "python",
      "version": "3.6.9",
      "mimetype": "text/x-python",
      "codemirror_mode": {
        "name": "ipython",
        "version": 3
      },
      "pygments_lexer": "ipython3",
      "nbconvert_exporter": "python",
      "file_extension": ".py"
    },
    "nteract": {
      "version": "nteract-front-end@1.0.0"
    }
  },
  "nbformat": 4,
  "nbformat_minor": 2
}